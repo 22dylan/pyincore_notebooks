{
 "cells": [
  {
   "cell_type": "markdown",
   "id": "bright-niagara",
   "metadata": {},
   "source": [
    "<a id='plotting'></a>\n",
    "***\n",
    "<h2><center> Plotting Results </center><h2>"
   ]
  },
  {
   "cell_type": "code",
   "execution_count": null,
   "id": "aggressive-flower",
   "metadata": {},
   "outputs": [],
   "source": [
    "import os\n",
    "import pandas as pd\n",
    "import geopandas as gpd\n",
    "import contextily as ctx\n",
    "import numpy as np\n",
    "import matplotlib.pyplot as plt\n",
    "from matplotlib.ticker import FuncFormatter\n",
    "\n",
    "plt.rcParams[\"figure.figsize\"]=20,20\n",
    "\n",
    "from pyincore import IncoreClient, Dataset, FragilityService, MappingSet, DataService\n",
    "from pyincore.analyses.buildingdamage import BuildingDamage\n",
    "from pyincore.analyses.cumulativebuildingdamage import CumulativeBuildingDamage\n",
    "from pyincore.analyses.populationdislocation import PopulationDislocation, PopulationDislocationUtil\n",
    "from pyincore.analyses.housingunitallocation import HousingUnitAllocation\n",
    "client = IncoreClient()"
   ]
  },
  {
   "cell_type": "markdown",
   "id": "leading-missile",
   "metadata": {},
   "source": [
    "###### LOADING THE SOLUTION FILES"
   ]
  },
  {
   "cell_type": "code",
   "execution_count": null,
   "id": "swiss-novelty",
   "metadata": {},
   "outputs": [],
   "source": [
    "qt500 = pd.read_csv(\"Optimization_Model/seaside_qt_data_500.csv\")\n",
    "qt1000 = pd.read_csv(\"Optimization_Model/seaside_qt_data_1000.csv\")\n",
    "sc500 = pd.read_csv(\"Optimization_Model/seaside_sc_data_500.csv\")\n",
    "sc1000 = pd.read_csv(\"Optimization_Model/seaside_sc_data_1000.csv\")"
   ]
  },
  {
   "cell_type": "code",
   "execution_count": null,
   "id": "amber-consistency",
   "metadata": {},
   "outputs": [],
   "source": [
    "yr500B20 = pd.read_csv(\"Optimization_Model/500_yr_Results/results_B20_.csv\")\n",
    "yr500B40 = pd.read_csv(\"Optimization_Model/500_yr_Results/results_B40_.csv\")\n",
    "yr500B60 = pd.read_csv(\"Optimization_Model/500_yr_Results/results_B60_.csv\")\n",
    "yr1000B20 = pd.read_csv(\"Optimization_Model/1000_yr_Results/results_B20_.csv\")\n",
    "yr1000B40 = pd.read_csv(\"Optimization_Model/1000_yr_Results/results_B40_.csv\")\n",
    "yr1000B60 = pd.read_csv(\"Optimization_Model/1000_yr_Results/results_B60_.csv\")"
   ]
  },
  {
   "cell_type": "code",
   "execution_count": null,
   "id": "finite-vegetable",
   "metadata": {},
   "outputs": [],
   "source": [
    "def optimal_points(list_loss,list_dislocation,list_func):\n",
    "    \n",
    "    \"\"\"\n",
    "    This funciton is  to select the optimal points of objective function  from feasible points\n",
    "    input: \n",
    "    list_loss: list of economic values \n",
    "    list_dislocation: list of population dislocation values\n",
    "    list_func: list of functionality values\n",
    "    return:\n",
    "    loss_optimal: list of optimal values of economic loss\n",
    "    dislocation_optimal:list of optimal values of population dislocatio\n",
    "    func_optimal:list of optimal values of funcitonality\n",
    "    \n",
    "    \"\"\" \n",
    "    \n",
    "    l_com = []\n",
    "    for i in range(0,len(list_loss)):\n",
    "        l_com.append(tuple([list_loss[i],list_dislocation[i],list_func[i]]))\n",
    "    # remove the repeated the points\n",
    "    set_com = set(l_com)\n",
    "    \n",
    "    # change the set to list\n",
    "    list_temp = []\n",
    "    for x in set_com:\n",
    "        list_temp.append(x)\n",
    "    #print(\"new order:\")\n",
    "    #print(list_temp)\n",
    "    # if loss and dislocation values  are same as the last loop, find the best value for functionality\n",
    "    final_f = []\n",
    "    f_temp = []\n",
    "    for i in range(len(list_temp)): \n",
    "        for j in range(i+1,len(list_temp)):\n",
    "            if list_temp[i][0] == list_temp[j][0] and list_temp[i][1] ==  list_temp[j][1]:\n",
    "                if list_temp[i][2] > list_temp[j][2]:\n",
    "                    f_temp.append(list_temp[i])\n",
    "                    \n",
    "                elif list_temp[j][2] > list_temp[i][2]:\n",
    "                    f_temp.append(list_temp[j])\n",
    "    final_f = list(set(list_temp) - set(f_temp))\n",
    "    #print(\"functionality\")\n",
    "    #print(final_f)\n",
    "    \n",
    "    # find the optimal value for dislocation if loss and functionality are same as the last loop\n",
    "    final_d = []  \n",
    "    d_temp = []\n",
    "    for i in range(len(final_f)):\n",
    "        for j in range(i+1,len(final_f)):\n",
    "            if final_f[i][0] == final_f[j][0] and final_f[i][2] ==  final_f[j][2]:\n",
    "                if final_f[i][1] < final_f[j][1]:\n",
    "                    d_temp.append(final_f[j])\n",
    "                elif final_f[i][1] > final_f[j][1]:\n",
    "                    d_temp.append(final_f[i]) \n",
    "          \n",
    "    final_d = list(set(final_f) - set(d_temp))\n",
    "    #print('dislocation')\n",
    "    #print(final_d)\n",
    "    \n",
    "    # find the optimal value for loss if dislocation and functionality are same as the last loop\n",
    "    final_l = []\n",
    "    l_temp = []\n",
    "    for i in range(len(final_d)):\n",
    "        for j in range(i+1,len(final_d)):\n",
    "            if final_d[i][1] == final_d[j][1] and final_d[i][2] ==  final_d[j][2]:\n",
    "                if final_d[i][0] < final_d[j][0]:\n",
    "                    l_temp.append(final_d[j])\n",
    "                elif final_d[i][0] > final_d[j][0]:\n",
    "                    l_temp.append(final_d[i]) \n",
    "    final_l = list(set(final_d) - set(l_temp))\n",
    "    \n",
    "    #print('loss')\n",
    "    #print(final_l)        \n",
    "    loss_optimal = []\n",
    "    dislocation_optimal = []\n",
    "    func_optimal = []\n",
    "    for x in final_l:\n",
    "        loss_optimal.append(x[0])\n",
    "        dislocation_optimal.append(x[1])\n",
    "        func_optimal.append(x[2])\n",
    "        \n",
    "    return loss_optimal,dislocation_optimal,func_optimal\n",
    "\n",
    "# adding formatting to make plots show $ and millions\n",
    "def millions(x, pos):\n",
    "    return '$%1.0fM' % (x*1e-6)\n",
    "formatter = FuncFormatter(millions)\n"
   ]
  },
  {
   "cell_type": "code",
   "execution_count": null,
   "id": "silver-audience",
   "metadata": {},
   "outputs": [],
   "source": [
    "loss_500optimal20 = yr500B20['Economic_loss']\n",
    "dislocation_500optimal20 = yr500B20['Dislocation']\n",
    "func_500optimal20 = yr500B20['Functionality']\n",
    "loss_500optimal40 = yr500B40['Economic_loss']\n",
    "dislocation_500optimal40 = yr500B40['Dislocation']\n",
    "func_500optimal40 = yr500B40['Functionality']\n",
    "loss_500optimal60 = yr500B60['Economic_loss']\n",
    "dislocation_500optimal60 = yr500B60['Dislocation']\n",
    "func_500optimal60 = yr500B60['Functionality']"
   ]
  },
  {
   "cell_type": "code",
   "execution_count": null,
   "id": "split-brain",
   "metadata": {},
   "outputs": [],
   "source": [
    "loss_1000optimal20 = yr1000B20['Economic_loss']\n",
    "dislocation_1000optimal20 = yr1000B20['Dislocation']\n",
    "func_1000optimal20 = yr1000B20['Functionality']\n",
    "loss_1000optimal40 = yr1000B40['Economic_loss']\n",
    "dislocation_1000optimal40 = yr1000B40['Dislocation']\n",
    "func_1000optimal40 = yr1000B40['Functionality']\n",
    "loss_1000optimal60 = yr1000B60['Economic_loss']\n",
    "dislocation_1000optimal60 = yr1000B60['Dislocation']\n",
    "func_1000optimal60 = yr1000B60['Functionality']"
   ]
  },
  {
   "cell_type": "markdown",
   "id": "expected-austin",
   "metadata": {},
   "source": [
    "CHOOSING JUST THE OPTIMAL VALUES OF ALL SOLUTIONS"
   ]
  },
  {
   "cell_type": "code",
   "execution_count": null,
   "id": "convertible-impact",
   "metadata": {},
   "outputs": [],
   "source": [
    "loss_500optimal20, dislocation_500optimal20,func_500optimal20 = optimal_points(loss_500optimal20,dislocation_500optimal20,func_500optimal20)\n",
    "loss_500optimal40, dislocation_500optimal40,func_500optimal40 = optimal_points(loss_500optimal40,dislocation_500optimal40,func_500optimal40)\n",
    "loss_500optimal60, dislocation_500optimal60,func_500optimal60 = optimal_points(loss_500optimal60,dislocation_500optimal60,func_500optimal60)"
   ]
  },
  {
   "cell_type": "code",
   "execution_count": null,
   "id": "unusual-weekend",
   "metadata": {},
   "outputs": [],
   "source": [
    "loss_1000optimal20, dislocation_1000optimal20,func_1000optimal20 = optimal_points(loss_1000optimal20,dislocation_1000optimal20,func_1000optimal20)\n",
    "loss_1000optimal40, dislocation_1000optimal40,func_1000optimal40 = optimal_points(loss_1000optimal40,dislocation_1000optimal40,func_1000optimal40)\n",
    "loss_1000optimal60, dislocation_1000optimal60,func_1000optimal60 = optimal_points(loss_1000optimal60,dislocation_1000optimal60,func_1000optimal60)"
   ]
  },
  {
   "cell_type": "markdown",
   "id": "finished-brazil",
   "metadata": {},
   "source": [
    "##### 20% Budget Options ($40,000,000)"
   ]
  },
  {
   "cell_type": "markdown",
   "id": "timely-nurse",
   "metadata": {},
   "source": [
    "#### 500 year event"
   ]
  },
  {
   "cell_type": "code",
   "execution_count": null,
   "id": "objective-lunch",
   "metadata": {},
   "outputs": [],
   "source": [
    "print(\"Range of Repair Time:\",min(func_500optimal20),\",\",max(func_500optimal20))\n",
    "print(\"Range of Population Dislocation:\",min(dislocation_500optimal20),\",\",max(dislocation_500optimal20))\n",
    "print(\"Range of Economic loss($Million Dollar):\",min(loss_500optimal20),\",\",max(loss_500optimal20))"
   ]
  },
  {
   "cell_type": "markdown",
   "id": "standard-equilibrium",
   "metadata": {},
   "source": [
    "#### 1000 year event"
   ]
  },
  {
   "cell_type": "code",
   "execution_count": null,
   "id": "alone-market",
   "metadata": {},
   "outputs": [],
   "source": [
    "print(\"Range of Repair Time:\",min(func_1000optimal20),\",\",max(func_1000optimal20))\n",
    "print(\"Range of Population Dislocation:\",min(dislocation_1000optimal20),\",\",max(dislocation_1000optimal20))\n",
    "print(\"Range of Economic loss($Million Dollar):\",min(loss_1000optimal20),\",\",max(loss_1000optimal20))"
   ]
  },
  {
   "cell_type": "markdown",
   "id": "cutting-healthcare",
   "metadata": {},
   "source": [
    "##### 40% Budget Options ($80,000,000)"
   ]
  },
  {
   "cell_type": "markdown",
   "id": "interpreted-convergence",
   "metadata": {},
   "source": [
    "#### 500 year event"
   ]
  },
  {
   "cell_type": "code",
   "execution_count": null,
   "id": "broadband-charge",
   "metadata": {},
   "outputs": [],
   "source": [
    "print(\"Range of Repair Time:\",min(func_500optimal40),\",\",max(func_500optimal40))\n",
    "print(\"Range of Population Dislocation:\",min(dislocation_500optimal40),\",\",max(dislocation_500optimal40))\n",
    "print(\"Range of Economic loss($Million Dollar):\",min(loss_500optimal40),\",\",max(loss_500optimal40))"
   ]
  },
  {
   "cell_type": "markdown",
   "id": "perfect-partnership",
   "metadata": {},
   "source": [
    "#### 1000 year event"
   ]
  },
  {
   "cell_type": "code",
   "execution_count": null,
   "id": "convinced-reservation",
   "metadata": {},
   "outputs": [],
   "source": [
    "print(\"Range of Repair Time:\",min(func_1000optimal40),\",\",max(func_1000optimal40))\n",
    "print(\"Range of Population Dislocation:\",min(dislocation_1000optimal40),\",\",max(dislocation_1000optimal40))\n",
    "print(\"Range of Economic loss($Million Dollar):\",min(loss_1000optimal40),\",\",max(loss_1000optimal40))"
   ]
  },
  {
   "cell_type": "markdown",
   "id": "employed-satisfaction",
   "metadata": {},
   "source": [
    "##### 60% Budget Options ($120,000,000)"
   ]
  },
  {
   "cell_type": "markdown",
   "id": "electrical-springer",
   "metadata": {},
   "source": [
    "#### 500 year event"
   ]
  },
  {
   "cell_type": "code",
   "execution_count": null,
   "id": "actual-republican",
   "metadata": {},
   "outputs": [],
   "source": [
    "print(\"Range of Repair Time:\",min(func_500optimal60),\",\",max(func_500optimal60))\n",
    "print(\"Range of Population Dislocation:\",min(dislocation_500optimal60),\",\",max(dislocation_500optimal60))\n",
    "print(\"Range of Economic loss($Million Dollar):\",min(loss_500optimal60),\",\",max(loss_500optimal60))"
   ]
  },
  {
   "cell_type": "markdown",
   "id": "diagnostic-hollywood",
   "metadata": {},
   "source": [
    "#### 1000 year event"
   ]
  },
  {
   "cell_type": "code",
   "execution_count": null,
   "id": "latin-lemon",
   "metadata": {},
   "outputs": [],
   "source": [
    "print(\"Range of Repair Time:\",min(func_1000optimal60),\",\",max(func_1000optimal60))\n",
    "print(\"Range of Population Dislocation:\",min(dislocation_1000optimal60),\",\",max(dislocation_1000optimal60))\n",
    "print(\"Range of Economic loss($Million Dollar):\",min(loss_1000optimal60),\",\",max(loss_1000optimal60))"
   ]
  },
  {
   "cell_type": "markdown",
   "id": "endless-sherman",
   "metadata": {},
   "source": [
    "### COMPARING DIFFERENT BUDGET for Individual Event"
   ]
  },
  {
   "cell_type": "markdown",
   "id": "fewer-chinese",
   "metadata": {},
   "source": [
    "#### 500 Yr Event Community Metrics without any Strategy"
   ]
  },
  {
   "cell_type": "code",
   "execution_count": null,
   "id": "given-landing",
   "metadata": {},
   "outputs": [],
   "source": [
    "print(\"Total Buildings:\",qt500.b.sum())\n",
    "print(\"Repair time:\",np.sum(qt500.b*qt500.Q_t_hat))\n",
    "print(\"Population Dislocation:\",np.sum(qt500.b*qt500.d_ijk))\n",
    "print(\"Economic Loss:\",np.sum(qt500.b*qt500.l))"
   ]
  },
  {
   "cell_type": "code",
   "execution_count": null,
   "id": "another-facing",
   "metadata": {},
   "outputs": [],
   "source": [
    "import matplotlib.patches as mpatches\n",
    "import matplotlib.pyplot as plt\n",
    "fig,ax = plt.subplots(figsize=(15,7))\n",
    "sc1 = ax.scatter(loss_500optimal60,dislocation_500optimal60,c=func_500optimal60,cmap =plt.cm.get_cmap('Blues', 10))\n",
    "fig.colorbar(sc1,shrink=0.5, aspect=7,label = 'Avg Repair Time with $120M budget')\n",
    "#legend1 = ax.legend(*sc1.legend_elements(),loc=\"upper right\")\n",
    "#ax.add_artist(legend1)\n",
    "\n",
    "sc2 = ax.scatter(loss_500optimal40,dislocation_500optimal40,c=func_500optimal40,cmap =plt.cm.get_cmap('Greens', 10))\n",
    "fig.colorbar(sc2,shrink=0.5, aspect=7,label = \"Avg Repair Time with $80M budget\")\n",
    "#legend2 = ax.legend(*sc2.legend_elements(),loc=\"lower right\")\n",
    "#ax.add_artist(legend2)\n",
    "\n",
    "sc3 = ax.scatter(loss_500optimal20,dislocation_500optimal20,c=func_500optimal20,cmap =plt.cm.get_cmap('Reds', 10))\n",
    "#v3 = np.linspace(min(loss_optimal20), max(loss_optimal20), 10, endpoint=True)\n",
    "fig.colorbar(sc3,shrink=0.5, aspect=7,label = \"Avg Repair Time with $40M budget\")\n",
    "#legend3 = ax.legend(*sc3.legend_elements(),loc=\"lower left\")\n",
    "#ax.add_artist(legend3)\n",
    "\n",
    "ax.set_xlabel(\"Economic Loss $\",fontsize = 15)\n",
    "ax.xaxis.set_major_formatter(formatter)\n",
    "ax.set_ylabel(\"Population Dislocation\",fontsize = 15)\n",
    "ax.set_title(\"Pareto frontier: Economic Loss in $ vs. Dislocation of different budgets for 500 year event \",fontsize = 15)\n",
    "fig.tight_layout()\n",
    "\n",
    "plt.grid()\n",
    "Budget_20 = mpatches.Patch(color='red', label='$40M budget')\n",
    "Budget_40 = mpatches.Patch(color='green', label='$80M budget')\n",
    "Budget_60 = mpatches.Patch(color='steelblue', label='$120M budget')\n",
    "plt.legend(handles=[Budget_20,Budget_40,Budget_60])"
   ]
  },
  {
   "cell_type": "markdown",
   "id": "featured-cricket",
   "metadata": {},
   "source": [
    "#### 1000 Yr Event Community Metrics without any Strategy"
   ]
  },
  {
   "cell_type": "code",
   "execution_count": null,
   "id": "aboriginal-attention",
   "metadata": {},
   "outputs": [],
   "source": [
    "print(\"Total Buildings:\",qt1000.b.sum())\n",
    "print(\"Repair time:\",np.sum(qt1000.b*qt1000.Q_t_hat))\n",
    "print(\"Population Dislocation:\",np.sum(qt1000.b*qt1000.d_ijk))\n",
    "print(\"Economic Loss:\",np.sum(qt1000.b*qt1000.l))"
   ]
  },
  {
   "cell_type": "code",
   "execution_count": null,
   "id": "better-ethiopia",
   "metadata": {},
   "outputs": [],
   "source": [
    "import matplotlib.patches as mpatches\n",
    "import matplotlib.pyplot as plt\n",
    "fig,ax = plt.subplots(figsize=(15,7))\n",
    "sc1 = ax.scatter(loss_1000optimal60,dislocation_1000optimal60,c=func_1000optimal60,cmap =plt.cm.get_cmap('Blues', 10))\n",
    "fig.colorbar(sc1,shrink=0.5, aspect=7,label = 'Avg Repair Time with $120M budget')\n",
    "#legend1 = ax.legend(*sc1.legend_elements(),loc=\"upper right\")\n",
    "#ax.add_artist(legend1)\n",
    "\n",
    "sc2 = ax.scatter(loss_1000optimal40,dislocation_1000optimal40,c=func_1000optimal40,cmap =plt.cm.get_cmap('Greens', 10))\n",
    "fig.colorbar(sc2,shrink=0.5, aspect=7,label = \"Avg Repair Time with $80M budget\")\n",
    "#legend2 = ax.legend(*sc2.legend_elements(),loc=\"lower right\")\n",
    "#ax.add_artist(legend2)\n",
    "\n",
    "sc3 = ax.scatter(loss_1000optimal20,dislocation_1000optimal20,c=func_1000optimal20,cmap =plt.cm.get_cmap('Reds', 10))\n",
    "#v3 = np.linspace(min(loss_optimal20), max(loss_optimal20), 10, endpoint=True)\n",
    "fig.colorbar(sc3,shrink=0.5, aspect=7,label = \"Avg Repair Time with $40M budget\")\n",
    "#legend3 = ax.legend(*sc3.legend_elements(),loc=\"lower left\")\n",
    "#ax.add_artist(legend3)\n",
    "\n",
    "ax.set_xlabel(\"Economic Loss $\",fontsize = 15)\n",
    "ax.xaxis.set_major_formatter(formatter)\n",
    "ax.set_ylabel(\"Population Dislocation\",fontsize = 15)\n",
    "ax.set_title(\"Pareto frontier: Economic Loss in $ vs. Dislocation of different budgets for 1000 year event \",fontsize = 15)\n",
    "fig.tight_layout()\n",
    "\n",
    "plt.grid()\n",
    "Budget_20 = mpatches.Patch(color='red', label='$40M budget')\n",
    "Budget_40 = mpatches.Patch(color='green', label='$80M budget')\n",
    "Budget_60 = mpatches.Patch(color='steelblue', label='$120M budget')\n",
    "plt.legend(handles=[Budget_20,Budget_40,Budget_60])"
   ]
  },
  {
   "cell_type": "markdown",
   "id": "banned-portuguese",
   "metadata": {},
   "source": [
    "### Making Tables for each event"
   ]
  },
  {
   "cell_type": "markdown",
   "id": "future-industry",
   "metadata": {},
   "source": [
    "### Providing 3 Plans"
   ]
  },
  {
   "cell_type": "markdown",
   "id": "heard-corruption",
   "metadata": {},
   "source": [
    "##### Selecting Plan 1,Plan 2,Plan 3 by least Economic Loss, Population Dislocation and Repair Time respectively."
   ]
  },
  {
   "cell_type": "code",
   "execution_count": null,
   "id": "worthy-jenny",
   "metadata": {},
   "outputs": [],
   "source": [
    "Fmin500_B20 = yr500B20[yr500B20.Functionality == yr500B20.Functionality.min()].iloc[0]\n",
    "Dmin500_B20 = yr500B20[yr500B20.Dislocation == yr500B20.Dislocation.min()].iloc[0]\n",
    "Emin500_B20 = yr500B20[yr500B20.Economic_loss == yr500B20.Economic_loss.min()].iloc[0]\n",
    "Fmin500_B40 = yr500B40[yr500B40.Functionality == yr500B40.Functionality.min()].iloc[0]\n",
    "Dmin500_B40 = yr500B40[yr500B40.Dislocation == yr500B40.Dislocation.min()].iloc[0]\n",
    "Emin500_B40 = yr500B40[yr500B40.Economic_loss == yr500B40.Economic_loss.min()].iloc[0]\n",
    "Fmin500_B60 = yr500B60[yr500B60.Functionality == yr500B60.Functionality.min()].iloc[0]\n",
    "Dmin500_B60 = yr500B60[yr500B60.Dislocation == yr500B60.Dislocation.min()].iloc[0]\n",
    "Emin500_B60 = yr500B60[yr500B60.Economic_loss == yr500B60.Economic_loss.min()].iloc[0]\n",
    "Fmin1000_B20 = yr1000B20[yr1000B20.Functionality == yr1000B20.Functionality.min()].iloc[0]\n",
    "Dmin1000_B20 = yr1000B20[yr1000B20.Dislocation == yr1000B20.Dislocation.min()].iloc[0]\n",
    "Emin1000_B20 = yr1000B20[yr1000B20.Economic_loss == yr1000B20.Economic_loss.min()].iloc[0]\n",
    "Fmin1000_B40 = yr1000B40[yr1000B40.Functionality == yr1000B40.Functionality.min()].iloc[0]\n",
    "Dmin1000_B40 = yr1000B40[yr1000B40.Dislocation == yr1000B40.Dislocation.min()].iloc[0]\n",
    "Emin1000_B40 = yr1000B40[yr1000B40.Economic_loss == yr1000B40.Economic_loss.min()].iloc[0]\n",
    "Fmin1000_B60 = yr1000B60[yr1000B60.Functionality == yr1000B60.Functionality.min()].iloc[0]\n",
    "Dmin1000_B60 = yr1000B60[yr1000B60.Dislocation == yr1000B60.Dislocation.min()].iloc[0]\n",
    "Emin1000_B60 = yr1000B60[yr1000B60.Economic_loss == yr1000B60.Economic_loss.min()].iloc[0]"
   ]
  },
  {
   "cell_type": "code",
   "execution_count": null,
   "id": "portable-warning",
   "metadata": {},
   "outputs": [],
   "source": [
    "print(\"Solution Selected for Least Repair Time in 500 year event :\",Fmin500_B20['S'])\n",
    "print(\"Solution Selected for Least Economic Loss in 500 year event :\",Emin500_B20['S'])\n",
    "print(\"Solution Selected for Least Population Dislocation in 500 year event :\",Dmin500_B20['S'])\n",
    "print(\"Solution Selected for Least Repair Time in 500 year event :\",Fmin500_B40['S'])\n",
    "print(\"Solution Selected for Least Economic Loss in 500 year event :\",Emin500_B40['S'])\n",
    "print(\"Solution Selected for Least Population Dislocation in 500 year event :\",Dmin500_B40['S'])\n",
    "print(\"Solution Selected for Least Repair Time in 500 year event :\",Fmin500_B60['S'])\n",
    "print(\"Solution Selected for Least Economic Loss in 500 year event :\",Emin500_B60['S'])\n",
    "print(\"Solution Selected for Least Population Dislocation in 500 year event :\",Dmin500_B60['S'])\n",
    "print(\"Solution Selected for Least Repair Time in 1000 year event :\",Fmin1000_B20['S'])\n",
    "print(\"Solution Selected for Least Economic Loss in 1000 year event :\",Emin1000_B20['S'])\n",
    "print(\"Solution Selected for Least Population Dislocation in 1000 year event :\",Dmin1000_B20['S'])\n",
    "print(\"Solution Selected for Least Repair Time in 1000 year event :\",Fmin1000_B40['S'])\n",
    "print(\"Solution Selected for Least Economic Loss in 1000 year event :\",Emin1000_B40['S'])\n",
    "print(\"Solution Selected for Least Population Dislocation in 1000 year event :\",Dmin1000_B40['S'])\n",
    "print(\"Solution Selected for Least Repair Time in 1000 year event :\",Fmin1000_B60['S'])\n",
    "print(\"Solution Selected for Least Economic Loss in 1000 year event :\",Emin1000_B60['S'])\n",
    "print(\"Solution Selected for Least Population Dislocation in 1000 year event :\",Dmin1000_B60['S'])"
   ]
  },
  {
   "cell_type": "markdown",
   "id": "mighty-hearts",
   "metadata": {},
   "source": [
    "### CHOOSING THE SOLUTIONS FILES FOR EACH OPTION AT DIFFERENT BUDGET AND DIFFERENT EVENT"
   ]
  },
  {
   "cell_type": "code",
   "execution_count": null,
   "id": "above-motor",
   "metadata": {},
   "outputs": [],
   "source": [
    "Op1_500B20 = pd.read_csv(\"Optimization_Model/500_yr_Results/decision_variable_B20_X0.csv\")\n",
    "Op2_500B20 = pd.read_csv(\"Optimization_Model/500_yr_Results/decision_variable_B20_X79.csv\")\n",
    "Op3_500B20 = pd.read_csv(\"Optimization_Model/500_yr_Results/decision_variable_B20_X42.csv\")\n",
    "Op1_1000B20 = pd.read_csv(\"Optimization_Model/1000_yr_Results/decision_variable_B20_X0.csv\")\n",
    "Op2_1000B20 = pd.read_csv(\"Optimization_Model/1000_yr_Results/decision_variable_B20_X199.csv\")\n",
    "Op3_1000B20 = pd.read_csv(\"Optimization_Model/1000_yr_Results/decision_variable_B20_X18.csv\")\n",
    "Op1_500B40 = pd.read_csv(\"Optimization_Model/500_yr_Results/decision_variable_B40_X0.csv\")\n",
    "Op2_500B40 = pd.read_csv(\"Optimization_Model/500_yr_Results/decision_variable_B40_X376.csv\")\n",
    "Op3_500B40 = pd.read_csv(\"Optimization_Model/500_yr_Results/decision_variable_B40_X122.csv\")\n",
    "Op1_1000B40 = pd.read_csv(\"Optimization_Model/1000_yr_Results/decision_variable_B40_X0.csv\")\n",
    "Op2_1000B40 = pd.read_csv(\"Optimization_Model/1000_yr_Results/decision_variable_B40_X119.csv\")\n",
    "Op3_1000B40 = pd.read_csv(\"Optimization_Model/1000_yr_Results/decision_variable_B40_X196.csv\")\n",
    "Op1_500B60 = pd.read_csv(\"Optimization_Model/500_yr_Results/decision_variable_B60_X0.csv\")\n",
    "Op2_500B60 = pd.read_csv(\"Optimization_Model/500_yr_Results/decision_variable_B60_X235.csv\")\n",
    "Op3_500B60 = pd.read_csv(\"Optimization_Model/500_yr_Results/decision_variable_B60_X44.csv\")\n",
    "Op1_1000B60 = pd.read_csv(\"Optimization_Model/1000_yr_Results/decision_variable_B60_X0.csv\")\n",
    "Op2_1000B60 = pd.read_csv(\"Optimization_Model/1000_yr_Results/decision_variable_B60_X259.csv\")\n",
    "Op3_1000B60 = pd.read_csv(\"Optimization_Model/1000_yr_Results/decision_variable_B60_X205.csv\")"
   ]
  },
  {
   "cell_type": "code",
   "execution_count": null,
   "id": "royal-allowance",
   "metadata": {},
   "outputs": [],
   "source": [
    "yr500_Buildings = qt500.b.sum().tolist()\n",
    "yr500_Repair_Time = np.sum(qt500.b*qt500.Q_t_hat).tolist()\n",
    "yr500_Population_Dislocation = np.sum(qt500.b*qt500.d_ijk).tolist()\n",
    "yr500_Economic_Loss = np.sum(qt500.b*qt500.l).tolist()\n",
    "Yr500 ={\n",
    "    ('Buildings'):yr500_Buildings,\n",
    "    ('Economic Loss'):yr500_Economic_Loss,\n",
    "    ('Population Dislocation'):yr500_Population_Dislocation,\n",
    "    ('Repair Time (Days)'):yr500_Repair_Time\n",
    "}\n",
    "Yr500 = pd.DataFrame(Yr500.items(),columns = ['Community Metrics','500 Year Event Stats'])\n",
    "Yr500 = Yr500.round(decimals=0)\n",
    "Yr500"
   ]
  },
  {
   "cell_type": "code",
   "execution_count": null,
   "id": "after-dakota",
   "metadata": {},
   "outputs": [],
   "source": [
    "yr1000_Buildings = qt1000.b.sum().tolist()\n",
    "yr1000_Repair_Time = np.sum(qt1000.b*qt1000.Q_t_hat).tolist()\n",
    "yr1000_Population_Dislocation = np.sum(qt1000.b*qt1000.d_ijk).tolist()\n",
    "yr1000_Economic_Loss = np.sum(qt1000.b*qt1000.l).tolist()\n",
    "Yr1000 ={\n",
    "    ('Buildings'):yr1000_Buildings,\n",
    "    ('Economic Loss'):yr1000_Economic_Loss,\n",
    "    ('Population Dislocation'):yr1000_Population_Dislocation,\n",
    "    ('Repair Time (Days)'):yr1000_Repair_Time\n",
    "}\n",
    "Yr1000 = pd.DataFrame(Yr1000.items(),columns = ['Community Metrics','1000 Year Event Stats'])\n",
    "Yr1000 = Yr1000.round(decimals=0)\n",
    "Yr1000"
   ]
  },
  {
   "cell_type": "markdown",
   "id": "vertical-portable",
   "metadata": {},
   "source": [
    "##### BUDGET LEVEL 1  $40,000,000"
   ]
  },
  {
   "cell_type": "code",
   "execution_count": null,
   "id": "packed-sheriff",
   "metadata": {},
   "outputs": [],
   "source": [
    "### PLAN 1\n",
    "\n",
    "\n",
    "subset0_Op1_500B20 = Op1_500B20[Op1_500B20[\"K\"] == 0]\n",
    "subset1_Op1_500B20 = Op1_500B20[Op1_500B20[\"K\"] == 1]\n",
    "subset2_Op1_500B20 = Op1_500B20[Op1_500B20[\"K\"] == 2]\n",
    "subset3_Op1_500B20 = Op1_500B20[Op1_500B20[\"K\"] == 3]\n",
    "P1NumB050020 = round(subset0_Op1_500B20.Values.sum(), 0) #Number of Buildings in Retrofit Op 0 for 500 yr event\n",
    "P1NumB150020 = round(subset1_Op1_500B20.Values.sum(), 0) #Number of Buildings in Retrofit Op 1 for 500 yr event\n",
    "P1NumB250020 = round(subset2_Op1_500B20.Values.sum(), 0) #Number of Buildings in Retrofit Op 2 for 500 yr event\n",
    "P1NumB350020 = round(subset3_Op1_500B20.Values.sum(), 0) #Number of Buildings in Retrofit Op 3 for 500 yr event\n",
    "subset0_Op1_1000B20 = Op1_1000B20[Op1_1000B20[\"K\"] == 0]\n",
    "subset1_Op1_1000B20 = Op1_1000B20[Op1_1000B20[\"K\"] == 1]\n",
    "subset2_Op1_1000B20 = Op1_1000B20[Op1_1000B20[\"K\"] == 2]\n",
    "subset3_Op1_1000B20 = Op1_1000B20[Op1_1000B20[\"K\"] == 3]\n",
    "P1NumB0100020 = round(subset0_Op1_1000B20.Values.sum(), 0) #Number of Buildings in Retrofit Op 0 for 1000 yr event\n",
    "P1NumB1100020 = round(subset1_Op1_1000B20.Values.sum(), 0) #Number of Buildings in Retrofit Op 1 for 1000 yr event\n",
    "P1NumB2100020 = round(subset2_Op1_1000B20.Values.sum(), 0) #Number of Buildings in Retrofit Op 2 for 1000 yr event\n",
    "P1NumB3100020 = round(subset3_Op1_1000B20.Values.sum(), 0) #Number of Buildings in Retrofit Op 3 for 1000 yr event\n",
    "\n",
    "\n",
    "### PLAN 2 \n",
    "subset0_Op2_500B20 = Op2_500B20[Op2_500B20[\"K\"] == 0]\n",
    "subset1_Op2_500B20 = Op2_500B20[Op2_500B20[\"K\"] == 1]\n",
    "subset2_Op2_500B20 = Op2_500B20[Op2_500B20[\"K\"] == 2]\n",
    "subset3_Op2_500B20 = Op2_500B20[Op2_500B20[\"K\"] == 3]\n",
    "P2NumB050020 = round(subset0_Op2_500B20.Values.sum(), 0) #Number of Buildings in Retrofit Op 0 for 500 yr event\n",
    "P2NumB150020 = round(subset1_Op2_500B20.Values.sum(), 0) #Number of Buildings in Retrofit Op 1 for 500 yr event\n",
    "P2NumB250020 = round(subset2_Op2_500B20.Values.sum(), 0) #Number of Buildings in Retrofit Op 2 for 500 yr event\n",
    "P2NumB350020 = round(subset3_Op2_500B20.Values.sum(), 0) #Number of Buildings in Retrofit Op 3 for 500 yr event\n",
    "subset0_Op2_1000B20 = Op2_1000B20[Op2_1000B20[\"K\"] == 0]\n",
    "subset1_Op2_1000B20 = Op2_1000B20[Op2_1000B20[\"K\"] == 1]\n",
    "subset2_Op2_1000B20 = Op2_1000B20[Op2_1000B20[\"K\"] == 2]\n",
    "subset3_Op2_1000B20 = Op2_1000B20[Op2_1000B20[\"K\"] == 3]\n",
    "P2NumB0100020 = round(subset0_Op2_1000B20.Values.sum(), 0) #Number of Buildings in Retrofit Op 0 for 1000 yr event\n",
    "P2NumB1100020 = round(subset1_Op2_1000B20.Values.sum(), 0) #Number of Buildings in Retrofit Op 1 for 1000 yr event\n",
    "P2NumB2100020 = round(subset2_Op2_1000B20.Values.sum(), 0) #Number of Buildings in Retrofit Op 2 for 1000 yr event\n",
    "P2NumB3100020 = round(subset3_Op2_1000B20.Values.sum(), 0) #Number of Buildings in Retrofit Op 3 for 1000 yr event\n",
    "\n",
    "\n",
    "### PLAN 3\n",
    "\n",
    "subset0_Op3_500B20 = Op3_500B20[Op3_500B20[\"K\"] == 0]\n",
    "subset1_Op3_500B20 = Op3_500B20[Op3_500B20[\"K\"] == 1]\n",
    "subset2_Op3_500B20 = Op3_500B20[Op3_500B20[\"K\"] == 2]\n",
    "subset3_Op3_500B20 = Op3_500B20[Op3_500B20[\"K\"] == 3]\n",
    "P3NumB050020 = round(subset0_Op3_500B20.Values.sum(), 0) #Number of Buildings in Retrofit Op 0 for 500 yr event\n",
    "P3NumB150020 = round(subset1_Op3_500B20.Values.sum(), 0) #Number of Buildings in Retrofit Op 1 for 500 yr event\n",
    "P3NumB250020 = round(subset2_Op3_500B20.Values.sum(), 0) #Number of Buildings in Retrofit Op 2 for 500 yr event\n",
    "P3NumB350020 = round(subset3_Op3_500B20.Values.sum(), 0) #Number of Buildings in Retrofit Op 3 for 500 yr event\n",
    "subset0_Op3_1000B20 = Op3_1000B20[Op3_1000B20[\"K\"] == 0]\n",
    "subset1_Op3_1000B20 = Op3_1000B20[Op3_1000B20[\"K\"] == 1]\n",
    "subset2_Op3_1000B20 = Op3_1000B20[Op3_1000B20[\"K\"] == 2]\n",
    "subset3_Op3_1000B20 = Op3_1000B20[Op3_1000B20[\"K\"] == 3]\n",
    "P3NumB0100020 = round(subset0_Op3_1000B20.Values.sum(), 0) #Number of Buildings in Retrofit Op 0 for 1000 yr event\n",
    "P3NumB1100020 = round(subset1_Op3_1000B20.Values.sum(), 0) #Number of Buildings in Retrofit Op 1 for 1000 yr event\n",
    "P3NumB2100020 = round(subset2_Op3_1000B20.Values.sum(), 0) #Number of Buildings in Retrofit Op 2 for 1000 yr event\n",
    "P3NumB3100020 = round(subset3_Op3_1000B20.Values.sum(), 0) #Number of Buildings in Retrofit Op 3 for 1000 yr event"
   ]
  },
  {
   "cell_type": "code",
   "execution_count": null,
   "id": "approximate-relevance",
   "metadata": {},
   "outputs": [],
   "source": [
    "Budget1 = {\n",
    "    (\"500 Year Event Plan 1\"):(Emin500_B20['Economic_loss'],Emin500_B20['Dislocation'],Emin500_B20['Functionality'],P1NumB050020,P1NumB150020,P1NumB250020,P1NumB350020),\n",
    "    (\"500 Year Event Plan 2\"):(Dmin500_B20['Economic_loss'],Dmin500_B20['Dislocation'],Dmin500_B20['Functionality'],P2NumB050020,P2NumB150020,P2NumB250020,P2NumB350020),\n",
    "    (\"500 Year Event Plan 3\"):(Fmin500_B20['Economic_loss'],Fmin500_B20['Dislocation'],Fmin500_B20['Functionality'],P3NumB050020,P3NumB150020,P3NumB250020,P3NumB350020),\n",
    "    \n",
    "    (\"1000 Year Event Plan 1\"):(Emin1000_B20['Economic_loss'],Emin1000_B20['Dislocation'],Emin1000_B20['Functionality'],P1NumB0100020,P1NumB1100020,P1NumB2100020,P1NumB3100020),\n",
    "    (\"1000 Year Event Plan 2\"):(Dmin1000_B20['Economic_loss'],Dmin1000_B20['Dislocation'],Dmin1000_B20['Functionality'],P2NumB0100020,P2NumB1100020,P2NumB2100020,P2NumB3100020),\n",
    "    (\"1000 Year Event Plan 3\"):(Fmin1000_B20['Economic_loss'],Fmin1000_B20['Dislocation'],Fmin1000_B20['Functionality'],P3NumB0100020,P3NumB1100020,P3NumB2100020,P3NumB3100020),\n",
    "}"
   ]
  },
  {
   "cell_type": "code",
   "execution_count": null,
   "id": "irish-works",
   "metadata": {},
   "outputs": [],
   "source": [
    "Budget1_df = pd.DataFrame(list(Budget1.items()),columns = ['Budget $40,000,000','column2']) \n",
    "new_col_list = ['Economic_Loss','Population_Dislocation','Repair_Time (Days)','Number of Buildings not Retrofitted','Number of Buildings Retrofitted to Option 1','Number of Buildings Retrofitted to Option 2','Number of Buildings Retrofitted to Option 3']\n",
    "for n,col in enumerate(new_col_list):\n",
    "    Budget1_df[col] = Budget1_df['column2'].apply(lambda column2: column2[n])\n",
    "\n",
    "Budget1_df = Budget1_df.drop('column2',axis=1)\n",
    "Budget1_df = Budget1_df.round(decimals=0)\n",
    "Budget1_df.to_csv(\"Budget1_OptionsTable.csv\")\n",
    "Budget1_df"
   ]
  },
  {
   "cell_type": "markdown",
   "id": "reflected-superior",
   "metadata": {},
   "source": [
    "###### BUDGET LEVEL 2 $80,000,000"
   ]
  },
  {
   "cell_type": "code",
   "execution_count": null,
   "id": "chief-freeze",
   "metadata": {},
   "outputs": [],
   "source": [
    "### PLAN 1\n",
    "\n",
    "subset0_Op1_500B40 = Op1_500B40[Op1_500B40[\"K\"] == 0]\n",
    "subset1_Op1_500B40 = Op1_500B40[Op1_500B40[\"K\"] == 1]\n",
    "subset2_Op1_500B40 = Op1_500B40[Op1_500B40[\"K\"] == 2]\n",
    "subset3_Op1_500B40 = Op1_500B40[Op1_500B40[\"K\"] == 3]\n",
    "P1NumB050040 = round(subset0_Op1_500B40.Values.sum(), 0) #Number of Buildings in Retrofit Op 0 for 500 yr event\n",
    "P1NumB150040 = round(subset1_Op1_500B40.Values.sum(), 0) #Number of Buildings in Retrofit Op 1 for 500 yr event\n",
    "P1NumB250040 = round(subset2_Op1_500B40.Values.sum(), 0) #Number of Buildings in Retrofit Op 2 for 500 yr event\n",
    "P1NumB350040 = round(subset3_Op1_500B40.Values.sum(), 0) #Number of Buildings in Retrofit Op 3 for 500 yr event\n",
    "subset0_Op1_1000B40 = Op1_1000B40[Op1_1000B40[\"K\"] == 0]\n",
    "subset1_Op1_1000B40 = Op1_1000B40[Op1_1000B40[\"K\"] == 1]\n",
    "subset2_Op1_1000B40 = Op1_1000B40[Op1_1000B40[\"K\"] == 2]\n",
    "subset3_Op1_1000B40 = Op1_1000B40[Op1_1000B40[\"K\"] == 3]\n",
    "P1NumB0100040 = round(subset0_Op1_1000B40.Values.sum(), 0) #Number of Buildings in Retrofit Op 0 for 1000 yr event\n",
    "P1NumB1100040 = round(subset1_Op1_1000B40.Values.sum(), 0) #Number of Buildings in Retrofit Op 1 for 1000 yr event\n",
    "P1NumB2100040 = round(subset2_Op1_1000B40.Values.sum(), 0) #Number of Buildings in Retrofit Op 2 for 1000 yr event\n",
    "P1NumB3100040 = round(subset3_Op1_1000B40.Values.sum(), 0) #Number of Buildings in Retrofit Op 3 for 1000 yr event\n",
    "\n",
    "### PLAN 2\n",
    "\n",
    "subset0_Op2_500B40 = Op2_500B40[Op2_500B40[\"K\"] == 0]\n",
    "subset1_Op2_500B40 = Op2_500B40[Op2_500B40[\"K\"] == 1]\n",
    "subset2_Op2_500B40 = Op2_500B40[Op2_500B40[\"K\"] == 2]\n",
    "subset3_Op2_500B40 = Op2_500B40[Op2_500B40[\"K\"] == 3]\n",
    "P2NumB050040 = round(subset0_Op2_500B40.Values.sum(), 0) #Number of Buildings in Retrofit Op 0 for 500 yr event\n",
    "P2NumB150040 = round(subset1_Op2_500B40.Values.sum(), 0) #Number of Buildings in Retrofit Op 1 for 500 yr event\n",
    "P2NumB250040 = round(subset2_Op2_500B40.Values.sum(), 0) #Number of Buildings in Retrofit Op 2 for 500 yr event\n",
    "P2NumB350040 = round(subset3_Op2_500B40.Values.sum(), 0) #Number of Buildings in Retrofit Op 3 for 500 yr event\n",
    "subset0_Op2_1000B40 = Op2_1000B40[Op2_1000B40[\"K\"] == 0]\n",
    "subset1_Op2_1000B40 = Op2_1000B40[Op2_1000B40[\"K\"] == 1]\n",
    "subset2_Op2_1000B40 = Op2_1000B40[Op2_1000B40[\"K\"] == 2]\n",
    "subset3_Op2_1000B40 = Op2_1000B40[Op2_1000B40[\"K\"] == 3]\n",
    "P2NumB0100040 = round(subset0_Op2_1000B40.Values.sum(), 0) #Number of Buildings in Retrofit Op 0 for 1000 yr event\n",
    "P2NumB1100040 = round(subset1_Op2_1000B40.Values.sum(), 0) #Number of Buildings in Retrofit Op 1 for 1000 yr event\n",
    "P2NumB2100040 = round(subset2_Op2_1000B40.Values.sum(), 0) #Number of Buildings in Retrofit Op 2 for 1000 yr event\n",
    "P2NumB3100040 = round(subset3_Op2_1000B40.Values.sum(), 0) #Number of Buildings in Retrofit Op 3 for 1000 yr event\n",
    "\n",
    "\n",
    "#### PLAN 3\n",
    "\n",
    "subset0_Op3_500B40 = Op3_500B40[Op3_500B40[\"K\"] == 0]\n",
    "subset1_Op3_500B40 = Op3_500B40[Op3_500B40[\"K\"] == 1]\n",
    "subset2_Op3_500B40 = Op3_500B40[Op3_500B40[\"K\"] == 2]\n",
    "subset3_Op3_500B40 = Op3_500B40[Op3_500B40[\"K\"] == 3]\n",
    "P3NumB050040 = round(subset0_Op3_500B40.Values.sum(), 0) #Number of Buildings in Retrofit Op 0 for 500 yr event\n",
    "P3NumB150040 = round(subset1_Op3_500B40.Values.sum(), 0) #Number of Buildings in Retrofit Op 1 for 500 yr event\n",
    "P3NumB250040 = round(subset2_Op3_500B40.Values.sum(), 0) #Number of Buildings in Retrofit Op 2 for 500 yr event\n",
    "P3NumB350040 = round(subset3_Op3_500B40.Values.sum(), 0) #Number of Buildings in Retrofit Op 3 for 500 yr event\n",
    "subset0_Op3_1000B40 = Op3_1000B40[Op3_1000B40[\"K\"] == 0]\n",
    "subset1_Op3_1000B40 = Op3_1000B40[Op3_1000B40[\"K\"] == 1]\n",
    "subset2_Op3_1000B40 = Op3_1000B40[Op3_1000B40[\"K\"] == 2]\n",
    "subset3_Op3_1000B40 = Op3_1000B40[Op3_1000B40[\"K\"] == 3]\n",
    "P3NumB0100040 = round(subset0_Op3_1000B40.Values.sum(), 0) #Number of Buildings in Retrofit Op 0 for 1000 yr event\n",
    "P3NumB1100040 = round(subset1_Op3_1000B40.Values.sum(), 0) #Number of Buildings in Retrofit Op 1 for 1000 yr event\n",
    "P3NumB2100040 = round(subset2_Op3_1000B40.Values.sum(), 0) #Number of Buildings in Retrofit Op 2 for 1000 yr event\n",
    "P3NumB3100040 = round(subset3_Op3_1000B40.Values.sum(), 0) #Number of Buildings in Retrofit Op 3 for 1000 yr event"
   ]
  },
  {
   "cell_type": "code",
   "execution_count": null,
   "id": "photographic-function",
   "metadata": {},
   "outputs": [],
   "source": [
    "Budget2 = {\n",
    "    (\"500 Year Event Plan 1\"):(Emin500_B40['Economic_loss'],Emin500_B40['Dislocation'],Emin500_B40['Functionality'],P1NumB050040,P1NumB150040,P1NumB250040,P1NumB350040),\n",
    "    (\"500 Year Event Plan 2\"):(Dmin500_B40['Economic_loss'],Dmin500_B40['Dislocation'],Dmin500_B40['Functionality'],P2NumB050040,P2NumB150040,P2NumB250040,P2NumB350040),\n",
    "    (\"500 Year Event Plan 3\"):(Fmin500_B40['Economic_loss'],Fmin500_B40['Dislocation'],Fmin500_B40['Functionality'],P3NumB050040,P3NumB150040,P3NumB250040,P3NumB350040),\n",
    "    \n",
    "    (\"1000 Year Event Plan 1\"):(Emin1000_B40['Economic_loss'],Emin1000_B40['Dislocation'],Emin1000_B40['Functionality'],P1NumB0100040,P1NumB1100040,P1NumB2100040,P1NumB3100040),\n",
    "    (\"1000 Year Event Plan 2\"):(Dmin1000_B40['Economic_loss'],Dmin1000_B40['Dislocation'],Dmin1000_B40['Functionality'],P2NumB0100040,P2NumB1100040,P2NumB2100040,P2NumB3100040),\n",
    "    (\"1000 Year Event Plan 3\"):(Fmin1000_B40['Economic_loss'],Fmin1000_B40['Dislocation'],Fmin1000_B40['Functionality'],P3NumB0100040,P3NumB1100040,P3NumB2100040,P3NumB3100040),\n",
    "}"
   ]
  },
  {
   "cell_type": "code",
   "execution_count": null,
   "id": "offshore-georgia",
   "metadata": {},
   "outputs": [],
   "source": [
    "Budget2_df = pd.DataFrame(list(Budget2.items()),columns = ['Budget $80,000,000','column2']) \n",
    "new_col_list = ['Economic_Loss','Population_Dislocation','Repair_Time (Days)','Number of Buildings not Retrofitted','Number of Buildings Retrofitted to Option 1','Number of Buildings Retrofitted to Option 2','Number of Buildings Retrofitted to Option 3']\n",
    "for n,col in enumerate(new_col_list):\n",
    "    Budget2_df[col] = Budget2_df['column2'].apply(lambda column2: column2[n])\n",
    "\n",
    "Budget2_df = Budget2_df.drop('column2',axis=1)\n",
    "Budget2_df = Budget2_df.round(decimals=0)\n",
    "Budget2_df.to_csv(\"Budget2_OptionsTable.csv\")\n",
    "Budget2_df"
   ]
  },
  {
   "cell_type": "markdown",
   "id": "going-violin",
   "metadata": {},
   "source": [
    "##### BUDGET LEVEL 3 ($120,000,000)"
   ]
  },
  {
   "cell_type": "code",
   "execution_count": null,
   "id": "transparent-drunk",
   "metadata": {},
   "outputs": [],
   "source": [
    "### PLAN 1\n",
    "\n",
    "subset0_Op1_500B60 = Op1_500B60[Op1_500B60[\"K\"] == 0]\n",
    "subset1_Op1_500B60 = Op1_500B60[Op1_500B60[\"K\"] == 1]\n",
    "subset2_Op1_500B60 = Op1_500B60[Op1_500B60[\"K\"] == 2]\n",
    "subset3_Op1_500B60 = Op1_500B60[Op1_500B60[\"K\"] == 3]\n",
    "P1NumB050060 = round(subset0_Op1_500B60.Values.sum(), 0) #Number of Buildings in Retrofit Op 0 for 500 yr event\n",
    "P1NumB150060 = round(subset1_Op1_500B60.Values.sum(), 0) #Number of Buildings in Retrofit Op 1 for 500 yr event\n",
    "P1NumB250060 = round(subset2_Op1_500B60.Values.sum(), 0) #Number of Buildings in Retrofit Op 2 for 500 yr event\n",
    "P1NumB350060 = round(subset3_Op1_500B60.Values.sum(), 0) #Number of Buildings in Retrofit Op 3 for 500 yr event\n",
    "subset0_Op1_1000B60 = Op1_1000B60[Op1_1000B60[\"K\"] == 0]\n",
    "subset1_Op1_1000B60 = Op1_1000B60[Op1_1000B60[\"K\"] == 1]\n",
    "subset2_Op1_1000B60 = Op1_1000B60[Op1_1000B60[\"K\"] == 2]\n",
    "subset3_Op1_1000B60 = Op1_1000B60[Op1_1000B60[\"K\"] == 3]\n",
    "P1NumB0100060 = round(subset0_Op1_1000B60.Values.sum(), 0) #Number of Buildings in Retrofit Op 0 for 1000 yr event\n",
    "P1NumB1100060 = round(subset1_Op1_1000B60.Values.sum(), 0) #Number of Buildings in Retrofit Op 1 for 1000 yr event\n",
    "P1NumB2100060 = round(subset2_Op1_1000B60.Values.sum(), 0) #Number of Buildings in Retrofit Op 2 for 1000 yr event\n",
    "P1NumB3100060 = round(subset3_Op1_1000B60.Values.sum(), 0) #Number of Buildings in Retrofit Op 3 for 1000 yr event\n",
    "\n",
    "### PLAN 2\n",
    "\n",
    "subset0_Op2_500B60 = Op2_500B60[Op2_500B60[\"K\"] == 0]\n",
    "subset1_Op2_500B60 = Op2_500B60[Op2_500B60[\"K\"] == 1]\n",
    "subset2_Op2_500B60 = Op2_500B60[Op2_500B60[\"K\"] == 2]\n",
    "subset3_Op2_500B60 = Op2_500B60[Op2_500B60[\"K\"] == 3]\n",
    "P2NumB050060 = round(subset0_Op2_500B60.Values.sum(), 0) #Number of Buildings in Retrofit Op 0 for 500 yr event\n",
    "P2NumB150060 = round(subset1_Op2_500B60.Values.sum(), 0) #Number of Buildings in Retrofit Op 1 for 500 yr event\n",
    "P2NumB250060 = round(subset2_Op2_500B60.Values.sum(), 0) #Number of Buildings in Retrofit Op 2 for 500 yr event\n",
    "P2NumB350060 = round(subset3_Op2_500B60.Values.sum(), 0) #Number of Buildings in Retrofit Op 3 for 500 yr event\n",
    "subset0_Op2_1000B60 = Op2_1000B60[Op2_1000B60[\"K\"] == 0]\n",
    "subset1_Op2_1000B60 = Op2_1000B60[Op2_1000B60[\"K\"] == 1]\n",
    "subset2_Op2_1000B60 = Op2_1000B60[Op2_1000B60[\"K\"] == 2]\n",
    "subset3_Op2_1000B60 = Op2_1000B60[Op2_1000B60[\"K\"] == 3]\n",
    "P2NumB0100060 = round(subset0_Op2_1000B60.Values.sum(), 0) #Number of Buildings in Retrofit Op 0 for 1000 yr event\n",
    "P2NumB1100060 = round(subset1_Op2_1000B60.Values.sum(), 0) #Number of Buildings in Retrofit Op 1 for 1000 yr event\n",
    "P2NumB2100060 = round(subset2_Op2_1000B60.Values.sum(), 0) #Number of Buildings in Retrofit Op 2 for 1000 yr event\n",
    "P2NumB3100060 = round(subset3_Op2_1000B60.Values.sum(), 0) #Number of Buildings in Retrofit Op 3 for 1000 yr event\n",
    "\n",
    "### PLAN 3\n",
    "\n",
    "subset0_Op3_500B60 = Op3_500B60[Op3_500B60[\"K\"] == 0]\n",
    "subset1_Op3_500B60 = Op3_500B60[Op3_500B60[\"K\"] == 1]\n",
    "subset2_Op3_500B60 = Op3_500B60[Op3_500B60[\"K\"] == 2]\n",
    "subset3_Op3_500B60 = Op3_500B60[Op3_500B60[\"K\"] == 3]\n",
    "P3NumB050060 = round(subset0_Op3_500B60.Values.sum(), 0) #Number of Buildings in Retrofit Op 0 for 500 yr event\n",
    "P3NumB150060 = round(subset1_Op3_500B60.Values.sum(), 0) #Number of Buildings in Retrofit Op 1 for 500 yr event\n",
    "P3NumB250060 = round(subset2_Op3_500B60.Values.sum(), 0) #Number of Buildings in Retrofit Op 2 for 500 yr event\n",
    "P3NumB350060 = round(subset3_Op3_500B60.Values.sum(), 0) #Number of Buildings in Retrofit Op 3 for 500 yr event\n",
    "subset0_Op3_1000B60 = Op3_1000B60[Op3_1000B60[\"K\"] == 0]\n",
    "subset1_Op3_1000B60 = Op3_1000B60[Op3_1000B60[\"K\"] == 1]\n",
    "subset2_Op3_1000B60 = Op3_1000B60[Op3_1000B60[\"K\"] == 2]\n",
    "subset3_Op3_1000B60 = Op3_1000B60[Op3_1000B60[\"K\"] == 3]\n",
    "P3NumB0100060 = round(subset0_Op3_1000B60.Values.sum(), 0) #Number of Buildings in Retrofit Op 0 for 1000 yr event\n",
    "P3NumB1100060 = round(subset1_Op3_1000B60.Values.sum(), 0) #Number of Buildings in Retrofit Op 1 for 1000 yr event\n",
    "P3NumB2100060 = round(subset2_Op3_1000B60.Values.sum(), 0) #Number of Buildings in Retrofit Op 2 for 1000 yr event\n",
    "P3NumB3100060 = round(subset3_Op3_1000B60.Values.sum(), 0) #Number of Buildings in Retrofit Op 3 for 1000 yr event"
   ]
  },
  {
   "cell_type": "code",
   "execution_count": null,
   "id": "drawn-tokyo",
   "metadata": {},
   "outputs": [],
   "source": [
    "Budget3 = {\n",
    "    (\"500 Year Event Plan 1\"):(Emin500_B60['Economic_loss'],Emin500_B60['Dislocation'],Emin500_B60['Functionality'],P1NumB050060,P1NumB150060,P1NumB250060,P1NumB350060),\n",
    "    (\"500 Year Event Plan 2\"):(Dmin500_B60['Economic_loss'],Dmin500_B60['Dislocation'],Dmin500_B60['Functionality'],P2NumB050060,P2NumB150060,P2NumB250060,P2NumB350060),\n",
    "    (\"500 Year Event Plan 3\"):(Fmin500_B60['Economic_loss'],Fmin500_B60['Dislocation'],Fmin500_B60['Functionality'],P3NumB050060,P3NumB150060,P3NumB250060,P3NumB350060),\n",
    "    \n",
    "    (\"1000 Year Event Plan 1\"):(Emin1000_B60['Economic_loss'],Emin1000_B60['Dislocation'],Emin1000_B60['Functionality'],P1NumB0100060,P1NumB1100060,P1NumB2100060,P1NumB3100060),\n",
    "    (\"1000 Year Event Plan 2\"):(Dmin1000_B60['Economic_loss'],Dmin1000_B60['Dislocation'],Dmin1000_B60['Functionality'],P2NumB0100060,P2NumB1100060,P2NumB2100060,P2NumB3100060),\n",
    "    (\"1000 Year Event Plan 3\"):(Fmin1000_B60['Economic_loss'],Fmin1000_B60['Dislocation'],Fmin1000_B60['Functionality'],P3NumB0100060,P3NumB1100060,P3NumB2100060,P3NumB3100060),\n",
    "}"
   ]
  },
  {
   "cell_type": "code",
   "execution_count": null,
   "id": "retained-relationship",
   "metadata": {},
   "outputs": [],
   "source": [
    "Budget3_df = pd.DataFrame(list(Budget3.items()),columns = ['Budget $120,000,000','column2']) \n",
    "new_col_list = ['Economic_Loss','Population_Dislocation','Repair_Time (Days)','Number of Buildings not Retrofitted','Number of Buildings Retrofitted to Option 1','Number of Buildings Retrofitted to Option 2','Number of Buildings Retrofitted to Option 3']\n",
    "for n,col in enumerate(new_col_list):\n",
    "    Budget3_df[col] = Budget3_df['column2'].apply(lambda column2: column2[n])\n",
    "\n",
    "Budget3_df = Budget3_df.drop('column2',axis=1)\n",
    "Budget3_df = Budget3_df.round(decimals=0)\n",
    "Budget3_df.to_csv(\"Budget3_OptionsTable.csv\")\n",
    "Budget3_df"
   ]
  },
  {
   "cell_type": "code",
   "execution_count": null,
   "id": "competitive-brown",
   "metadata": {},
   "outputs": [],
   "source": [
    "Yr1000"
   ]
  },
  {
   "cell_type": "markdown",
   "id": "silent-textbook",
   "metadata": {},
   "source": [
    "#### Reading in building polygon dataset and setting up function to filter data"
   ]
  },
  {
   "cell_type": "code",
   "execution_count": null,
   "id": "humanitarian-tissue",
   "metadata": {},
   "outputs": [],
   "source": [
    "# reading in building polygon dataset\n",
    "bldg_dataset_id = \"5df40388b9219c06cf8b0c80\"\n",
    "#bldg_dataset_id = \"5d927ab2b9219c06ae8d313c\"\n",
    "data_service = DataService(client)\n",
    "dataset = Dataset.from_data_service(bldg_dataset_id, data_service)\n",
    "rd = dataset.get_inventory_reader()\n",
    "\n",
    "# setting up geodataframe\n",
    "gdf = gpd.GeoDataFrame.from_features([feature for feature in rd], crs=\"EPSG:3857\")\n",
    "gdf = gdf[['guid', 'geometry']]\n",
    "gdf.dropna(subset=['guid'], inplace=True)\n",
    "gdf.drop_duplicates(subset='guid', inplace=True)\n",
    "gdf.set_index('guid', inplace=True)\n",
    "\n",
    "def get_gdf_feats(gdf, path_to_run=None, values=None, k=None):\n",
    "    df = pd.read_csv(path_to_run)\n",
    "    df.set_index('Z', inplace=True)\n",
    "    if values != None:\n",
    "        df = df.loc[df['Values'].isin(values)]\n",
    "    if k != None:\n",
    "        df = df.loc[df['K'].isin(k)]\n",
    "    gdf_new = pd.merge(gdf, df, left_index=True, right_index=True)\n",
    "    return gdf_new"
   ]
  },
  {
   "cell_type": "markdown",
   "id": "academic-assault",
   "metadata": {},
   "source": [
    "### Drawing Map"
   ]
  },
  {
   "cell_type": "code",
   "execution_count": null,
   "id": "particular-answer",
   "metadata": {},
   "outputs": [],
   "source": [
    "##### The range of options to look at:\n",
    "\n",
    "#  | Option     | Description                                      |\n",
    "#  | ---        | ---                                              |\n",
    "#  | Op1_500B20 | Plan 1 for 500 year event with Budget $40,000,000| \n",
    "#  | Op2_500B20 | Plan 2 for 500 year event with Budget $40,000,000|\n",
    "#  | Op3_500B20 | Plan 3 for 500 year event with Budget $40,000,000| \n",
    "#  | Op1_500B40 | Plan 1 for 500 year event with Budget $80,000,000|\n",
    "#  | Op2_500B40 | Plan 2 for 500 year event with Budget $80,000,000|\n",
    "#  | Op3_500B40 | Plan 3 for 500 year event with Budget $80,000,000|\n",
    "#  | Op1_500B60 | Plan 1 for 500 year event with Budget $120,000,000|\n",
    "#  | Op2_500B60 | Plan 2 for 500 year event with Budget $120,000,000|\n",
    "#  | Op3_500B60 | Plan 3 for 500 year event with Budget $120,000,000|"
   ]
  },
  {
   "cell_type": "code",
   "execution_count": null,
   "id": "confused-responsibility",
   "metadata": {},
   "outputs": [],
   "source": [
    "# --- making figure and map\n",
    "fig, ax = plt.subplots(1,1)\n",
    "gdf = gdf.to_crs(epsg=3857)\n",
    "\n",
    "# plotting all parcels\n",
    "gdf.plot(ax=ax, color='yellow')\n",
    "abc = \"Optimization_Model/500_yr_Results/decision_variable_B20_X42.csv\"\n",
    "# getting a subset of parcels\n",
    "gdf_k1 = get_gdf_feats(gdf, path_to_run= abc , values=[1,2], k=[1])\n",
    "gdf_k2 = get_gdf_feats(gdf, path_to_run= abc, values=[1,2], k=[2])\n",
    "gdf_k3 = get_gdf_feats(gdf, path_to_run= abc, values=[1,2], k=[3])\n",
    "\n",
    "# drawing the subset of parcels on the map\n",
    "gdf_k1.plot(ax=ax, color='salmon')\n",
    "gdf_k2.plot(ax=ax, color='green')\n",
    "gdf_k3.plot(ax=ax, color='blue')\n",
    "# adding basemap\n",
    "#ctx.add_basemap(ax, zoom=15, crs='EPSG:4326', source=ctx.providers.Stamen.TonerLite)\n",
    "ctx.add_basemap(ax, zoom=15, crs='EPSG:4326', source=ctx.providers.OpenStreetMap.Mapnik)\n",
    "from matplotlib.legend import Legend\n",
    "import matplotlib.patches as mpatches\n",
    "p0 = mpatches.Patch(color='yellow')\n",
    "p1 = mpatches.Patch(color='salmon')\n",
    "p2 = mpatches.Patch(color='green')\n",
    "p3 = mpatches.Patch(color='blue')\n",
    "leg = plt.legend((p0,p1,p2,p3),('Mitigation Option 0','Mitigation Option 1','Mitigation Option 2', 'Mitigation Option 3'),loc=\"upper left\",fontsize = 15)\n",
    "ax.add_artist(leg);\n",
    "ax.set_title(\"Retrofitting Strategy in Plan 2 with Budget $120 Million for 500year-event\",fontsize = 15)"
   ]
  },
  {
   "cell_type": "code",
   "execution_count": null,
   "id": "governmental-toner",
   "metadata": {},
   "outputs": [],
   "source": []
  }
 ],
 "metadata": {
  "kernelspec": {
   "display_name": "Python 3",
   "language": "python",
   "name": "python3"
  },
  "language_info": {
   "codemirror_mode": {
    "name": "ipython",
    "version": 3
   },
   "file_extension": ".py",
   "mimetype": "text/x-python",
   "name": "python",
   "nbconvert_exporter": "python",
   "pygments_lexer": "ipython3",
   "version": "3.8.8"
  }
 },
 "nbformat": 4,
 "nbformat_minor": 5
}
