{
 "cells": [
  {
   "cell_type": "markdown",
   "metadata": {
    "colab_type": "text",
    "id": "view-in-github"
   },
   "source": [
    "<a href=\"https://colab.research.google.com/github/npr99/IN-CORE_notebooks/blob/main/IN_CORE_NCSA_Seaside_Building_Inventory.ipynb\" target=\"_parent\"><img src=\"https://colab.research.google.com/assets/colab-badge.svg\" alt=\"Open In Colab\"/></a>"
   ]
  },
  {
   "cell_type": "markdown",
   "metadata": {
    "id": "hbUZ51Z4gH7L"
   },
   "source": [
    "### Update Seaside Building Inventory\n",
    "The Seaside Building inventory needs to have the required attribute columns based on IN-CORE standards.\n",
    "\n",
    "The inventory needs to be in a shapefile format.\n",
    "\n",
    "The inventory needs to include the strcture id from the Address Point Invenotry for the Housing Unit Allocation algorithms.\n",
    "\n"
   ]
  },
  {
   "cell_type": "code",
   "execution_count": 3,
   "metadata": {
    "id": "4-woWI0jgH7R"
   },
   "outputs": [],
   "source": [
    "import pandas as pd   # Pandas for data frame manipulation\n",
    "import geopandas as gpd # For reading in shapefiles\n",
    "import numpy as np # For filling in missing values\n",
    "import sys # For displaying package versions\n",
    "import os # For managing directories and file paths if drive is mounted"
   ]
  },
  {
   "cell_type": "code",
   "execution_count": 4,
   "metadata": {
    "id": "F17AWBCKVBei",
    "outputId": "935b8845-284e-4344-80ab-e887312573ab"
   },
   "outputs": [],
   "source": [
    "from pyincore import IncoreClient, Dataset, FragilityService, MappingSet, DataService\n",
    "from pyincore.analyses.buildingdamage.buildingdamage import BuildingDamage\n",
    "\n",
    "from pyincore_viz.geoutil import GeoUtil as viz"
   ]
  },
  {
   "cell_type": "code",
   "execution_count": 5,
   "metadata": {
    "id": "miq8obGpVBej",
    "outputId": "a7db8f39-5d24-48b9-9361-14dc3236448a"
   },
   "outputs": [
    {
     "name": "stdout",
     "output_type": "stream",
     "text": [
      "Python Version  3.7.8 | packaged by conda-forge | (default, Jul 31 2020, 01:53:57) [MSC v.1916 64 bit (AMD64)]\n",
      "pandas version:  1.2.3\n",
      "numpy version:  1.20.1\n"
     ]
    }
   ],
   "source": [
    "# Check package versions - good practice for replication\n",
    "print(\"Python Version \",sys.version)\n",
    "print(\"pandas version: \", pd.__version__)\n",
    "print(\"numpy version: \", np.__version__)"
   ]
  },
  {
   "cell_type": "code",
   "execution_count": 6,
   "metadata": {
    "id": "QWTPujPxVBej",
    "outputId": "8c949b9e-e779-419e-aad0-8a36284b86c8"
   },
   "outputs": [
    {
     "data": {
      "text/plain": [
       "'C:\\\\Users\\\\TarunAdluri\\\\Desktop\\\\Thesis\\\\SeasideData\\\\INCOREPRESENTATION\\\\INCORE\\\\Buldings\\\\IN-CORE_notebooks'"
      ]
     },
     "execution_count": 6,
     "metadata": {},
     "output_type": "execute_result"
    }
   ],
   "source": [
    "# Check working directory - good practice for relative path access\n",
    "os.getcwd()"
   ]
  },
  {
   "cell_type": "code",
   "execution_count": 7,
   "metadata": {
    "id": "DrYv6kxDVBej",
    "outputId": "22786c67-e03b-4a35-b145-5f2843cc8e56"
   },
   "outputs": [
    {
     "name": "stdout",
     "output_type": "stream",
     "text": [
      "Enter username: tarunadluri\n",
      "Enter password: ········\n",
      "Connection successful to IN-CORE services. pyIncore version detected: 0.9.0\n"
     ]
    }
   ],
   "source": [
    "client = IncoreClient()\n",
    "# IN-CORE chaches files on the local machine, it might be necessary to clear the memory\n",
    "#client.clear_cache()"
   ]
  },
  {
   "cell_type": "code",
   "execution_count": 8,
   "metadata": {
    "id": "Q_NcJDqtVBek"
   },
   "outputs": [],
   "source": [
    "# create data_service object for loading files\n",
    "data_service = DataService(client)"
   ]
  },
  {
   "cell_type": "code",
   "execution_count": 9,
   "metadata": {
    "id": "EQDATD_ZVBek",
    "outputId": "f54d7174-3da2-444a-902b-aef28f4d0b1c"
   },
   "outputs": [
    {
     "name": "stdout",
     "output_type": "stream",
     "text": [
      "Dataset already exists locally. Reading from local cached zip.\n",
      "Unzipped folder found in the local cache. Reading from it...\n",
      "The IN-CORE Dataservice has saved the Building Inventory on your local machine: C:\\Users\\TarunAdluri\\.incore\\cache_data\\5df40388b9219c06cf8b0c80\\seaside_bldg\\seaside_bldg.shp\n"
     ]
    }
   ],
   "source": [
    "# Seaside BUilding Inventory Version 5\n",
    "bldg_inv_id = '5df40388b9219c06cf8b0c80'\n",
    "# load building inventory\n",
    "bldg_inv = Dataset.from_data_service(bldg_inv_id, data_service)\n",
    "filename = bldg_inv.get_file_path('shp')\n",
    "print(\"The IN-CORE Dataservice has saved the Building Inventory on your local machine: \"+filename)"
   ]
  },
  {
   "cell_type": "code",
   "execution_count": 10,
   "metadata": {
    "id": "7XjZk8nLVBek",
    "outputId": "473adec1-5bf2-43a4-ece9-7c1e90b2225b"
   },
   "outputs": [
    {
     "data": {
      "text/html": [
       "<div>\n",
       "<style scoped>\n",
       "    .dataframe tbody tr th:only-of-type {\n",
       "        vertical-align: middle;\n",
       "    }\n",
       "\n",
       "    .dataframe tbody tr th {\n",
       "        vertical-align: top;\n",
       "    }\n",
       "\n",
       "    .dataframe thead th {\n",
       "        text-align: right;\n",
       "    }\n",
       "</style>\n",
       "<table border=\"1\" class=\"dataframe\">\n",
       "  <thead>\n",
       "    <tr style=\"text-align: right;\">\n",
       "      <th></th>\n",
       "      <th>geometry</th>\n",
       "      <th>parid</th>\n",
       "      <th>parid_card</th>\n",
       "      <th>bldg_id</th>\n",
       "      <th>struct_typ</th>\n",
       "      <th>str_prob</th>\n",
       "      <th>year_built</th>\n",
       "      <th>no_stories</th>\n",
       "      <th>a_stories</th>\n",
       "      <th>b_stories</th>\n",
       "      <th>...</th>\n",
       "      <th>occ_typ2</th>\n",
       "      <th>tract_id</th>\n",
       "      <th>guid</th>\n",
       "      <th>FID_NEW</th>\n",
       "      <th>origin</th>\n",
       "      <th>stat_class</th>\n",
       "      <th>rmv_improv</th>\n",
       "      <th>rmv_land</th>\n",
       "      <th>elev</th>\n",
       "      <th>period</th>\n",
       "    </tr>\n",
       "  </thead>\n",
       "  <tbody>\n",
       "    <tr>\n",
       "      <th>0</th>\n",
       "      <td>POINT (-123.90900 46.01433)</td>\n",
       "      <td>None</td>\n",
       "      <td>None</td>\n",
       "      <td>None</td>\n",
       "      <td>W1</td>\n",
       "      <td>None</td>\n",
       "      <td>1968</td>\n",
       "      <td>1</td>\n",
       "      <td>None</td>\n",
       "      <td>None</td>\n",
       "      <td>...</td>\n",
       "      <td>None</td>\n",
       "      <td>None</td>\n",
       "      <td>fba4c73f-9b1b-4942-b7fb-bc276a4e0a4e</td>\n",
       "      <td>5783</td>\n",
       "      <td>1</td>\n",
       "      <td>193</td>\n",
       "      <td>0.0</td>\n",
       "      <td>0.0</td>\n",
       "      <td>-1.037119</td>\n",
       "      <td>0.35</td>\n",
       "    </tr>\n",
       "    <tr>\n",
       "      <th>1</th>\n",
       "      <td>POINT (-123.90585 45.99795)</td>\n",
       "      <td>None</td>\n",
       "      <td>None</td>\n",
       "      <td>None</td>\n",
       "      <td>W1</td>\n",
       "      <td>None</td>\n",
       "      <td>1992</td>\n",
       "      <td>1</td>\n",
       "      <td>None</td>\n",
       "      <td>None</td>\n",
       "      <td>...</td>\n",
       "      <td>None</td>\n",
       "      <td>None</td>\n",
       "      <td>65d6e370-c05b-4b2f-bd17-d914d1d056c7</td>\n",
       "      <td>5782</td>\n",
       "      <td>1</td>\n",
       "      <td>193</td>\n",
       "      <td>0.0</td>\n",
       "      <td>0.0</td>\n",
       "      <td>-14.826966</td>\n",
       "      <td>0.35</td>\n",
       "    </tr>\n",
       "    <tr>\n",
       "      <th>2</th>\n",
       "      <td>POINT (-123.90900 46.01433)</td>\n",
       "      <td>None</td>\n",
       "      <td>None</td>\n",
       "      <td>None</td>\n",
       "      <td>W1</td>\n",
       "      <td>None</td>\n",
       "      <td>1974</td>\n",
       "      <td>1</td>\n",
       "      <td>None</td>\n",
       "      <td>None</td>\n",
       "      <td>...</td>\n",
       "      <td>None</td>\n",
       "      <td>None</td>\n",
       "      <td>dad76485-9694-409e-ac7f-c64c7bd5c32c</td>\n",
       "      <td>5781</td>\n",
       "      <td>1</td>\n",
       "      <td>191</td>\n",
       "      <td>0.0</td>\n",
       "      <td>0.0</td>\n",
       "      <td>-1.037119</td>\n",
       "      <td>0.35</td>\n",
       "    </tr>\n",
       "    <tr>\n",
       "      <th>3</th>\n",
       "      <td>POINT (-123.90900 46.01433)</td>\n",
       "      <td>None</td>\n",
       "      <td>None</td>\n",
       "      <td>None</td>\n",
       "      <td>W1</td>\n",
       "      <td>None</td>\n",
       "      <td>1984</td>\n",
       "      <td>1</td>\n",
       "      <td>None</td>\n",
       "      <td>None</td>\n",
       "      <td>...</td>\n",
       "      <td>None</td>\n",
       "      <td>None</td>\n",
       "      <td>6f57cfb6-d244-40d5-96f5-03aeddd5e30a</td>\n",
       "      <td>5780</td>\n",
       "      <td>1</td>\n",
       "      <td>193</td>\n",
       "      <td>0.0</td>\n",
       "      <td>0.0</td>\n",
       "      <td>-1.037119</td>\n",
       "      <td>0.35</td>\n",
       "    </tr>\n",
       "    <tr>\n",
       "      <th>4</th>\n",
       "      <td>POINT (-123.91183 45.99747)</td>\n",
       "      <td>None</td>\n",
       "      <td>None</td>\n",
       "      <td>None</td>\n",
       "      <td>W1</td>\n",
       "      <td>None</td>\n",
       "      <td>1964</td>\n",
       "      <td>1</td>\n",
       "      <td>None</td>\n",
       "      <td>None</td>\n",
       "      <td>...</td>\n",
       "      <td>None</td>\n",
       "      <td>None</td>\n",
       "      <td>929f1040-6224-409d-b4e3-58946daf3b91</td>\n",
       "      <td>5779</td>\n",
       "      <td>1</td>\n",
       "      <td>190</td>\n",
       "      <td>0.0</td>\n",
       "      <td>0.0</td>\n",
       "      <td>-1.729172</td>\n",
       "      <td>0.35</td>\n",
       "    </tr>\n",
       "  </tbody>\n",
       "</table>\n",
       "<p>5 rows × 37 columns</p>\n",
       "</div>"
      ],
      "text/plain": [
       "                      geometry parid parid_card bldg_id struct_typ str_prob  \\\n",
       "0  POINT (-123.90900 46.01433)  None       None    None         W1     None   \n",
       "1  POINT (-123.90585 45.99795)  None       None    None         W1     None   \n",
       "2  POINT (-123.90900 46.01433)  None       None    None         W1     None   \n",
       "3  POINT (-123.90900 46.01433)  None       None    None         W1     None   \n",
       "4  POINT (-123.91183 45.99747)  None       None    None         W1     None   \n",
       "\n",
       "   year_built  no_stories a_stories b_stories  ... occ_typ2 tract_id  \\\n",
       "0        1968           1      None      None  ...     None     None   \n",
       "1        1992           1      None      None  ...     None     None   \n",
       "2        1974           1      None      None  ...     None     None   \n",
       "3        1984           1      None      None  ...     None     None   \n",
       "4        1964           1      None      None  ...     None     None   \n",
       "\n",
       "                                   guid FID_NEW origin stat_class rmv_improv  \\\n",
       "0  fba4c73f-9b1b-4942-b7fb-bc276a4e0a4e    5783      1        193        0.0   \n",
       "1  65d6e370-c05b-4b2f-bd17-d914d1d056c7    5782      1        193        0.0   \n",
       "2  dad76485-9694-409e-ac7f-c64c7bd5c32c    5781      1        191        0.0   \n",
       "3  6f57cfb6-d244-40d5-96f5-03aeddd5e30a    5780      1        193        0.0   \n",
       "4  929f1040-6224-409d-b4e3-58946daf3b91    5779      1        190        0.0   \n",
       "\n",
       "  rmv_land       elev period  \n",
       "0      0.0  -1.037119   0.35  \n",
       "1      0.0 -14.826966   0.35  \n",
       "2      0.0  -1.037119   0.35  \n",
       "3      0.0  -1.037119   0.35  \n",
       "4      0.0  -1.729172   0.35  \n",
       "\n",
       "[5 rows x 37 columns]"
      ]
     },
     "execution_count": 10,
     "metadata": {},
     "output_type": "execute_result"
    }
   ],
   "source": [
    "gdf = bldg_inv.get_dataframe_from_shapefile()\n",
    "gdf.head()"
   ]
  },
  {
   "cell_type": "markdown",
   "metadata": {
    "id": "gkrzreDLgH7T"
   },
   "source": [
    "## Add link between Address Point Inventory and Building Inventory\n",
    "In order for the Housing Unit Allocation link to the Building Inventory is the structure id.\n",
    "\n",
    "Structure ID is a critical variable that links the building inventory with the address point inventory."
   ]
  },
  {
   "cell_type": "code",
   "execution_count": 11,
   "metadata": {
    "id": "0ptVYHBSVBel",
    "outputId": "ebebace1-c219-426f-a2a2-b6895afae249"
   },
   "outputs": [
    {
     "name": "stdout",
     "output_type": "stream",
     "text": [
      "Dataset already exists locally. Reading from local cached zip.\n",
      "Unzipped folder found in the local cache. Reading from it...\n",
      "The IN-CORE Dataservice has saved the Building Inventory on your local machine: C:\\Users\\TarunAdluri\\.incore\\cache_data\\5d5433edb9219c0689b98344\\IN-CORE_1bv6_SetupSeaside_FourInventories_2019-08-02_buildinginventory\\IN-CORE_1bv6_SetupSeaside_FourInventories_2019-08-02_buildinginventory.csv\n"
     ]
    }
   ],
   "source": [
    "# reading in Nathanael's building inventory - this version of the building inventory has structure id\n",
    "bldg_inv_id_v2 = '5d5433edb9219c0689b98344'\n",
    "dataset = Dataset.from_data_service(bldg_inv_id_v2, data_service)\n",
    "filename = dataset.get_file_path('csv')\n",
    "print(\"The IN-CORE Dataservice has saved the Building Inventory on your local machine: \"+filename)"
   ]
  },
  {
   "cell_type": "code",
   "execution_count": 12,
   "metadata": {
    "id": "wmTMfBHuVBel",
    "outputId": "827ba85b-881b-4dd0-e46a-bdc4688e4be7"
   },
   "outputs": [
    {
     "data": {
      "text/html": [
       "<div>\n",
       "<style scoped>\n",
       "    .dataframe tbody tr th:only-of-type {\n",
       "        vertical-align: middle;\n",
       "    }\n",
       "\n",
       "    .dataframe tbody tr th {\n",
       "        vertical-align: top;\n",
       "    }\n",
       "\n",
       "    .dataframe thead th {\n",
       "        text-align: right;\n",
       "    }\n",
       "</style>\n",
       "<table border=\"1\" class=\"dataframe\">\n",
       "  <thead>\n",
       "    <tr style=\"text-align: right;\">\n",
       "      <th></th>\n",
       "      <th>strctid</th>\n",
       "      <th>blockid</th>\n",
       "      <th>parcelid</th>\n",
       "      <th>huestimate</th>\n",
       "      <th>x</th>\n",
       "      <th>y</th>\n",
       "      <th>landuse</th>\n",
       "      <th>guid</th>\n",
       "      <th>d_sf</th>\n",
       "      <th>insignific</th>\n",
       "      <th>moderate</th>\n",
       "      <th>heavy</th>\n",
       "      <th>complete</th>\n",
       "    </tr>\n",
       "  </thead>\n",
       "  <tbody>\n",
       "    <tr>\n",
       "      <th>0</th>\n",
       "      <td>41007000000020005S</td>\n",
       "      <td>410079511001025</td>\n",
       "      <td>0</td>\n",
       "      <td>1</td>\n",
       "      <td>-123.900452</td>\n",
       "      <td>46.010494</td>\n",
       "      <td>422</td>\n",
       "      <td>d1efcbda-33ed-4e2f-ada9-103289097787</td>\n",
       "      <td>1</td>\n",
       "      <td>0.007564</td>\n",
       "      <td>0.220722</td>\n",
       "      <td>0.495246</td>\n",
       "      <td>0.276469</td>\n",
       "    </tr>\n",
       "    <tr>\n",
       "      <th>1</th>\n",
       "      <td>41007000000020009S</td>\n",
       "      <td>410079511003005</td>\n",
       "      <td>0</td>\n",
       "      <td>1</td>\n",
       "      <td>-123.932060</td>\n",
       "      <td>45.979836</td>\n",
       "      <td>900</td>\n",
       "      <td>1664a263-f670-4485-8fa2-fb8c77030b3a</td>\n",
       "      <td>1</td>\n",
       "      <td>0.008840</td>\n",
       "      <td>0.175102</td>\n",
       "      <td>0.532891</td>\n",
       "      <td>0.283167</td>\n",
       "    </tr>\n",
       "    <tr>\n",
       "      <th>2</th>\n",
       "      <td>41007020802001001S</td>\n",
       "      <td>410079507002020</td>\n",
       "      <td>20802</td>\n",
       "      <td>1</td>\n",
       "      <td>-123.918625</td>\n",
       "      <td>46.017567</td>\n",
       "      <td>142</td>\n",
       "      <td>04819c03-9e77-4a0e-96b7-5f9ef5067351</td>\n",
       "      <td>1</td>\n",
       "      <td>0.166990</td>\n",
       "      <td>0.496775</td>\n",
       "      <td>0.301215</td>\n",
       "      <td>0.035020</td>\n",
       "    </tr>\n",
       "    <tr>\n",
       "      <th>3</th>\n",
       "      <td>41007020853008001S</td>\n",
       "      <td>410079507002040</td>\n",
       "      <td>20853</td>\n",
       "      <td>1</td>\n",
       "      <td>-123.913643</td>\n",
       "      <td>46.017326</td>\n",
       "      <td>122</td>\n",
       "      <td>26c7457d-e252-40a7-a5db-5091cb9a6fe8</td>\n",
       "      <td>1</td>\n",
       "      <td>0.169053</td>\n",
       "      <td>0.497704</td>\n",
       "      <td>0.298854</td>\n",
       "      <td>0.034390</td>\n",
       "    </tr>\n",
       "    <tr>\n",
       "      <th>4</th>\n",
       "      <td>41007020853008002S</td>\n",
       "      <td>410079507002040</td>\n",
       "      <td>20853</td>\n",
       "      <td>1</td>\n",
       "      <td>-123.913643</td>\n",
       "      <td>46.017326</td>\n",
       "      <td>123</td>\n",
       "      <td>d0bbb5b2-8465-47f0-9ea4-51d7493e4c99</td>\n",
       "      <td>1</td>\n",
       "      <td>0.169053</td>\n",
       "      <td>0.497704</td>\n",
       "      <td>0.298854</td>\n",
       "      <td>0.034390</td>\n",
       "    </tr>\n",
       "  </tbody>\n",
       "</table>\n",
       "</div>"
      ],
      "text/plain": [
       "              strctid          blockid  parcelid  huestimate           x  \\\n",
       "0  41007000000020005S  410079511001025         0           1 -123.900452   \n",
       "1  41007000000020009S  410079511003005         0           1 -123.932060   \n",
       "2  41007020802001001S  410079507002020     20802           1 -123.918625   \n",
       "3  41007020853008001S  410079507002040     20853           1 -123.913643   \n",
       "4  41007020853008002S  410079507002040     20853           1 -123.913643   \n",
       "\n",
       "           y  landuse                                  guid  d_sf  insignific  \\\n",
       "0  46.010494      422  d1efcbda-33ed-4e2f-ada9-103289097787     1    0.007564   \n",
       "1  45.979836      900  1664a263-f670-4485-8fa2-fb8c77030b3a     1    0.008840   \n",
       "2  46.017567      142  04819c03-9e77-4a0e-96b7-5f9ef5067351     1    0.166990   \n",
       "3  46.017326      122  26c7457d-e252-40a7-a5db-5091cb9a6fe8     1    0.169053   \n",
       "4  46.017326      123  d0bbb5b2-8465-47f0-9ea4-51d7493e4c99     1    0.169053   \n",
       "\n",
       "   moderate     heavy  complete  \n",
       "0  0.220722  0.495246  0.276469  \n",
       "1  0.175102  0.532891  0.283167  \n",
       "2  0.496775  0.301215  0.035020  \n",
       "3  0.497704  0.298854  0.034390  \n",
       "4  0.497704  0.298854  0.034390  "
      ]
     },
     "execution_count": 12,
     "metadata": {},
     "output_type": "execute_result"
    }
   ],
   "source": [
    "df = dataset.get_dataframe_from_csv()\n",
    "df.head()"
   ]
  },
  {
   "cell_type": "code",
   "execution_count": 13,
   "metadata": {
    "id": "gTCbh3OSVBel",
    "outputId": "2128d8c0-1b44-4cb6-d87f-f12dbb986c44"
   },
   "outputs": [
    {
     "name": "stdout",
     "output_type": "stream",
     "text": [
      "3687 4679 4679\n"
     ]
    }
   ],
   "source": [
    "# merging Nathanael's building inventory CSV with OSU's shapefile\n",
    "gdf_new = pd.merge(gdf, df[['strctid', 'guid','x','y']], how='left', left_on='guid', right_on='guid')\n",
    "print(len(df), len(gdf), len(gdf_new)) # checking lengths"
   ]
  },
  {
   "cell_type": "code",
   "execution_count": 14,
   "metadata": {
    "id": "XP_9eaVOVBem",
    "outputId": "02fa32bb-8555-4741-d08a-5f5c2970c503"
   },
   "outputs": [
    {
     "data": {
      "text/plain": [
       "count                                     4679\n",
       "unique                                    4679\n",
       "top       1fd6aa80-1100-44b5-9c42-db80e27ecf94\n",
       "freq                                         1\n",
       "Name: guid, dtype: object"
      ]
     },
     "execution_count": 14,
     "metadata": {},
     "output_type": "execute_result"
    }
   ],
   "source": [
    "gdf_new.guid.describe()"
   ]
  },
  {
   "cell_type": "code",
   "execution_count": 15,
   "metadata": {
    "id": "cQbnNwm4VBem",
    "outputId": "6ce59d42-775b-42bd-8cae-e4b113cd529d"
   },
   "outputs": [
    {
     "data": {
      "text/plain": [
       "count                   3687\n",
       "unique                  3687\n",
       "top       41007024421002002S\n",
       "freq                       1\n",
       "Name: strctid, dtype: object"
      ]
     },
     "execution_count": 15,
     "metadata": {},
     "output_type": "execute_result"
    }
   ],
   "source": [
    "gdf_new.strctid.describe()"
   ]
  },
  {
   "cell_type": "markdown",
   "metadata": {
    "id": "uRhPm1h5gH7U"
   },
   "source": [
    "## Confirm Structure ID merge location matches geometry"
   ]
  },
  {
   "cell_type": "code",
   "execution_count": 16,
   "metadata": {
    "id": "bws93WLZVBen",
    "outputId": "7054fa0f-74ce-448d-9761-e37eac318645"
   },
   "outputs": [
    {
     "data": {
      "text/html": [
       "<div>\n",
       "<style scoped>\n",
       "    .dataframe tbody tr th:only-of-type {\n",
       "        vertical-align: middle;\n",
       "    }\n",
       "\n",
       "    .dataframe tbody tr th {\n",
       "        vertical-align: top;\n",
       "    }\n",
       "\n",
       "    .dataframe thead th {\n",
       "        text-align: right;\n",
       "    }\n",
       "</style>\n",
       "<table border=\"1\" class=\"dataframe\">\n",
       "  <thead>\n",
       "    <tr style=\"text-align: right;\">\n",
       "      <th></th>\n",
       "      <th>strctid</th>\n",
       "      <th>guid</th>\n",
       "      <th>x</th>\n",
       "      <th>y</th>\n",
       "      <th>geometry</th>\n",
       "    </tr>\n",
       "  </thead>\n",
       "  <tbody>\n",
       "    <tr>\n",
       "      <th>0</th>\n",
       "      <td>41007020933038031S</td>\n",
       "      <td>fba4c73f-9b1b-4942-b7fb-bc276a4e0a4e</td>\n",
       "      <td>-123.908997</td>\n",
       "      <td>46.014336</td>\n",
       "      <td>POINT (-123.90900 46.01433)</td>\n",
       "    </tr>\n",
       "    <tr>\n",
       "      <th>1</th>\n",
       "      <td>41007022416079053S</td>\n",
       "      <td>65d6e370-c05b-4b2f-bd17-d914d1d056c7</td>\n",
       "      <td>-123.905846</td>\n",
       "      <td>45.997948</td>\n",
       "      <td>POINT (-123.90585 45.99795)</td>\n",
       "    </tr>\n",
       "    <tr>\n",
       "      <th>2</th>\n",
       "      <td>41007020933038014S</td>\n",
       "      <td>dad76485-9694-409e-ac7f-c64c7bd5c32c</td>\n",
       "      <td>-123.908997</td>\n",
       "      <td>46.014336</td>\n",
       "      <td>POINT (-123.90900 46.01433)</td>\n",
       "    </tr>\n",
       "    <tr>\n",
       "      <th>3</th>\n",
       "      <td>41007020933038018S</td>\n",
       "      <td>6f57cfb6-d244-40d5-96f5-03aeddd5e30a</td>\n",
       "      <td>-123.908997</td>\n",
       "      <td>46.014336</td>\n",
       "      <td>POINT (-123.90900 46.01433)</td>\n",
       "    </tr>\n",
       "    <tr>\n",
       "      <th>4</th>\n",
       "      <td>41007022789002002S</td>\n",
       "      <td>929f1040-6224-409d-b4e3-58946daf3b91</td>\n",
       "      <td>-123.911827</td>\n",
       "      <td>45.997475</td>\n",
       "      <td>POINT (-123.91183 45.99747)</td>\n",
       "    </tr>\n",
       "  </tbody>\n",
       "</table>\n",
       "</div>"
      ],
      "text/plain": [
       "              strctid                                  guid           x  \\\n",
       "0  41007020933038031S  fba4c73f-9b1b-4942-b7fb-bc276a4e0a4e -123.908997   \n",
       "1  41007022416079053S  65d6e370-c05b-4b2f-bd17-d914d1d056c7 -123.905846   \n",
       "2  41007020933038014S  dad76485-9694-409e-ac7f-c64c7bd5c32c -123.908997   \n",
       "3  41007020933038018S  6f57cfb6-d244-40d5-96f5-03aeddd5e30a -123.908997   \n",
       "4  41007022789002002S  929f1040-6224-409d-b4e3-58946daf3b91 -123.911827   \n",
       "\n",
       "           y                     geometry  \n",
       "0  46.014336  POINT (-123.90900 46.01433)  \n",
       "1  45.997948  POINT (-123.90585 45.99795)  \n",
       "2  46.014336  POINT (-123.90900 46.01433)  \n",
       "3  46.014336  POINT (-123.90900 46.01433)  \n",
       "4  45.997475  POINT (-123.91183 45.99747)  "
      ]
     },
     "execution_count": 16,
     "metadata": {},
     "output_type": "execute_result"
    }
   ],
   "source": [
    "gdf_new[['strctid', 'guid','x','y','geometry']].head()"
   ]
  },
  {
   "cell_type": "code",
   "execution_count": 17,
   "metadata": {
    "id": "rWWzBmRVVBen",
    "outputId": "2e4fd903-ed29-455b-d8cf-113647e9a0c7"
   },
   "outputs": [
    {
     "data": {
      "text/plain": [
       "Index(['geometry', 'parid', 'parid_card', 'bldg_id', 'struct_typ', 'str_prob',\n",
       "       'year_built', 'no_stories', 'a_stories', 'b_stories', 'bsmt_type',\n",
       "       'sq_foot', 'gsq_foot', 'occ_type', 'occ_detail', 'major_occ',\n",
       "       'broad_occ', 'appr_bldg', 'repl_cst', 'str_cst', 'nstra_cst',\n",
       "       'nstrd_cst', 'dgn_lvl', 'cont_val', 'efacility', 'dwell_unit',\n",
       "       'str_typ2', 'occ_typ2', 'tract_id', 'guid', 'FID_NEW', 'origin',\n",
       "       'stat_class', 'rmv_improv', 'rmv_land', 'elev', 'period', 'strctid',\n",
       "       'x', 'y'],\n",
       "      dtype='object')"
      ]
     },
     "execution_count": 17,
     "metadata": {},
     "output_type": "execute_result"
    }
   ],
   "source": [
    "gdf_new.columns"
   ]
  },
  {
   "cell_type": "markdown",
   "metadata": {
    "id": "IcEL1kV5VBen"
   },
   "source": [
    "### Check to make sure structure id is unique and non missing\n",
    "\n",
    "Future building inventories will link to the address point inventory with the guid. In the case of the inventory the missing values for strctid cause an error in the housing unit allocation. The next steps will fill in the missing values with the guid. The address point inventory needs to be updated to have the GUID in future versions."
   ]
  },
  {
   "cell_type": "code",
   "execution_count": 18,
   "metadata": {
    "id": "DezCw3JyVBen",
    "outputId": "221e63ed-4675-483b-eff9-3ed3a82e8856"
   },
   "outputs": [
    {
     "data": {
      "text/plain": [
       "count                   3687\n",
       "unique                  3687\n",
       "top       41007024421002002S\n",
       "freq                       1\n",
       "Name: strctid, dtype: object"
      ]
     },
     "execution_count": 18,
     "metadata": {},
     "output_type": "execute_result"
    }
   ],
   "source": [
    "gdf_new['strctid'].describe()"
   ]
  },
  {
   "cell_type": "code",
   "execution_count": 19,
   "metadata": {
    "id": "Xc4QRgejVBeo",
    "outputId": "c3796517-414b-474e-f02d-1bc0176390c7"
   },
   "outputs": [
    {
     "data": {
      "text/plain": [
       "992"
      ]
     },
     "execution_count": 19,
     "metadata": {},
     "output_type": "execute_result"
    }
   ],
   "source": [
    "gdf_new['strctid'].isna().sum()"
   ]
  },
  {
   "cell_type": "code",
   "execution_count": 20,
   "metadata": {
    "id": "fcq8FwYCVBeo"
   },
   "outputs": [],
   "source": [
    "gdf_new.loc[gdf_new['strctid'].isna(), 'strctid'] = gdf_new['guid']"
   ]
  },
  {
   "cell_type": "code",
   "execution_count": 21,
   "metadata": {
    "id": "jtLecMqJVBeo",
    "outputId": "55b92d41-3589-469a-8af9-55b8f336ea86"
   },
   "outputs": [
    {
     "data": {
      "text/plain": [
       "count                                     4679\n",
       "unique                                    4679\n",
       "top       1fd6aa80-1100-44b5-9c42-db80e27ecf94\n",
       "freq                                         1\n",
       "Name: strctid, dtype: object"
      ]
     },
     "execution_count": 21,
     "metadata": {},
     "output_type": "execute_result"
    }
   ],
   "source": [
    "gdf_new['strctid'].describe()"
   ]
  },
  {
   "cell_type": "code",
   "execution_count": 22,
   "metadata": {
    "id": "zcW0DvJzVBeo",
    "outputId": "3375e60b-94e0-4bc1-807c-6ed025cc02b5"
   },
   "outputs": [
    {
     "data": {
      "text/plain": [
       "0"
      ]
     },
     "execution_count": 22,
     "metadata": {},
     "output_type": "execute_result"
    }
   ],
   "source": [
    "gdf_new['strctid'].isna().sum()"
   ]
  },
  {
   "cell_type": "markdown",
   "metadata": {
    "id": "LyTR6gedgH7X"
   },
   "source": [
    "# Clean mereged data to match \n",
    "\n",
    "The latest Building Inventory of a shape file is of version 6, we use the type\n",
    "ergo:buildingInventoryVer6 \n",
    "\n",
    "https://opensource.ncsa.illinois.edu/confluence/display/INCORE1/Building+Inventory+Datatype+Schema\n",
    "\n",
    "Variables to include\n",
    "v6\n",
    "guid\n",
    "\n",
    "strctid \n",
    "\n",
    "struct_typ\n",
    "\n",
    "archetype\n",
    "\n",
    "occ_type\n",
    "\n",
    "appr_bldg\n",
    "\n",
    "sq_foot\n",
    "\n",
    "dwell_unit\n",
    "\n",
    "no_stories\n",
    "\n",
    "cont_val\n",
    "\n",
    "str_typ2\n",
    "\n",
    "efacility\n",
    "\n",
    "parid\n",
    "\n",
    "year_built\n",
    "\n",
    "a_stories\n",
    "\n",
    "b_stories\n",
    "\n",
    "bsmt_type\n",
    "\n",
    "gsq_foot\n",
    "\n",
    "occ_detail\n",
    "\n",
    "major_occ\n",
    "\n",
    "broad_occ\n",
    "\n",
    "repl_cst\n",
    "\n",
    "str_cst\n",
    "\n",
    "nstra_cst\n",
    "\n",
    "nstrd_cst\n",
    "\n",
    "dgn_lvl\n",
    "\n",
    "occ_typ2\n",
    "\n",
    "appr_land\n",
    "\n",
    "appr_tot\n",
    "\n"
   ]
  },
  {
   "cell_type": "code",
   "execution_count": 23,
   "metadata": {
    "id": "GrAPvENngH7X",
    "outputId": "a6bb0392-9de0-4075-b2a5-650b64ae995e"
   },
   "outputs": [
    {
     "data": {
      "text/html": [
       "<div>\n",
       "<style scoped>\n",
       "    .dataframe tbody tr th:only-of-type {\n",
       "        vertical-align: middle;\n",
       "    }\n",
       "\n",
       "    .dataframe tbody tr th {\n",
       "        vertical-align: top;\n",
       "    }\n",
       "\n",
       "    .dataframe thead th {\n",
       "        text-align: right;\n",
       "    }\n",
       "</style>\n",
       "<table border=\"1\" class=\"dataframe\">\n",
       "  <thead>\n",
       "    <tr style=\"text-align: right;\">\n",
       "      <th></th>\n",
       "      <th>varname</th>\n",
       "    </tr>\n",
       "  </thead>\n",
       "  <tbody>\n",
       "    <tr>\n",
       "      <th>14</th>\n",
       "      <td>a_stories</td>\n",
       "    </tr>\n",
       "    <tr>\n",
       "      <th>5</th>\n",
       "      <td>appr_bldg</td>\n",
       "    </tr>\n",
       "    <tr>\n",
       "      <th>27</th>\n",
       "      <td>appr_land</td>\n",
       "    </tr>\n",
       "    <tr>\n",
       "      <th>28</th>\n",
       "      <td>appr_tot</td>\n",
       "    </tr>\n",
       "    <tr>\n",
       "      <th>3</th>\n",
       "      <td>archetype</td>\n",
       "    </tr>\n",
       "  </tbody>\n",
       "</table>\n",
       "</div>"
      ],
      "text/plain": [
       "      varname\n",
       "14  a_stories\n",
       "5   appr_bldg\n",
       "27  appr_land\n",
       "28   appr_tot\n",
       "3   archetype"
      ]
     },
     "execution_count": 23,
     "metadata": {},
     "output_type": "execute_result"
    }
   ],
   "source": [
    "# create list of all required ergo:buildingInventoryVer6 columns\n",
    "incore_columns = ['guid',\n",
    "                  'strctid',\n",
    "                  'struct_typ', \n",
    "                  'archetype', \n",
    "                  'occ_type', \n",
    "                  'appr_bldg', \n",
    "                  'sq_foot', \n",
    "                  'dwell_unit', \n",
    "                  'no_stories', \n",
    "                  'cont_val', \n",
    "                  'str_typ2', \n",
    "                  'efacility', \n",
    "                  'parid', \n",
    "                  'year_built', \n",
    "                  'a_stories', \n",
    "                  'b_stories', \n",
    "                  'bsmt_type', \n",
    "                  'gsq_foot', \n",
    "                  'occ_detail', \n",
    "                  'major_occ', \n",
    "                  'broad_occ', \n",
    "                  'repl_cst', \n",
    "                  'str_cst', \n",
    "                  'nstra_cst', \n",
    "                  'nstrd_cst', \n",
    "                  'dgn_lvl', \n",
    "                  'occ_typ2', \n",
    "                  'appr_land', \n",
    "                  'appr_tot']\n",
    "incore_columns_df = pd.Series(incore_columns,name='varname')\n",
    "incore_columns_df = pd.DataFrame(incore_columns,columns =['varname']).sort_values(by=['varname'])\n",
    "incore_columns_df.head()"
   ]
  },
  {
   "cell_type": "markdown",
   "metadata": {
    "id": "63WMpxrpVBep"
   },
   "source": [
    "### Compare IN-CORE Column list with Current list"
   ]
  },
  {
   "cell_type": "code",
   "execution_count": 24,
   "metadata": {
    "id": "m2uS5BXHVBep",
    "outputId": "27057521-d240-41d4-eab0-8680ea82f1ea"
   },
   "outputs": [
    {
     "data": {
      "text/html": [
       "<div>\n",
       "<style scoped>\n",
       "    .dataframe tbody tr th:only-of-type {\n",
       "        vertical-align: middle;\n",
       "    }\n",
       "\n",
       "    .dataframe tbody tr th {\n",
       "        vertical-align: top;\n",
       "    }\n",
       "\n",
       "    .dataframe thead th {\n",
       "        text-align: right;\n",
       "    }\n",
       "</style>\n",
       "<table border=\"1\" class=\"dataframe\">\n",
       "  <thead>\n",
       "    <tr style=\"text-align: right;\">\n",
       "      <th></th>\n",
       "      <th>varname</th>\n",
       "    </tr>\n",
       "  </thead>\n",
       "  <tbody>\n",
       "    <tr>\n",
       "      <th>30</th>\n",
       "      <td>FID_NEW</td>\n",
       "    </tr>\n",
       "    <tr>\n",
       "      <th>8</th>\n",
       "      <td>a_stories</td>\n",
       "    </tr>\n",
       "    <tr>\n",
       "      <th>17</th>\n",
       "      <td>appr_bldg</td>\n",
       "    </tr>\n",
       "    <tr>\n",
       "      <th>9</th>\n",
       "      <td>b_stories</td>\n",
       "    </tr>\n",
       "    <tr>\n",
       "      <th>3</th>\n",
       "      <td>bldg_id</td>\n",
       "    </tr>\n",
       "  </tbody>\n",
       "</table>\n",
       "</div>"
      ],
      "text/plain": [
       "      varname\n",
       "30    FID_NEW\n",
       "8   a_stories\n",
       "17  appr_bldg\n",
       "9   b_stories\n",
       "3     bldg_id"
      ]
     },
     "execution_count": 24,
     "metadata": {},
     "output_type": "execute_result"
    }
   ],
   "source": [
    "columnlist = pd.DataFrame(gdf_new.columns,columns =['varname']).sort_values(by=['varname'])\n",
    "columnlist.head()"
   ]
  },
  {
   "cell_type": "code",
   "execution_count": 25,
   "metadata": {
    "id": "XtMZfrY0VBep",
    "outputId": "e33315ff-4526-480c-b5e5-0b4bb0f87e75"
   },
   "outputs": [
    {
     "data": {
      "text/html": [
       "<div>\n",
       "<style scoped>\n",
       "    .dataframe tbody tr th:only-of-type {\n",
       "        vertical-align: middle;\n",
       "    }\n",
       "\n",
       "    .dataframe tbody tr th {\n",
       "        vertical-align: top;\n",
       "    }\n",
       "\n",
       "    .dataframe thead th {\n",
       "        text-align: right;\n",
       "    }\n",
       "</style>\n",
       "<table border=\"1\" class=\"dataframe\">\n",
       "  <thead>\n",
       "    <tr style=\"text-align: right;\">\n",
       "      <th></th>\n",
       "      <th>varname</th>\n",
       "      <th>_merge</th>\n",
       "    </tr>\n",
       "  </thead>\n",
       "  <tbody>\n",
       "    <tr>\n",
       "      <th>0</th>\n",
       "      <td>FID_NEW</td>\n",
       "      <td>left_only</td>\n",
       "    </tr>\n",
       "    <tr>\n",
       "      <th>1</th>\n",
       "      <td>a_stories</td>\n",
       "      <td>both</td>\n",
       "    </tr>\n",
       "    <tr>\n",
       "      <th>2</th>\n",
       "      <td>appr_bldg</td>\n",
       "      <td>both</td>\n",
       "    </tr>\n",
       "    <tr>\n",
       "      <th>3</th>\n",
       "      <td>b_stories</td>\n",
       "      <td>both</td>\n",
       "    </tr>\n",
       "    <tr>\n",
       "      <th>4</th>\n",
       "      <td>bldg_id</td>\n",
       "      <td>left_only</td>\n",
       "    </tr>\n",
       "    <tr>\n",
       "      <th>5</th>\n",
       "      <td>broad_occ</td>\n",
       "      <td>both</td>\n",
       "    </tr>\n",
       "    <tr>\n",
       "      <th>6</th>\n",
       "      <td>bsmt_type</td>\n",
       "      <td>both</td>\n",
       "    </tr>\n",
       "    <tr>\n",
       "      <th>7</th>\n",
       "      <td>cont_val</td>\n",
       "      <td>both</td>\n",
       "    </tr>\n",
       "    <tr>\n",
       "      <th>8</th>\n",
       "      <td>dgn_lvl</td>\n",
       "      <td>both</td>\n",
       "    </tr>\n",
       "    <tr>\n",
       "      <th>9</th>\n",
       "      <td>dwell_unit</td>\n",
       "      <td>both</td>\n",
       "    </tr>\n",
       "    <tr>\n",
       "      <th>10</th>\n",
       "      <td>efacility</td>\n",
       "      <td>both</td>\n",
       "    </tr>\n",
       "    <tr>\n",
       "      <th>11</th>\n",
       "      <td>elev</td>\n",
       "      <td>left_only</td>\n",
       "    </tr>\n",
       "    <tr>\n",
       "      <th>12</th>\n",
       "      <td>geometry</td>\n",
       "      <td>left_only</td>\n",
       "    </tr>\n",
       "    <tr>\n",
       "      <th>13</th>\n",
       "      <td>gsq_foot</td>\n",
       "      <td>both</td>\n",
       "    </tr>\n",
       "    <tr>\n",
       "      <th>14</th>\n",
       "      <td>guid</td>\n",
       "      <td>both</td>\n",
       "    </tr>\n",
       "    <tr>\n",
       "      <th>15</th>\n",
       "      <td>major_occ</td>\n",
       "      <td>both</td>\n",
       "    </tr>\n",
       "    <tr>\n",
       "      <th>16</th>\n",
       "      <td>no_stories</td>\n",
       "      <td>both</td>\n",
       "    </tr>\n",
       "    <tr>\n",
       "      <th>17</th>\n",
       "      <td>nstra_cst</td>\n",
       "      <td>both</td>\n",
       "    </tr>\n",
       "    <tr>\n",
       "      <th>18</th>\n",
       "      <td>nstrd_cst</td>\n",
       "      <td>both</td>\n",
       "    </tr>\n",
       "    <tr>\n",
       "      <th>19</th>\n",
       "      <td>occ_detail</td>\n",
       "      <td>both</td>\n",
       "    </tr>\n",
       "    <tr>\n",
       "      <th>20</th>\n",
       "      <td>occ_typ2</td>\n",
       "      <td>both</td>\n",
       "    </tr>\n",
       "    <tr>\n",
       "      <th>21</th>\n",
       "      <td>occ_type</td>\n",
       "      <td>both</td>\n",
       "    </tr>\n",
       "    <tr>\n",
       "      <th>22</th>\n",
       "      <td>origin</td>\n",
       "      <td>left_only</td>\n",
       "    </tr>\n",
       "    <tr>\n",
       "      <th>23</th>\n",
       "      <td>parid</td>\n",
       "      <td>both</td>\n",
       "    </tr>\n",
       "    <tr>\n",
       "      <th>24</th>\n",
       "      <td>parid_card</td>\n",
       "      <td>left_only</td>\n",
       "    </tr>\n",
       "    <tr>\n",
       "      <th>25</th>\n",
       "      <td>period</td>\n",
       "      <td>left_only</td>\n",
       "    </tr>\n",
       "    <tr>\n",
       "      <th>26</th>\n",
       "      <td>repl_cst</td>\n",
       "      <td>both</td>\n",
       "    </tr>\n",
       "    <tr>\n",
       "      <th>27</th>\n",
       "      <td>rmv_improv</td>\n",
       "      <td>left_only</td>\n",
       "    </tr>\n",
       "    <tr>\n",
       "      <th>28</th>\n",
       "      <td>rmv_land</td>\n",
       "      <td>left_only</td>\n",
       "    </tr>\n",
       "    <tr>\n",
       "      <th>29</th>\n",
       "      <td>sq_foot</td>\n",
       "      <td>both</td>\n",
       "    </tr>\n",
       "    <tr>\n",
       "      <th>30</th>\n",
       "      <td>stat_class</td>\n",
       "      <td>left_only</td>\n",
       "    </tr>\n",
       "    <tr>\n",
       "      <th>31</th>\n",
       "      <td>str_cst</td>\n",
       "      <td>both</td>\n",
       "    </tr>\n",
       "    <tr>\n",
       "      <th>32</th>\n",
       "      <td>str_prob</td>\n",
       "      <td>left_only</td>\n",
       "    </tr>\n",
       "    <tr>\n",
       "      <th>33</th>\n",
       "      <td>str_typ2</td>\n",
       "      <td>both</td>\n",
       "    </tr>\n",
       "    <tr>\n",
       "      <th>34</th>\n",
       "      <td>strctid</td>\n",
       "      <td>both</td>\n",
       "    </tr>\n",
       "    <tr>\n",
       "      <th>35</th>\n",
       "      <td>struct_typ</td>\n",
       "      <td>both</td>\n",
       "    </tr>\n",
       "    <tr>\n",
       "      <th>36</th>\n",
       "      <td>tract_id</td>\n",
       "      <td>left_only</td>\n",
       "    </tr>\n",
       "    <tr>\n",
       "      <th>37</th>\n",
       "      <td>x</td>\n",
       "      <td>left_only</td>\n",
       "    </tr>\n",
       "    <tr>\n",
       "      <th>38</th>\n",
       "      <td>y</td>\n",
       "      <td>left_only</td>\n",
       "    </tr>\n",
       "    <tr>\n",
       "      <th>39</th>\n",
       "      <td>year_built</td>\n",
       "      <td>both</td>\n",
       "    </tr>\n",
       "    <tr>\n",
       "      <th>40</th>\n",
       "      <td>appr_land</td>\n",
       "      <td>right_only</td>\n",
       "    </tr>\n",
       "    <tr>\n",
       "      <th>41</th>\n",
       "      <td>appr_tot</td>\n",
       "      <td>right_only</td>\n",
       "    </tr>\n",
       "    <tr>\n",
       "      <th>42</th>\n",
       "      <td>archetype</td>\n",
       "      <td>right_only</td>\n",
       "    </tr>\n",
       "  </tbody>\n",
       "</table>\n",
       "</div>"
      ],
      "text/plain": [
       "       varname      _merge\n",
       "0      FID_NEW   left_only\n",
       "1    a_stories        both\n",
       "2    appr_bldg        both\n",
       "3    b_stories        both\n",
       "4      bldg_id   left_only\n",
       "5    broad_occ        both\n",
       "6    bsmt_type        both\n",
       "7     cont_val        both\n",
       "8      dgn_lvl        both\n",
       "9   dwell_unit        both\n",
       "10   efacility        both\n",
       "11        elev   left_only\n",
       "12    geometry   left_only\n",
       "13    gsq_foot        both\n",
       "14        guid        both\n",
       "15   major_occ        both\n",
       "16  no_stories        both\n",
       "17   nstra_cst        both\n",
       "18   nstrd_cst        both\n",
       "19  occ_detail        both\n",
       "20    occ_typ2        both\n",
       "21    occ_type        both\n",
       "22      origin   left_only\n",
       "23       parid        both\n",
       "24  parid_card   left_only\n",
       "25      period   left_only\n",
       "26    repl_cst        both\n",
       "27  rmv_improv   left_only\n",
       "28    rmv_land   left_only\n",
       "29     sq_foot        both\n",
       "30  stat_class   left_only\n",
       "31     str_cst        both\n",
       "32    str_prob   left_only\n",
       "33    str_typ2        both\n",
       "34     strctid        both\n",
       "35  struct_typ        both\n",
       "36    tract_id   left_only\n",
       "37           x   left_only\n",
       "38           y   left_only\n",
       "39  year_built        both\n",
       "40   appr_land  right_only\n",
       "41    appr_tot  right_only\n",
       "42   archetype  right_only"
      ]
     },
     "execution_count": 25,
     "metadata": {},
     "output_type": "execute_result"
    }
   ],
   "source": [
    "columnlist_merge = columnlist.merge(incore_columns_df, how='outer', left_on='varname', right_on='varname', indicator = True)\n",
    "columnlist_merge"
   ]
  },
  {
   "cell_type": "code",
   "execution_count": 26,
   "metadata": {
    "id": "BdzvJorPgH7Y",
    "outputId": "32b1ac48-3651-4eea-8475-9dc081cd4a46"
   },
   "outputs": [
    {
     "data": {
      "text/html": [
       "<div>\n",
       "<style scoped>\n",
       "    .dataframe tbody tr th:only-of-type {\n",
       "        vertical-align: middle;\n",
       "    }\n",
       "\n",
       "    .dataframe tbody tr th {\n",
       "        vertical-align: top;\n",
       "    }\n",
       "\n",
       "    .dataframe thead th {\n",
       "        text-align: right;\n",
       "    }\n",
       "</style>\n",
       "<table border=\"1\" class=\"dataframe\">\n",
       "  <thead>\n",
       "    <tr style=\"text-align: right;\">\n",
       "      <th></th>\n",
       "      <th>varname</th>\n",
       "      <th>_merge</th>\n",
       "    </tr>\n",
       "  </thead>\n",
       "  <tbody>\n",
       "    <tr>\n",
       "      <th>0</th>\n",
       "      <td>FID_NEW</td>\n",
       "      <td>left_only</td>\n",
       "    </tr>\n",
       "    <tr>\n",
       "      <th>4</th>\n",
       "      <td>bldg_id</td>\n",
       "      <td>left_only</td>\n",
       "    </tr>\n",
       "    <tr>\n",
       "      <th>11</th>\n",
       "      <td>elev</td>\n",
       "      <td>left_only</td>\n",
       "    </tr>\n",
       "    <tr>\n",
       "      <th>12</th>\n",
       "      <td>geometry</td>\n",
       "      <td>left_only</td>\n",
       "    </tr>\n",
       "    <tr>\n",
       "      <th>22</th>\n",
       "      <td>origin</td>\n",
       "      <td>left_only</td>\n",
       "    </tr>\n",
       "    <tr>\n",
       "      <th>24</th>\n",
       "      <td>parid_card</td>\n",
       "      <td>left_only</td>\n",
       "    </tr>\n",
       "    <tr>\n",
       "      <th>25</th>\n",
       "      <td>period</td>\n",
       "      <td>left_only</td>\n",
       "    </tr>\n",
       "    <tr>\n",
       "      <th>27</th>\n",
       "      <td>rmv_improv</td>\n",
       "      <td>left_only</td>\n",
       "    </tr>\n",
       "    <tr>\n",
       "      <th>28</th>\n",
       "      <td>rmv_land</td>\n",
       "      <td>left_only</td>\n",
       "    </tr>\n",
       "    <tr>\n",
       "      <th>30</th>\n",
       "      <td>stat_class</td>\n",
       "      <td>left_only</td>\n",
       "    </tr>\n",
       "    <tr>\n",
       "      <th>32</th>\n",
       "      <td>str_prob</td>\n",
       "      <td>left_only</td>\n",
       "    </tr>\n",
       "    <tr>\n",
       "      <th>36</th>\n",
       "      <td>tract_id</td>\n",
       "      <td>left_only</td>\n",
       "    </tr>\n",
       "    <tr>\n",
       "      <th>37</th>\n",
       "      <td>x</td>\n",
       "      <td>left_only</td>\n",
       "    </tr>\n",
       "    <tr>\n",
       "      <th>38</th>\n",
       "      <td>y</td>\n",
       "      <td>left_only</td>\n",
       "    </tr>\n",
       "  </tbody>\n",
       "</table>\n",
       "</div>"
      ],
      "text/plain": [
       "       varname     _merge\n",
       "0      FID_NEW  left_only\n",
       "4      bldg_id  left_only\n",
       "11        elev  left_only\n",
       "12    geometry  left_only\n",
       "22      origin  left_only\n",
       "24  parid_card  left_only\n",
       "25      period  left_only\n",
       "27  rmv_improv  left_only\n",
       "28    rmv_land  left_only\n",
       "30  stat_class  left_only\n",
       "32    str_prob  left_only\n",
       "36    tract_id  left_only\n",
       "37           x  left_only\n",
       "38           y  left_only"
      ]
     },
     "execution_count": 26,
     "metadata": {},
     "output_type": "execute_result"
    }
   ],
   "source": [
    "left_only_cols = columnlist_merge.loc[columnlist_merge['_merge'] == 'left_only']\n",
    "left_only_cols"
   ]
  },
  {
   "cell_type": "code",
   "execution_count": 27,
   "metadata": {
    "id": "P1MXxq5tVBeq",
    "outputId": "75caca97-42c9-4ac9-f0d3-f9f2f15ed5e9"
   },
   "outputs": [
    {
     "data": {
      "text/html": [
       "<div>\n",
       "<style scoped>\n",
       "    .dataframe tbody tr th:only-of-type {\n",
       "        vertical-align: middle;\n",
       "    }\n",
       "\n",
       "    .dataframe tbody tr th {\n",
       "        vertical-align: top;\n",
       "    }\n",
       "\n",
       "    .dataframe thead th {\n",
       "        text-align: right;\n",
       "    }\n",
       "</style>\n",
       "<table border=\"1\" class=\"dataframe\">\n",
       "  <thead>\n",
       "    <tr style=\"text-align: right;\">\n",
       "      <th></th>\n",
       "      <th>varname</th>\n",
       "      <th>_merge</th>\n",
       "    </tr>\n",
       "  </thead>\n",
       "  <tbody>\n",
       "    <tr>\n",
       "      <th>40</th>\n",
       "      <td>appr_land</td>\n",
       "      <td>right_only</td>\n",
       "    </tr>\n",
       "    <tr>\n",
       "      <th>41</th>\n",
       "      <td>appr_tot</td>\n",
       "      <td>right_only</td>\n",
       "    </tr>\n",
       "    <tr>\n",
       "      <th>42</th>\n",
       "      <td>archetype</td>\n",
       "      <td>right_only</td>\n",
       "    </tr>\n",
       "  </tbody>\n",
       "</table>\n",
       "</div>"
      ],
      "text/plain": [
       "      varname      _merge\n",
       "40  appr_land  right_only\n",
       "41   appr_tot  right_only\n",
       "42  archetype  right_only"
      ]
     },
     "execution_count": 27,
     "metadata": {},
     "output_type": "execute_result"
    }
   ],
   "source": [
    "right_only_cols = columnlist_merge.loc[columnlist_merge['_merge'] == 'right_only']\n",
    "right_only_cols"
   ]
  },
  {
   "cell_type": "code",
   "execution_count": 28,
   "metadata": {
    "id": "D4guAIhkVBeq",
    "outputId": "9043ac8b-1502-48c0-9dd0-75576c398ca9"
   },
   "outputs": [
    {
     "data": {
      "text/plain": [
       "['FID_NEW',\n",
       " 'bldg_id',\n",
       " 'elev',\n",
       " 'geometry',\n",
       " 'origin',\n",
       " 'parid_card',\n",
       " 'period',\n",
       " 'rmv_improv',\n",
       " 'rmv_land',\n",
       " 'stat_class',\n",
       " 'str_prob',\n",
       " 'tract_id',\n",
       " 'x',\n",
       " 'y']"
      ]
     },
     "execution_count": 28,
     "metadata": {},
     "output_type": "execute_result"
    }
   ],
   "source": [
    "explore_columns = left_only_cols.varname.to_list()\n",
    "explore_columns"
   ]
  },
  {
   "cell_type": "code",
   "execution_count": 29,
   "metadata": {
    "id": "uk6zRt62VBer",
    "outputId": "5fefa17f-cf35-4e5f-b1de-c37d26cbebeb"
   },
   "outputs": [
    {
     "data": {
      "text/html": [
       "<div>\n",
       "<style scoped>\n",
       "    .dataframe tbody tr th:only-of-type {\n",
       "        vertical-align: middle;\n",
       "    }\n",
       "\n",
       "    .dataframe tbody tr th {\n",
       "        vertical-align: top;\n",
       "    }\n",
       "\n",
       "    .dataframe thead th {\n",
       "        text-align: right;\n",
       "    }\n",
       "</style>\n",
       "<table border=\"1\" class=\"dataframe\">\n",
       "  <thead>\n",
       "    <tr style=\"text-align: right;\">\n",
       "      <th></th>\n",
       "      <th>FID_NEW</th>\n",
       "      <th>bldg_id</th>\n",
       "      <th>elev</th>\n",
       "      <th>geometry</th>\n",
       "      <th>origin</th>\n",
       "      <th>parid_card</th>\n",
       "      <th>period</th>\n",
       "      <th>rmv_improv</th>\n",
       "      <th>rmv_land</th>\n",
       "      <th>stat_class</th>\n",
       "      <th>str_prob</th>\n",
       "      <th>tract_id</th>\n",
       "      <th>x</th>\n",
       "      <th>y</th>\n",
       "    </tr>\n",
       "  </thead>\n",
       "  <tbody>\n",
       "    <tr>\n",
       "      <th>0</th>\n",
       "      <td>5783</td>\n",
       "      <td>None</td>\n",
       "      <td>-1.037119</td>\n",
       "      <td>POINT (-123.90900 46.01433)</td>\n",
       "      <td>1</td>\n",
       "      <td>None</td>\n",
       "      <td>0.35</td>\n",
       "      <td>0.0</td>\n",
       "      <td>0.0</td>\n",
       "      <td>193</td>\n",
       "      <td>None</td>\n",
       "      <td>None</td>\n",
       "      <td>-123.908997</td>\n",
       "      <td>46.014336</td>\n",
       "    </tr>\n",
       "    <tr>\n",
       "      <th>1</th>\n",
       "      <td>5782</td>\n",
       "      <td>None</td>\n",
       "      <td>-14.826966</td>\n",
       "      <td>POINT (-123.90585 45.99795)</td>\n",
       "      <td>1</td>\n",
       "      <td>None</td>\n",
       "      <td>0.35</td>\n",
       "      <td>0.0</td>\n",
       "      <td>0.0</td>\n",
       "      <td>193</td>\n",
       "      <td>None</td>\n",
       "      <td>None</td>\n",
       "      <td>-123.905846</td>\n",
       "      <td>45.997948</td>\n",
       "    </tr>\n",
       "    <tr>\n",
       "      <th>2</th>\n",
       "      <td>5781</td>\n",
       "      <td>None</td>\n",
       "      <td>-1.037119</td>\n",
       "      <td>POINT (-123.90900 46.01433)</td>\n",
       "      <td>1</td>\n",
       "      <td>None</td>\n",
       "      <td>0.35</td>\n",
       "      <td>0.0</td>\n",
       "      <td>0.0</td>\n",
       "      <td>191</td>\n",
       "      <td>None</td>\n",
       "      <td>None</td>\n",
       "      <td>-123.908997</td>\n",
       "      <td>46.014336</td>\n",
       "    </tr>\n",
       "    <tr>\n",
       "      <th>3</th>\n",
       "      <td>5780</td>\n",
       "      <td>None</td>\n",
       "      <td>-1.037119</td>\n",
       "      <td>POINT (-123.90900 46.01433)</td>\n",
       "      <td>1</td>\n",
       "      <td>None</td>\n",
       "      <td>0.35</td>\n",
       "      <td>0.0</td>\n",
       "      <td>0.0</td>\n",
       "      <td>193</td>\n",
       "      <td>None</td>\n",
       "      <td>None</td>\n",
       "      <td>-123.908997</td>\n",
       "      <td>46.014336</td>\n",
       "    </tr>\n",
       "    <tr>\n",
       "      <th>4</th>\n",
       "      <td>5779</td>\n",
       "      <td>None</td>\n",
       "      <td>-1.729172</td>\n",
       "      <td>POINT (-123.91183 45.99747)</td>\n",
       "      <td>1</td>\n",
       "      <td>None</td>\n",
       "      <td>0.35</td>\n",
       "      <td>0.0</td>\n",
       "      <td>0.0</td>\n",
       "      <td>190</td>\n",
       "      <td>None</td>\n",
       "      <td>None</td>\n",
       "      <td>-123.911827</td>\n",
       "      <td>45.997475</td>\n",
       "    </tr>\n",
       "  </tbody>\n",
       "</table>\n",
       "</div>"
      ],
      "text/plain": [
       "  FID_NEW bldg_id       elev                     geometry origin parid_card  \\\n",
       "0    5783    None  -1.037119  POINT (-123.90900 46.01433)      1       None   \n",
       "1    5782    None -14.826966  POINT (-123.90585 45.99795)      1       None   \n",
       "2    5781    None  -1.037119  POINT (-123.90900 46.01433)      1       None   \n",
       "3    5780    None  -1.037119  POINT (-123.90900 46.01433)      1       None   \n",
       "4    5779    None  -1.729172  POINT (-123.91183 45.99747)      1       None   \n",
       "\n",
       "   period  rmv_improv  rmv_land stat_class str_prob tract_id           x  \\\n",
       "0    0.35         0.0       0.0        193     None     None -123.908997   \n",
       "1    0.35         0.0       0.0        193     None     None -123.905846   \n",
       "2    0.35         0.0       0.0        191     None     None -123.908997   \n",
       "3    0.35         0.0       0.0        193     None     None -123.908997   \n",
       "4    0.35         0.0       0.0        190     None     None -123.911827   \n",
       "\n",
       "           y  \n",
       "0  46.014336  \n",
       "1  45.997948  \n",
       "2  46.014336  \n",
       "3  46.014336  \n",
       "4  45.997475  "
      ]
     },
     "execution_count": 29,
     "metadata": {},
     "output_type": "execute_result"
    }
   ],
   "source": [
    "gdf_new[explore_columns].head()"
   ]
  },
  {
   "cell_type": "code",
   "execution_count": 30,
   "metadata": {
    "id": "IbIDCJ2KVBer",
    "outputId": "8b8cbcc2-3e13-4250-bc1e-e46289793d6e"
   },
   "outputs": [
    {
     "data": {
      "text/plain": [
       "count    4679.000000\n",
       "mean       -4.117446\n",
       "std         3.774860\n",
       "min       -14.997761\n",
       "25%        -4.181592\n",
       "50%        -3.151248\n",
       "75%        -2.119257\n",
       "max         1.690376\n",
       "Name: elev, dtype: float64"
      ]
     },
     "execution_count": 30,
     "metadata": {},
     "output_type": "execute_result"
    }
   ],
   "source": [
    "gdf_new.elev.describe()"
   ]
  },
  {
   "cell_type": "code",
   "execution_count": 31,
   "metadata": {
    "id": "MunqUrc6VBer",
    "outputId": "3d9260c6-9883-45ed-a7a6-7c286137240a"
   },
   "outputs": [
    {
     "data": {
      "text/plain": [
       "count     4679\n",
       "unique       2\n",
       "top          1\n",
       "freq      4677\n",
       "Name: origin, dtype: object"
      ]
     },
     "execution_count": 31,
     "metadata": {},
     "output_type": "execute_result"
    }
   ],
   "source": [
    "gdf_new.origin.describe()"
   ]
  },
  {
   "cell_type": "code",
   "execution_count": 32,
   "metadata": {
    "id": "wTYM1ZZ1VBer",
    "outputId": "9710abc6-e00b-460a-adb8-48b7fae66e3f"
   },
   "outputs": [
    {
     "data": {
      "text/plain": [
       "count       0\n",
       "unique      0\n",
       "top       NaN\n",
       "freq      NaN\n",
       "Name: parid_card, dtype: object"
      ]
     },
     "execution_count": 32,
     "metadata": {},
     "output_type": "execute_result"
    }
   ],
   "source": [
    "gdf_new.parid_card.describe()"
   ]
  },
  {
   "cell_type": "code",
   "execution_count": 33,
   "metadata": {
    "id": "o_0FRvIUVBer",
    "outputId": "44c554dc-aaf1-481f-f0db-c7c46099aa32",
    "scrolled": true
   },
   "outputs": [
    {
     "data": {
      "text/plain": [
       "count    4679.000000\n",
       "mean        0.446516\n",
       "std         0.156745\n",
       "min         0.350000\n",
       "25%         0.350000\n",
       "50%         0.350000\n",
       "75%         0.400000\n",
       "max         0.750000\n",
       "Name: period, dtype: float64"
      ]
     },
     "execution_count": 33,
     "metadata": {},
     "output_type": "execute_result"
    }
   ],
   "source": [
    "gdf_new.period.describe()"
   ]
  },
  {
   "cell_type": "markdown",
   "metadata": {
    "id": "ZBdZKvZPVBes"
   },
   "source": [
    "## Harmonize Building Value Variables"
   ]
  },
  {
   "cell_type": "code",
   "execution_count": 34,
   "metadata": {
    "id": "_NmSPLVkVBes",
    "outputId": "106ceaa0-bd25-4d2f-ca10-4238b61082d6"
   },
   "outputs": [
    {
     "data": {
      "text/plain": [
       "count    4.679000e+03\n",
       "mean     1.749143e+05\n",
       "std      4.824592e+05\n",
       "min      0.000000e+00\n",
       "25%      6.624350e+04\n",
       "50%      1.131320e+05\n",
       "75%      1.926190e+05\n",
       "max      1.769744e+07\n",
       "Name: rmv_improv, dtype: float64"
      ]
     },
     "execution_count": 34,
     "metadata": {},
     "output_type": "execute_result"
    }
   ],
   "source": [
    "gdf_new.rmv_improv.describe()"
   ]
  },
  {
   "cell_type": "code",
   "execution_count": 35,
   "metadata": {
    "id": "cLU-ii2AVBes",
    "outputId": "d470fca9-64cc-4bef-9629-44d4945d737e"
   },
   "outputs": [
    {
     "data": {
      "text/plain": [
       "count    4.679000e+03\n",
       "mean     1.449074e+05\n",
       "std      2.646332e+05\n",
       "min      0.000000e+00\n",
       "25%      0.000000e+00\n",
       "50%      1.005870e+05\n",
       "75%      1.546440e+05\n",
       "max      6.453285e+06\n",
       "Name: rmv_land, dtype: float64"
      ]
     },
     "execution_count": 35,
     "metadata": {},
     "output_type": "execute_result"
    }
   ],
   "source": [
    "gdf_new.rmv_land.describe()"
   ]
  },
  {
   "cell_type": "code",
   "execution_count": 36,
   "metadata": {
    "id": "LsnCB1svVBes",
    "outputId": "28ca9ca6-1747-462c-d62e-cfe6a0b28c2f"
   },
   "outputs": [
    {
     "data": {
      "text/plain": [
       "count       4679\n",
       "unique      3913\n",
       "top       121253\n",
       "freq          42\n",
       "Name: appr_bldg, dtype: object"
      ]
     },
     "execution_count": 36,
     "metadata": {},
     "output_type": "execute_result"
    }
   ],
   "source": [
    "gdf_new.appr_bldg.describe()"
   ]
  },
  {
   "cell_type": "code",
   "execution_count": 37,
   "metadata": {
    "id": "q2IxFbTbVBet"
   },
   "outputs": [],
   "source": [
    "gdf_new.appr_bldg = gdf_new.appr_bldg.astype(int)"
   ]
  },
  {
   "cell_type": "code",
   "execution_count": 38,
   "metadata": {
    "id": "N6VAK1thVBet",
    "outputId": "2909fb83-d737-4ca6-a261-a3e9e9c9d84f"
   },
   "outputs": [
    {
     "data": {
      "text/plain": [
       "count    4.679000e+03\n",
       "mean     3.208858e+05\n",
       "std      6.428265e+05\n",
       "min      0.000000e+00\n",
       "25%      1.572930e+05\n",
       "50%      2.245680e+05\n",
       "75%      3.179700e+05\n",
       "max      1.901118e+07\n",
       "Name: appr_bldg, dtype: float64"
      ]
     },
     "execution_count": 38,
     "metadata": {},
     "output_type": "execute_result"
    }
   ],
   "source": [
    "gdf_new.appr_bldg.describe()"
   ]
  },
  {
   "cell_type": "code",
   "execution_count": 39,
   "metadata": {
    "id": "jJl_9XJWVBet",
    "outputId": "57f15b27-19e0-481b-ee1f-c4b16d64438e"
   },
   "outputs": [
    {
     "data": {
      "image/png": "[encoded data removed]",
      "text/plain": [
       "<Figure size 432x288 with 1 Axes>"
      ]
     },
     "metadata": {
      "needs_background": "light"
     },
     "output_type": "display_data"
    }
   ],
   "source": [
    "import matplotlib.pyplot as plt\n",
    "# Scatter Plot\n",
    "plt.scatter(gdf_new['appr_bldg'], gdf_new['rmv_improv'])\n",
    "plt.title('Scatter plot appr_bldg  vs rmv_improv')\n",
    "plt.xlabel('appr_bldg')\n",
    "plt.ylabel('rmv_improv')\n",
    "plt.show()"
   ]
  },
  {
   "cell_type": "code",
   "execution_count": 40,
   "metadata": {
    "id": "WcNEzi1XVBet",
    "outputId": "35daf618-618f-4f82-db99-bb30bcdd7ddc"
   },
   "outputs": [
    {
     "data": {
      "text/html": [
       "<div>\n",
       "<style scoped>\n",
       "    .dataframe tbody tr th:only-of-type {\n",
       "        vertical-align: middle;\n",
       "    }\n",
       "\n",
       "    .dataframe tbody tr th {\n",
       "        vertical-align: top;\n",
       "    }\n",
       "\n",
       "    .dataframe thead th {\n",
       "        text-align: right;\n",
       "    }\n",
       "</style>\n",
       "<table border=\"1\" class=\"dataframe\">\n",
       "  <thead>\n",
       "    <tr style=\"text-align: right;\">\n",
       "      <th></th>\n",
       "      <th>appr_bldg</th>\n",
       "      <th>rmv_improv</th>\n",
       "    </tr>\n",
       "  </thead>\n",
       "  <tbody>\n",
       "    <tr>\n",
       "      <th>appr_bldg</th>\n",
       "      <td>1.000000</td>\n",
       "      <td>0.928989</td>\n",
       "    </tr>\n",
       "    <tr>\n",
       "      <th>rmv_improv</th>\n",
       "      <td>0.928989</td>\n",
       "      <td>1.000000</td>\n",
       "    </tr>\n",
       "  </tbody>\n",
       "</table>\n",
       "</div>"
      ],
      "text/plain": [
       "            appr_bldg  rmv_improv\n",
       "appr_bldg    1.000000    0.928989\n",
       "rmv_improv   0.928989    1.000000"
      ]
     },
     "execution_count": 40,
     "metadata": {},
     "output_type": "execute_result"
    }
   ],
   "source": [
    "# Correlation\n",
    "gdf_new[['appr_bldg','rmv_improv']].corr()"
   ]
  },
  {
   "cell_type": "code",
   "execution_count": 41,
   "metadata": {
    "id": "I2mrNOurVBet",
    "outputId": "8fa57fbb-6d07-41bb-f26e-4d5874860f74"
   },
   "outputs": [
    {
     "data": {
      "text/html": [
       "<div>\n",
       "<style scoped>\n",
       "    .dataframe tbody tr th:only-of-type {\n",
       "        vertical-align: middle;\n",
       "    }\n",
       "\n",
       "    .dataframe tbody tr th {\n",
       "        vertical-align: top;\n",
       "    }\n",
       "\n",
       "    .dataframe thead th {\n",
       "        text-align: right;\n",
       "    }\n",
       "</style>\n",
       "<table border=\"1\" class=\"dataframe\">\n",
       "  <thead>\n",
       "    <tr style=\"text-align: right;\">\n",
       "      <th></th>\n",
       "      <th>rmv_improv</th>\n",
       "      <th>appr_bldg</th>\n",
       "    </tr>\n",
       "  </thead>\n",
       "  <tbody>\n",
       "    <tr>\n",
       "      <th>rmv_improv</th>\n",
       "      <td>1.000000</td>\n",
       "      <td>0.928989</td>\n",
       "    </tr>\n",
       "    <tr>\n",
       "      <th>appr_bldg</th>\n",
       "      <td>0.928989</td>\n",
       "      <td>1.000000</td>\n",
       "    </tr>\n",
       "  </tbody>\n",
       "</table>\n",
       "</div>"
      ],
      "text/plain": [
       "            rmv_improv  appr_bldg\n",
       "rmv_improv    1.000000   0.928989\n",
       "appr_bldg     0.928989   1.000000"
      ]
     },
     "execution_count": 41,
     "metadata": {},
     "output_type": "execute_result"
    }
   ],
   "source": [
    "gdf_new[['rmv_improv','appr_bldg']].corr()"
   ]
  },
  {
   "cell_type": "code",
   "execution_count": 42,
   "metadata": {
    "id": "ZgWlhjdqVBeu",
    "outputId": "33236d63-2657-49af-8351-888a3257bc91"
   },
   "outputs": [
    {
     "data": {
      "text/plain": [
       "count    4679.000000\n",
       "mean        0.223979\n",
       "std         0.416953\n",
       "min         0.000000\n",
       "25%         0.000000\n",
       "50%         0.000000\n",
       "75%         0.000000\n",
       "max         1.000000\n",
       "Name: value_match, dtype: float64"
      ]
     },
     "execution_count": 42,
     "metadata": {},
     "output_type": "execute_result"
    }
   ],
   "source": [
    "gdf_new['value_match'] = 0\n",
    "gdf_new.loc[(gdf_new['rmv_improv'] == gdf_new['appr_bldg']), 'value_match'] = 1\n",
    "gdf_new['value_match'].describe()"
   ]
  },
  {
   "cell_type": "markdown",
   "metadata": {
    "id": "rn6nBwtsVBeu"
   },
   "source": [
    "## Harmonize Occupancy Type\n",
    "Broad HAZUS Occupancy Category (e.g. RES3 - multi-family residential)"
   ]
  },
  {
   "cell_type": "code",
   "execution_count": 43,
   "metadata": {
    "id": "Y8hBmt4VVBeu",
    "outputId": "363d5769-c0fd-46ee-c2fb-5f4f295cf50d"
   },
   "outputs": [
    {
     "data": {
      "text/plain": [
       "count       0\n",
       "unique      0\n",
       "top       NaN\n",
       "freq      NaN\n",
       "Name: occ_type, dtype: object"
      ]
     },
     "execution_count": 43,
     "metadata": {},
     "output_type": "execute_result"
    }
   ],
   "source": [
    "gdf_new.occ_type.describe()"
   ]
  },
  {
   "cell_type": "code",
   "execution_count": 44,
   "metadata": {
    "id": "6V3HO2vaVBeu",
    "outputId": "5a3c55a3-5dda-4755-9c60-cd8d73a83779"
   },
   "outputs": [
    {
     "data": {
      "text/plain": [
       "count       0\n",
       "unique      0\n",
       "top       NaN\n",
       "freq      NaN\n",
       "Name: occ_typ2, dtype: object"
      ]
     },
     "execution_count": 44,
     "metadata": {},
     "output_type": "execute_result"
    }
   ],
   "source": [
    "gdf_new.occ_typ2.describe()"
   ]
  },
  {
   "cell_type": "code",
   "execution_count": 45,
   "metadata": {
    "id": "TaiV6xLWVBeu",
    "outputId": "9da2f639-f6ce-4413-a25b-aa1a74f50daf"
   },
   "outputs": [
    {
     "data": {
      "text/plain": [
       "count       0\n",
       "unique      0\n",
       "top       NaN\n",
       "freq      NaN\n",
       "Name: occ_detail, dtype: object"
      ]
     },
     "execution_count": 45,
     "metadata": {},
     "output_type": "execute_result"
    }
   ],
   "source": [
    "gdf_new.occ_detail.describe()"
   ]
  },
  {
   "cell_type": "code",
   "execution_count": 46,
   "metadata": {
    "id": "Vr3R62BWVBev",
    "outputId": "683ee513-3436-417b-ca25-5a64ac7bf640"
   },
   "outputs": [
    {
     "data": {
      "text/plain": [
       "count     4679\n",
       "unique     126\n",
       "top        900\n",
       "freq       899\n",
       "Name: stat_class, dtype: object"
      ]
     },
     "execution_count": 46,
     "metadata": {},
     "output_type": "execute_result"
    }
   ],
   "source": [
    "gdf_new.stat_class.describe()"
   ]
  },
  {
   "cell_type": "code",
   "execution_count": null,
   "metadata": {
    "id": "xeFWO6YaVBev"
   },
   "outputs": [],
   "source": []
  },
  {
   "cell_type": "markdown",
   "metadata": {
    "id": "2ll64PmpgH7a"
   },
   "source": [
    "### Check the Coordinate Reference System"
   ]
  },
  {
   "cell_type": "code",
   "execution_count": 47,
   "metadata": {
    "id": "QyV1vbqvgH7a",
    "outputId": "982358ac-a36a-4f21-a2a5-22bac58ce4b5"
   },
   "outputs": [
    {
     "data": {
      "text/plain": [
       "NoneType"
      ]
     },
     "execution_count": 47,
     "metadata": {},
     "output_type": "execute_result"
    }
   ],
   "source": [
    "type(gdf_new.crs)"
   ]
  },
  {
   "cell_type": "code",
   "execution_count": 48,
   "metadata": {
    "id": "ZAxvDSdqgH7b"
   },
   "outputs": [],
   "source": [
    "gdf_new.crs"
   ]
  },
  {
   "cell_type": "code",
   "execution_count": 49,
   "metadata": {
    "id": "aDL48U02VBev",
    "outputId": "d7f958d2-7ffe-4508-90bd-ec50e5c8fba5"
   },
   "outputs": [
    {
     "data": {
      "text/plain": [
       "0    POINT (-123.90900 46.01433)\n",
       "1    POINT (-123.90585 45.99795)\n",
       "2    POINT (-123.90900 46.01433)\n",
       "3    POINT (-123.90900 46.01433)\n",
       "4    POINT (-123.91183 45.99747)\n",
       "Name: geometry, dtype: geometry"
      ]
     },
     "execution_count": 49,
     "metadata": {},
     "output_type": "execute_result"
    }
   ],
   "source": [
    "gdf_new['geometry'].head()"
   ]
  },
  {
   "cell_type": "code",
   "execution_count": 50,
   "metadata": {
    "id": "ke0h4suPVBev",
    "outputId": "b82305d1-d4c2-41a2-ecaf-b48ac1dee1da"
   },
   "outputs": [
    {
     "data": {
      "text/plain": [
       "0    POINT (-123.90900 46.01433)\n",
       "1    POINT (-123.90585 45.99795)\n",
       "2    POINT (-123.90900 46.01433)\n",
       "3    POINT (-123.90900 46.01433)\n",
       "4    POINT (-123.91183 45.99747)\n",
       "Name: geometry, dtype: geometry"
      ]
     },
     "execution_count": 50,
     "metadata": {},
     "output_type": "execute_result"
    }
   ],
   "source": [
    "gdf_new.crs = \"EPSG:4269\"\n",
    "gdf_new['geometry'].head()"
   ]
  },
  {
   "cell_type": "code",
   "execution_count": 51,
   "metadata": {
    "id": "Q0opaprfVBew",
    "outputId": "ca9a624e-f1f6-4af5-f44e-4c90cd5c97f2"
   },
   "outputs": [
    {
     "data": {
      "text/plain": [
       "<Geographic 2D CRS: EPSG:4269>\n",
       "Name: NAD83\n",
       "Axis Info [ellipsoidal]:\n",
       "- Lat[north]: Geodetic latitude (degree)\n",
       "- Lon[east]: Geodetic longitude (degree)\n",
       "Area of Use:\n",
       "- name: North America - onshore and offshore: Canada - Alberta; British Columbia; Manitoba; New Brunswick; Newfoundland and Labrador; Northwest Territories; Nova Scotia; Nunavut; Ontario; Prince Edward Island; Quebec; Saskatchewan; Yukon. Puerto Rico. United States (USA) - Alabama; Alaska; Arizona; Arkansas; California; Colorado; Connecticut; Delaware; Florida; Georgia; Hawaii; Idaho; Illinois; Indiana; Iowa; Kansas; Kentucky; Louisiana; Maine; Maryland; Massachusetts; Michigan; Minnesota; Mississippi; Missouri; Montana; Nebraska; Nevada; New Hampshire; New Jersey; New Mexico; New York; North Carolina; North Dakota; Ohio; Oklahoma; Oregon; Pennsylvania; Rhode Island; South Carolina; South Dakota; Tennessee; Texas; Utah; Vermont; Virginia; Washington; West Virginia; Wisconsin; Wyoming. US Virgin Islands.  British Virgin Islands.\n",
       "- bounds: (167.65, 14.92, -47.74, 86.46)\n",
       "Datum: North American Datum 1983\n",
       "- Ellipsoid: GRS 1980\n",
       "- Prime Meridian: Greenwich"
      ]
     },
     "execution_count": 51,
     "metadata": {},
     "output_type": "execute_result"
    }
   ],
   "source": [
    "gdf_new.crs"
   ]
  },
  {
   "cell_type": "markdown",
   "metadata": {
    "id": "c6bNHvxwgH7b"
   },
   "source": [
    "### Save as Shapefile"
   ]
  },
  {
   "cell_type": "code",
   "execution_count": 53,
   "metadata": {
    "id": "a6tfIQXRgH7b"
   },
   "outputs": [],
   "source": [
    "gdf_new.to_file(\"IN-CORE_Seaside_BuildingInventory_2021-03-20.shp\")"
   ]
  },
  {
   "cell_type": "code",
   "execution_count": null,
   "metadata": {
    "id": "PMDC-QyCVBew"
   },
   "outputs": [],
   "source": []
  },
  {
   "cell_type": "code",
   "execution_count": null,
   "metadata": {
    "id": "UF8GNZLjVBew"
   },
   "outputs": [],
   "source": []
  },
  {
   "cell_type": "code",
   "execution_count": null,
   "metadata": {},
   "outputs": [],
   "source": []
  }
 ],
 "metadata": {
  "colab": {
   "collapsed_sections": [
    "ZPSnrm2igH7Z",
    "2ll64PmpgH7a",
    "c6bNHvxwgH7b"
   ],
   "include_colab_link": true,
   "name": "IN-CORE_NCSA_Seaside_Building_Inventory.ipynb",
   "provenance": []
  },
  "kernelspec": {
   "display_name": "Python 3",
   "language": "python",
   "name": "python3"
  },
  "language_info": {
   "codemirror_mode": {
    "name": "ipython",
    "version": 3
   },
   "file_extension": ".py",
   "mimetype": "text/x-python",
   "name": "python",
   "nbconvert_exporter": "python",
   "pygments_lexer": "ipython3",
   "version": "3.7.8"
  }
 },
 "nbformat": 4,
 "nbformat_minor": 1
}
