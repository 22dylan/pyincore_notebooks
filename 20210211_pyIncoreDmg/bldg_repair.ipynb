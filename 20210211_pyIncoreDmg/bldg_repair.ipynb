{
 "cells": [
  {
   "cell_type": "markdown",
   "metadata": {},
   "source": [
    "<h1><center>Jupyter notebook for Seaside (Repairs)</center></h1>\n",
    "Dylan R. Sanderson<br>\n",
    "Last updated: Feb. 10th, 2021\n",
    "\n",
    "This notebook contains code to determine repair time estimates for buildings in Seaside. The building damage code must be ran before using this notebook.\n",
    "\n",
    "Methods follow HAZUS"
   ]
  },
  {
   "cell_type": "code",
   "execution_count": null,
   "metadata": {},
   "outputs": [],
   "source": [
    "import os\n",
    "import numpy as np\n",
    "import pandas as pd"
   ]
  },
  {
   "cell_type": "markdown",
   "metadata": {},
   "source": [
    "### Defining repair time information\n",
    "+ Building repair time information is taken from [HAZUS MH 2.1 (Earthquake Model)](https://www.fema.gov/sites/default/files/2020-09/fema_hazus_earthquake-model_technical-manual_2.1.pdf#page=613)  Section 15.2.4.\n",
    "+ HAZUS provides the median values for repair times for each damage state and building type.\n",
    "+ The repair time formulation follows [Kameshwar et al. (2019)](https://www.sciencedirect.com/science/article/pii/S0951832018315163?casa_token=CPiMJq2o8zAAAAAA:Hjr5X2tu2MWfcEG57JVwAMrn9QgiInDG_eoPsUAQXdZJ7VgaI3UyXVqILpD92IPTVG50R5MsaVA), in which only one set of repair time estimates are used for both earthquake and tsunami hazards and across building types.\n",
    "+ Kameshwar et al. (2019) assume that a lognormal restoration model is used for buildings and that the logarithmic dispersion is 0.5.\n",
    "+ Because Monte-Carlo simulation is not implemented for the optimization algorithm, the median values provided by HAZUS that are used to parameterize the lognormal restoration functions are converted to [mean values](https://www.itl.nist.gov/div898/handbook/apr/section1/apr164.htm)\n",
    "\n",
    "\n",
    "| Damage State | Median | Dispersion |\n",
    "| --- | --- | --- |\n",
    "| Insignificant/None | 0.5 | 0.5 |\n",
    "| Moderate | 60 | 0.5 |\n",
    "| Heavy | 360 | 0.5 |\n",
    "| Complete | 720 | 0.5 |\n",
    "\n",
    "The repair time is thus computed as <br>\n",
    "$$Repair = \\sum_{ds} P_{ds} \\mu_{r,ds}$$\n",
    "With \n",
    "+ $P_{ds}$: probability of being in damage state $ds$\n",
    "+ $\\mu_{r,ds}$: mean repair time associated with damage state $ds$"
   ]
  },
  {
   "cell_type": "code",
   "execution_count": null,
   "metadata": {},
   "outputs": [],
   "source": [
    "# median repair times for DS: None, slight, moderate, extensive, and complete\n",
    "med = np.array([0.5, 60, 360, 720])\n",
    "beta = np.array([0.5, 0.5, 0.5, 0.5])\n",
    "DSs = ['insignific', 'moderate', 'heavy', 'complete']\n",
    "\n",
    "# converting median/beta to mean values\n",
    "mean_repair_time = med*np.exp((beta**2)/2)"
   ]
  },
  {
   "cell_type": "markdown",
   "metadata": {},
   "source": [
    "### Computing earhtquake repair times"
   ]
  },
  {
   "cell_type": "code",
   "execution_count": null,
   "metadata": {},
   "outputs": [],
   "source": [
    "path_to_earthquake_dmg = os.path.join(os.getcwd(), 'buildings_eq_1000yr.csv')\n",
    "data = pd.read_csv(path_to_earthquake_dmg)\n",
    "repair_save = 0\n",
    "for DS_i, DS in enumerate(DSs):\n",
    "    repair_save += data[DS]*mean_repair_time[DS_i]\n",
    "repair_save.mean()"
   ]
  },
  {
   "cell_type": "markdown",
   "metadata": {},
   "source": [
    "### Computing tsunami repair times"
   ]
  },
  {
   "cell_type": "code",
   "execution_count": null,
   "metadata": {},
   "outputs": [],
   "source": [
    "path_to_tsunami_dmg = os.path.join(os.getcwd(), 'buildings_tsu_1000yr.csv')\n",
    "data = pd.read_csv(path_to_tsunami_dmg)\n",
    "repair_save = 0\n",
    "for DS_i, DS in enumerate(DSs):\n",
    "    repair_save += data[DS]*mean_repair_time[DS_i]\n",
    "repair_save.mean()"
   ]
  },
  {
   "cell_type": "markdown",
   "metadata": {},
   "source": [
    "### Computing cumulative repair times"
   ]
  },
  {
   "cell_type": "code",
   "execution_count": null,
   "metadata": {},
   "outputs": [],
   "source": [
    "path_to_cumulative_dmg = os.path.join(os.getcwd(), 'buildings_cumulative_1000yr.csv')\n",
    "data = pd.read_csv(path_to_cumulative_dmg)\n",
    "repair_save = 0\n",
    "for DS_i, DS in enumerate(DSs):\n",
    "    repair_save += data[DS]*mean_repair_time[DS_i]\n",
    "repair_save.mean()"
   ]
  },
  {
   "cell_type": "code",
   "execution_count": null,
   "metadata": {},
   "outputs": [],
   "source": []
  }
 ],
 "metadata": {
  "kernelspec": {
   "display_name": "Python 3",
   "language": "python",
   "name": "python3"
  },
  "language_info": {
   "codemirror_mode": {
    "name": "ipython",
    "version": 3
   },
   "file_extension": ".py",
   "mimetype": "text/x-python",
   "name": "python",
   "nbconvert_exporter": "python",
   "pygments_lexer": "ipython3",
   "version": "3.7.9"
  }
 },
 "nbformat": 4,
 "nbformat_minor": 4
}
