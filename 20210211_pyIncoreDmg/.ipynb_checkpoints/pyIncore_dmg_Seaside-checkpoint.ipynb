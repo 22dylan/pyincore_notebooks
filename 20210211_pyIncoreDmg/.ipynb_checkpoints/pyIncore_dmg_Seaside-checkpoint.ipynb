{
 "cells": [
  {
   "cell_type": "markdown",
   "metadata": {},
   "source": [
    "<h1><center>Jupyter notebook for Seaside</center></h1>\n",
    "Dylan R. Sanderson<br>\n",
    "Last updated: April 16th, 2021\n",
    "\n",
    "This notebook contains code to run infrastructure damage for Seaside. <br>\n",
    "Four infrastructures are considered:\n",
    "+ [Buildings](#bldg)\n",
    "+ [Electric power network](#epn)\n",
    "+ [Transportation (roads and bridges)](#trnsp)\n",
    "+ [Water (water pipes and water facilities)](#wter)"
   ]
  },
  {
   "cell_type": "markdown",
   "metadata": {},
   "source": [
    "### Importing pyIncore and other modules"
   ]
  },
  {
   "cell_type": "code",
   "execution_count": null,
   "metadata": {},
   "outputs": [],
   "source": [
    "from pyincore import IncoreClient, Dataset, FragilityService, MappingSet\n",
    "from pyincore.analyses.buildingdamage import BuildingDamage\n",
    "from pyincore.analyses.cumulativebuildingdamage import CumulativeBuildingDamage\n",
    "from pyincore.analyses.epfdamage import EpfDamage\n",
    "from pyincore.analyses.bridgedamage import BridgeDamage\n",
    "from pyincore.analyses.roaddamage import RoadDamage\n",
    "from pyincore.analyses.pipelinedamage import PipelineDamage\n",
    "from pyincore.analyses.pipelinedamagerepairrate import PipelineDamageRepairRate\n",
    "\n",
    "from pyincore.analyses.waterfacilitydamage import WaterFacilityDamage\n",
    "import os\n",
    "import pandas as pd\n",
    "client = IncoreClient()\n"
   ]
  },
  {
   "cell_type": "markdown",
   "metadata": {},
   "source": [
    "### Specifying the earthquake and tsunami return periods\n",
    "Seven recurrence intervals have been considered at Seaside\n",
    "+ 100-yr\n",
    "+ 250-yr\n",
    "+ 500-yr\n",
    "+ 1,000-yr\n",
    "+ 2,500-yr\n",
    "+ 5,000-yr\n",
    "+ 10,000-yr"
   ]
  },
  {
   "cell_type": "code",
   "execution_count": null,
   "metadata": {},
   "outputs": [],
   "source": [
    "rt = [100, 250, 500, 1000, 2500, 5000, 10000]\n",
    "rt = [1000]\n",
    "\n",
    "earthquake_hazard_dict = {100: \"5dfa4058b9219c934b64d495\", \n",
    "                  250: \"5dfa41aab9219c934b64d4b2\",\n",
    "                  500: \"5dfa4300b9219c934b64d4d0\",\n",
    "                  1000: \"5dfa3e36b9219c934b64c231\",\n",
    "                  2500: \"5dfa4417b9219c934b64d4d3\", \n",
    "                  5000: \"5dfbca0cb9219c101fd8a58d\",\n",
    "                 10000: \"5dfa51bfb9219c934b68e6c2\"}\n",
    "\n",
    "tsunami_hazard_dict = {100: \"5bc9e25ef7b08533c7e610dc\", \n",
    "                  250: \"5df910abb9219cd00cf5f0a5\",\n",
    "                  500: \"5df90e07b9219cd00ce971e7\",\n",
    "                  1000: \"5df90137b9219cd00cb774ec\",\n",
    "                  2500: \"5df90761b9219cd00ccff258\",\n",
    "                  5000: \"5df90871b9219cd00ccff273\",\n",
    "                  10000: \"5d27b986b9219c3c55ad37d0\"}\n"
   ]
  },
  {
   "cell_type": "markdown",
   "metadata": {},
   "source": [
    "<a id='bldg'></a>\n",
    "***\n",
    "<h2><center>Building Infrastructure</center></h2>"
   ]
  },
  {
   "cell_type": "markdown",
   "metadata": {},
   "source": [
    "#### Earthquake Building Damage\n",
    "Running earthquake building damage."
   ]
  },
  {
   "cell_type": "code",
   "execution_count": null,
   "metadata": {},
   "outputs": [],
   "source": [
    "# initializing building damage and fragility service\n",
    "bldg_dmg = BuildingDamage(client)   \n",
    "fragility_service = FragilityService(client)\n",
    "\n",
    "# defining building dataset (GIS point layer)\n",
    "bldg_dataset_id = \"5df40388b9219c06cf8b0c80\"\n",
    "bldg_dmg.load_remote_input_dataset(\"buildings\", bldg_dataset_id)\n",
    "\n",
    "# specifiying mapping id from fragilites to building types\n",
    "mapping_id = \"5d2789dbb9219c3c553c7977\" # 4 DS\n",
    "mapping_set = MappingSet(fragility_service.get_mapping(mapping_id))\n",
    "bldg_dmg.set_input_dataset('dfr3_mapping_set', mapping_set)\n",
    "\n",
    "bldg_dmg.set_parameter(\"hazard_type\", \"earthquake\")\n",
    "bldg_dmg.set_parameter(\"num_cpu\", 1)\n",
    "\n",
    "for rt_val in rt:\n",
    "    print('\\tearthquake: rt_{}' .format(rt_val))\n",
    "    result_name = os.path.join('buildings_eq_{}yr' .format(rt_val))\n",
    "    hazard_id = earthquake_hazard_dict[rt_val]\n",
    "    bldg_dmg.set_parameter(\"hazard_id\", hazard_id)\n",
    "    bldg_dmg.set_parameter(\"result_name\", result_name)\n",
    "\n",
    "    bldg_dmg.run_analysis()\n"
   ]
  },
  {
   "cell_type": "markdown",
   "metadata": {},
   "source": [
    "#### Tsunami Building Damage\n",
    "Running tsunami building damage"
   ]
  },
  {
   "cell_type": "code",
   "execution_count": null,
   "metadata": {},
   "outputs": [],
   "source": [
    "# initializing pyincore building damage and fragility service \n",
    "bldg_dmg = BuildingDamage(client)\n",
    "fragility_service = FragilityService(client)\n",
    "\n",
    "# defining building dataset (GIS point layer)\n",
    "bldg_dataset_id = \"5df40388b9219c06cf8b0c80\"\n",
    "bldg_dmg.load_remote_input_dataset(\"buildings\", bldg_dataset_id)\n",
    "\n",
    "# specifiying mapping id from fragilites to building types\n",
    "mapping_id = \"5d279bb9b9219c3c553c7fba\" # 4 DS\n",
    "mapping_set = MappingSet(fragility_service.get_mapping(mapping_id))\n",
    "bldg_dmg.set_input_dataset('dfr3_mapping_set', mapping_set)\n",
    "\n",
    "bldg_dmg.set_parameter(\"hazard_type\", \"tsunami\")\n",
    "bldg_dmg.set_parameter(\"num_cpu\", 1)\n",
    "\n",
    "for rt_val in rt:\n",
    "    print('\\ttsunami: rt_{}' .format(rt_val))\n",
    "    result_name = os.path.join('buildings_tsu_{}yr' .format(rt_val))\n",
    "    hazard_id = tsunami_hazard_dict[rt_val]\n",
    "    bldg_dmg.set_parameter(\"hazard_id\", hazard_id)\n",
    "    bldg_dmg.set_parameter(\"result_name\", result_name)\n",
    "\n",
    "    bldg_dmg.run_analysis()"
   ]
  },
  {
   "cell_type": "markdown",
   "metadata": {},
   "source": [
    "#### Cumulative Building Damage\n",
    "This cell must be ran after the above. It relies on output from the earthquake and tsunami building damage modules. "
   ]
  },
  {
   "cell_type": "code",
   "execution_count": null,
   "metadata": {},
   "outputs": [],
   "source": [
    "# initializing pyIncore cumulative building damage\n",
    "cumulative_bldg_dmg = CumulativeBuildingDamage(client)\n",
    "cumulative_bldg_dmg.set_parameter(\"num_cpu\", 1)\n",
    "\n",
    "for rt_val in rt:\n",
    "    print('\\tcumulative: rt_{}' .format(rt_val))\n",
    "    # reading in damage results from above analysis\n",
    "    eq_damage_results_csv = os.path.join('buildings_eq_{}yr.csv' .format(rt_val))\n",
    "    tsu_damage_results_csv = os.path.join('buildings_tsu_{}yr.csv' .format(rt_val))\n",
    "\n",
    "    # loading datasets from CSV files into pyincore\n",
    "    eq_damage_dataset = Dataset.from_file(eq_damage_results_csv, \"ergo:buildingDamageVer5\")\n",
    "    tsu_damage_dataset = Dataset.from_file(tsu_damage_results_csv, \"ergo:buildingDamageVer5\")\n",
    "\n",
    "    cumulative_bldg_dmg.set_input_dataset(\"eq_bldg_dmg\", eq_damage_dataset)\n",
    "    cumulative_bldg_dmg.set_input_dataset(\"tsunami_bldg_dmg\", tsu_damage_dataset)\n",
    "\n",
    "    # defining path to output \n",
    "    result_name = os.path.join('buildings_cumulative_{}yr' .format(rt_val))\n",
    "    cumulative_bldg_dmg.set_parameter(\"result_name\", result_name)\n",
    "\n",
    "    # running analysis\n",
    "    cumulative_bldg_dmg.run_analysis()"
   ]
  },
  {
   "cell_type": "markdown",
   "metadata": {},
   "source": [
    "<a id='epn'></a>\n",
    "***\n",
    "<h2><center>Electric Power Network</center></h2>\n",
    "The electric power network consists of electric poles and substation"
   ]
  },
  {
   "cell_type": "markdown",
   "metadata": {},
   "source": [
    "#### Earthquake Electric Damage"
   ]
  },
  {
   "cell_type": "code",
   "execution_count": null,
   "metadata": {},
   "outputs": [],
   "source": [
    "# initializing epf damage and fragility service\n",
    "epf_dmg = EpfDamage(client)\n",
    "fragility_service = FragilityService(client)\n",
    "\n",
    "# defining electric pole dataset (GIS point layer)\n",
    "poles_ss_id = \"5d263f08b9219cf93c056c68\"     # elelctric power poles and substation\n",
    "epf_dmg.load_remote_input_dataset(\"epfs\", poles_ss_id)\n",
    "\n",
    "# Fragility Mapping on incore-service\n",
    "# mapping_id = \"5d489aa1b9219c0689f1988e\" # 5 DS\n",
    "mapping_id = \"6079f6a7ef881f48a4ace306\" # 4 DS\n",
    "mapping_set = MappingSet(fragility_service.get_mapping(mapping_id))\n",
    "epf_dmg.set_input_dataset('dfr3_mapping_set', mapping_set)\n",
    "\n",
    "epf_dmg.set_parameter(\"hazard_type\", 'earthquake')\n",
    "epf_dmg.set_parameter(\"num_cpu\", 1)\n",
    "epf_dmg.set_parameter('fragility_key', \"pga\")\n",
    "\n",
    "for rt_val in rt:\n",
    "    print('\\teartquake: rt_{}' .format(rt_val))\n",
    "    result_name = os.path.join('electric_eq_{}yr_dmg'.format(rt_val))\n",
    "    hazard_id = earthquake_hazard_dict[rt_val]\n",
    "\n",
    "    epf_dmg.set_parameter(\"hazard_id\", hazard_id)\n",
    "    epf_dmg.set_parameter(\"result_name\", result_name)\n",
    "\n",
    "    # Run Analysis\n",
    "    epf_dmg.run_analysis()"
   ]
  },
  {
   "cell_type": "markdown",
   "metadata": {},
   "source": [
    "#### Tsunami Electric Damage"
   ]
  },
  {
   "cell_type": "code",
   "execution_count": null,
   "metadata": {},
   "outputs": [],
   "source": [
    "# Initializing EPF damage and fragility service\n",
    "epf_dmg = EpfDamage(client)\n",
    "fragility_service = FragilityService(client)\n",
    "\n",
    "# defining electric poles and substation dataset (GIS point layer)\n",
    "poles_ss_id = \"5d263f08b9219cf93c056c68\"\n",
    "epf_dmg.load_remote_input_dataset(\"epfs\", poles_ss_id)\n",
    "\n",
    "# Fragility Mapping on incore-service\n",
    "# mapping_id = \"5d31eb7fb9219c6d66398445\" # 5 DS\n",
    "mapping_id = \"6079c5e06799d908861f177c\" # 4 DS\n",
    "mapping_set = MappingSet(fragility_service.get_mapping(mapping_id))\n",
    "epf_dmg.set_input_dataset('dfr3_mapping_set', mapping_set)\n",
    "\n",
    "epf_dmg.set_parameter(\"hazard_type\", \"tsunami\")\n",
    "epf_dmg.set_parameter(\"num_cpu\", 1)\n",
    "epf_dmg.set_parameter('fragility_key', \"Non-Retrofit inundationDepth Fragility ID Code\")\n",
    "\n",
    "for rt_val in rt:\n",
    "    print('\\ttsunami: rt_{}' .format(rt_val))\n",
    "    result_name = os.path.join('electric_tsu_{}yr_dmg'.format(rt_val))\n",
    "    hazard_id = tsunami_hazard_dict[rt_val]\n",
    "\n",
    "    epf_dmg.set_parameter(\"hazard_id\", hazard_id)\n",
    "    epf_dmg.set_parameter(\"result_name\", result_name)\n",
    "\n",
    "    # Run Analysis\n",
    "    epf_dmg.run_analysis()"
   ]
  },
  {
   "cell_type": "markdown",
   "metadata": {},
   "source": [
    "#### Cumulative Electric Damage\n",
    "Does not exist in pyIncore"
   ]
  },
  {
   "cell_type": "markdown",
   "metadata": {},
   "source": [
    "<a id='trnsp'></a>\n",
    "***\n",
    "<h2><center>Transportation Network</center></h2>"
   ]
  },
  {
   "cell_type": "markdown",
   "metadata": {},
   "source": [
    "#### Earthquake Road Damage"
   ]
  },
  {
   "cell_type": "code",
   "execution_count": null,
   "metadata": {},
   "outputs": [],
   "source": [
    "# Initializing road damage and fragility service\n",
    "road_dmg = RoadDamage(client)\n",
    "fragility_service = FragilityService(client)\n",
    "\n",
    "# loading in road dataset\n",
    "road_dataset_id = \"5d25118eb9219c0692cd7527\"\n",
    "road_dmg.load_remote_input_dataset(\"roads\", road_dataset_id)\n",
    "\n",
    "# seaside road fragility mappng for EQ\n",
    "# mapping_id = \"5d545b0bb9219c0689f1f3f4\" # 5 DS\n",
    "mapping_id = \"6079ec1aef881f48a4ac586c\" # 4 DS\n",
    "mapping_set = MappingSet(fragility_service.get_mapping(mapping_id))\n",
    "road_dmg.set_input_dataset('dfr3_mapping_set', mapping_set)\n",
    "\n",
    "road_dmg.set_parameter(\"hazard_type\", 'earthquake')\n",
    "road_dmg.set_parameter(\"num_cpu\", 1)\n",
    "road_dmg.set_parameter(\"fragility_key\", 'pgd')\n",
    "\n",
    "for rt_val in rt:\n",
    "    print('\\tearthquake rt_{}' .format(rt_val))\n",
    "    result_name = os.path.join('road_eq_{}yr_dmg' .format(rt_val))\n",
    "    hazard_id = earthquake_hazard_dict[rt_val]\n",
    "\n",
    "    road_dmg.set_parameter(\"hazard_id\", hazard_id)\n",
    "    road_dmg.set_parameter(\"result_name\", result_name)\n",
    "\n",
    "    road_dmg.run_analysis()\n"
   ]
  },
  {
   "cell_type": "markdown",
   "metadata": {},
   "source": [
    "##### Earthquake Bridge Damage"
   ]
  },
  {
   "cell_type": "code",
   "execution_count": null,
   "metadata": {},
   "outputs": [],
   "source": [
    "# initializing bridge damage and fragility service\n",
    "brdg_dmg = BridgeDamage(client)\n",
    "fragility_service = FragilityService(client)\n",
    "\n",
    "# Seaside bridges\n",
    "bridge_dataset_id = \"5d6ede5db9219c34b56fc20b\"\n",
    "brdg_dmg.load_remote_input_dataset(\"bridges\", bridge_dataset_id)\n",
    "\n",
    "# Set analysis parameters\n",
    "\n",
    "# seaside road fragility mappng for EQ\n",
    "# mapping_id = \"5d55c3a1b9219c0689f1f898\" # 5 DS\n",
    "mapping_id = \"6079f5435b609c56229bf85c\" # 4 DS\n",
    "mapping_set = MappingSet(fragility_service.get_mapping(mapping_id))\n",
    "brdg_dmg.set_input_dataset('dfr3_mapping_set', mapping_set)\n",
    "\n",
    "brdg_dmg.set_parameter(\"hazard_type\", 'earthquake')\n",
    "brdg_dmg.set_parameter(\"num_cpu\", 1)\n",
    "\n",
    "for rt_val in rt:\n",
    "    print('\\tearthquake: rt_{}' .format(rt_val))\n",
    "    result_name = os.path.join('bridge_eq_{}yr_dmg' .format(rt_val))\n",
    "    hazard_id = earthquake_hazard_dict[rt_val]\n",
    "    brdg_dmg.set_parameter(\"hazard_id\", hazard_id)\n",
    "    brdg_dmg.set_parameter(\"result_name\", result_name)\n",
    "\n",
    "    brdg_dmg.run_analysis()"
   ]
  },
  {
   "cell_type": "markdown",
   "metadata": {},
   "source": [
    "#### Tsunami Road Damage"
   ]
  },
  {
   "cell_type": "code",
   "execution_count": null,
   "metadata": {},
   "outputs": [],
   "source": [
    "# Initializing road damage and fragility service\n",
    "road_dmg = RoadDamage(client)\n",
    "fragility_service = FragilityService(client)\n",
    "\n",
    "# loading road dataset\n",
    "road_dataset_id = \"5d25118eb9219c0692cd7527\"\n",
    "road_dmg.load_remote_input_dataset(\"roads\", road_dataset_id)\n",
    "\n",
    "# seaside road fragility mappng for tsunami\n",
    "mapping_id = \"5d274fd8b9219c3c553c71ff\" # 5 DS\n",
    "# mapping_id = \"6079c3bc6799d908861f16d4\" # 4 DS\n",
    "mapping_set = MappingSet(fragility_service.get_mapping(mapping_id))\n",
    "road_dmg.set_input_dataset('dfr3_mapping_set', mapping_set)\n",
    "\n",
    "road_dmg.set_parameter(\"hazard_type\", 'tsunami')\n",
    "road_dmg.set_parameter(\"num_cpu\", 1)\n",
    "road_dmg.set_parameter(\"fragility_key\", \"Non-Retrofit inundationDepth Fragility ID Code\")\n",
    "\n",
    "\n",
    "for rt_val in rt:\n",
    "    print('\\ttsunami: rt_{}' .format(rt_val))\n",
    "    result_name = os.path.join('road_tsu_{}yr_dmg' .format(rt_val))\n",
    "    hazard_id = tsunami_hazard_dict[rt_val]\n",
    "\n",
    "    road_dmg.set_parameter(\"hazard_id\", hazard_id)\n",
    "    road_dmg.set_parameter(\"result_name\", result_name)\n",
    "\n",
    "    road_dmg.run_analysis()"
   ]
  },
  {
   "cell_type": "markdown",
   "metadata": {},
   "source": [
    "##### Tsunami Bridge Damage"
   ]
  },
  {
   "cell_type": "code",
   "execution_count": null,
   "metadata": {},
   "outputs": [],
   "source": [
    "# Initialzing bridge damage and fragility service\n",
    "brdg_dmg = BridgeDamage(client)\n",
    "fragility_service = FragilityService(client)\n",
    "\n",
    "# Seaside bridges\n",
    "bridge_dataset_id = \"5d6ede5db9219c34b56fc20b\"\n",
    "brdg_dmg.load_remote_input_dataset(\"bridges\", bridge_dataset_id)\n",
    "\n",
    "# seaside road fragility mappng for EQ\n",
    "mapping_id = \"5d275000b9219c3c553c7202\"\t# 5 DS\n",
    "# mapping_id = \"6079c41a6799d908861f16fe\" # 4 DS\n",
    "mapping_set = MappingSet(fragility_service.get_mapping(mapping_id))\n",
    "brdg_dmg.set_input_dataset('dfr3_mapping_set', mapping_set)\n",
    "\n",
    "brdg_dmg.set_parameter(\"hazard_type\", 'tsunami')\n",
    "brdg_dmg.set_parameter(\"num_cpu\", 1)\n",
    "\n",
    "for rt_val in rt:\n",
    "    print('\\ttsunami: rt_{}' .format(rt_val))\n",
    "    result_name = os.path.join('bridge_tsu_{}yr_dmg' .format(rt_val))\n",
    "    hazard_id = tsunami_hazard_dict[rt_val]\n",
    "    brdg_dmg.set_parameter(\"hazard_id\", hazard_id)\n",
    "    brdg_dmg.set_parameter(\"result_name\", result_name)\n",
    "\n",
    "    brdg_dmg.run_analysis()"
   ]
  },
  {
   "cell_type": "markdown",
   "metadata": {},
   "source": [
    "#### Cumulative Transportation Damage\n",
    "Does not exist in pyIncore"
   ]
  },
  {
   "cell_type": "markdown",
   "metadata": {},
   "source": [
    "<a id='wter'></a>\n",
    "***\n",
    "<h2><center>Water Network</center></h2>\n"
   ]
  },
  {
   "cell_type": "markdown",
   "metadata": {},
   "source": [
    "#### Earthquake Pipe Damage"
   ]
  },
  {
   "cell_type": "code",
   "execution_count": null,
   "metadata": {},
   "outputs": [],
   "source": [
    "# Initializing pipeline damage and fragility service\n",
    "pipeline_dmg = PipelineDamageRepairRate(client)\n",
    "fragility_service = FragilityService(client)\n",
    "\n",
    "# Seaside pipes\n",
    "pipe_dataset_id = \"5d2666b5b9219c3c5595ee65\"\n",
    "pipeline_dmg.load_remote_input_dataset(\"pipeline\", pipe_dataset_id)\n",
    "\n",
    "# seaside pipe fragility mappng for EQ\n",
    "mapping_id = \"5b47c227337d4a38464efea8\"\n",
    "mapping_set = MappingSet(fragility_service.get_mapping(mapping_id))\n",
    "pipeline_dmg.set_input_dataset('dfr3_mapping_set', mapping_set)\n",
    "\n",
    "pipeline_dmg.set_parameter(\"hazard_type\", 'earthquake')\n",
    "pipeline_dmg.set_parameter(\"fragility_key\",'pgv')\n",
    "# pipeline_dmg.set_parameter(\"use_liquefaction\",True)\n",
    "pipeline_dmg.set_parameter(\"num_cpu\", 1)\n",
    "\n",
    "\n",
    "for rt_val in rt:\n",
    "    print('\\tearthquake: rt_{}' .format(rt_val))\n",
    "    result_name = os.path.join('pipe_eq_{}yr_dmg' .format(rt_val))\n",
    "    hazard_id = earthquake_hazard_dict[rt_val]\n",
    "\n",
    "    pipeline_dmg.set_parameter(\"hazard_id\", hazard_id)\n",
    "    pipeline_dmg.set_parameter(\"result_name\",result_name)\n",
    "\n",
    "    # Run pipeline damage analysis\n",
    "    result = pipeline_dmg.run_analysis()\n",
    "\n"
   ]
  },
  {
   "cell_type": "markdown",
   "metadata": {},
   "source": [
    "#### Tsunami Pipe Damage"
   ]
  },
  {
   "cell_type": "code",
   "execution_count": null,
   "metadata": {},
   "outputs": [],
   "source": [
    "# Initialzing pipeline damage and fragility service\n",
    "pipeline_dmg = PipelineDamage(client)\n",
    "fragility_service = FragilityService(client)\n",
    "\n",
    "# Seaside pipes\n",
    "pipe_dataset_id = \"5d2666b5b9219c3c5595ee65\"\n",
    "pipeline_dmg.load_remote_input_dataset(\"pipeline\", pipe_dataset_id)\n",
    "\n",
    "# seaside pipe fragility mappng for tsunami\n",
    "mapping_id = \"5d320a87b9219c6d66398b45\" # 5 DS\n",
    "# mapping_id = \"6079b7156799d908861e413b\" # 4 DS\n",
    "mapping_set = MappingSet(fragility_service.get_mapping(mapping_id))\n",
    "pipeline_dmg.set_input_dataset('dfr3_mapping_set', mapping_set)\n",
    "\n",
    "pipeline_dmg.set_parameter(\"hazard_type\", 'tsunami')\n",
    "pipeline_dmg.set_parameter(\"fragility_key\", \"Non-Retrofit inundationDepth Fragility ID Code\")\n",
    "pipeline_dmg.set_parameter(\"num_cpu\", 1)\n",
    "\n",
    "for rt_val in rt:\n",
    "    print('\\ttsunami: rt_{}' .format(rt_val))\n",
    "    result_name = os.path.join('pipe_tsu_{}yr_dmg' .format(rt_val))\n",
    "    hazard_id = tsunami_hazard_dict[rt_val]\n",
    "\n",
    "    pipeline_dmg.set_parameter(\"hazard_id\", hazard_id)\n",
    "    pipeline_dmg.set_parameter(\"result_name\",result_name)\n",
    "\n",
    "    # Run pipeline damage analysis\n",
    "    result = pipeline_dmg.run_analysis()\n",
    "\n"
   ]
  },
  {
   "cell_type": "markdown",
   "metadata": {},
   "source": [
    "#### Water Facility Earthquake Damage"
   ]
  },
  {
   "cell_type": "code",
   "execution_count": null,
   "metadata": {},
   "outputs": [],
   "source": [
    "# Initializing water facility damage and fragility service\n",
    "wterfclty_dmg = WaterFacilityDamage(client)\n",
    "fragility_service = FragilityService(client)\n",
    "\n",
    "# loading input dataset\n",
    "fclty_dataset_id = \"5d266507b9219c3c5595270c\"\n",
    "wterfclty_dmg.load_remote_input_dataset(\"water_facilities\", fclty_dataset_id)\n",
    "\n",
    "# wterfclty Fragility Mapping on incore-service\n",
    "mapping_id = \"5d39e010b9219cc18bd0b0b6\" # 5 DS\n",
    "# mapping_id = \"6079f7825b609c56229bf976\" # 4 DS\n",
    "mapping_set = MappingSet(fragility_service.get_mapping(mapping_id))\n",
    "wterfclty_dmg.set_input_dataset('dfr3_mapping_set', mapping_set)\n",
    "\n",
    "wterfclty_dmg.set_parameter(\"hazard_type\", 'earthquake')\n",
    "wterfclty_dmg.set_parameter(\"fragility_key\",'pga')\n",
    "wterfclty_dmg.set_parameter(\"num_cpu\", 1)\n",
    "\n",
    "\n",
    "for rt_val in rt:\n",
    "    print('\\tearthquake: rt_{}' .format(rt_val))\n",
    "    result_name = os.path.join('wterfclty_eq_{}yr_dmg' .format(rt_val))\n",
    "    hazard_id = earthquake_hazard_dict[rt_val]\n",
    "\n",
    "    wterfclty_dmg.set_parameter(\"hazard_id\", hazard_id)\n",
    "    wterfclty_dmg.set_parameter(\"result_name\",result_name)\n",
    "\n",
    "    # Run pipeline damage analysis\n",
    "    result = wterfclty_dmg.run_analysis()\n"
   ]
  },
  {
   "cell_type": "markdown",
   "metadata": {},
   "source": [
    "#### Water Facility Tsunami Damage"
   ]
  },
  {
   "cell_type": "code",
   "execution_count": null,
   "metadata": {},
   "outputs": [],
   "source": [
    "# initialzing water facility damage and fragility service\n",
    "wterfclty_dmg = WaterFacilityDamage(client)\n",
    "fragility_service = FragilityService(client)\n",
    "\n",
    "# loading input dataset\n",
    "fclty_dataset_id = \"5d266507b9219c3c5595270c\"\n",
    "wterfclty_dmg.load_remote_input_dataset(\"water_facilities\", fclty_dataset_id)\n",
    "\n",
    "# wterfclty Fragility Mapping on incore-service\n",
    "mapping_id = \"5d31f737b9219c6d66398521\" # 5 DS\n",
    "# mapping_id = \"6079b8a66799d908861e4bf0\" # 4 DS\n",
    "mapping_set = MappingSet(fragility_service.get_mapping(mapping_id))\n",
    "wterfclty_dmg.set_input_dataset('dfr3_mapping_set', mapping_set)\n",
    "\n",
    "wterfclty_dmg.set_parameter(\"hazard_type\", 'tsunami')\n",
    "wterfclty_dmg.set_parameter(\"fragility_key\",\"Non-Retrofit inundationDepth Fragility ID Code\")\n",
    "wterfclty_dmg.set_parameter(\"num_cpu\", 1)\n",
    "\n",
    "\n",
    "for rt_val in rt:\n",
    "    print('\\ttsunami: rt_{}' .format(rt_val))\n",
    "    result_name = os.path.join('wterfclty_tsu_{}yr_dmg' .format(rt_val))\n",
    "    hazard_id = tsunami_hazard_dict[rt_val]\n",
    "\n",
    "    wterfclty_dmg.set_parameter(\"hazard_id\", hazard_id)\n",
    "    wterfclty_dmg.set_parameter(\"result_name\",result_name)\n",
    "\n",
    "    # Run pipeline damage analysis\n",
    "    result = wterfclty_dmg.run_analysis()\n"
   ]
  },
  {
   "cell_type": "markdown",
   "metadata": {},
   "source": [
    "#### Cumulative Water Damage\n",
    "Does not exist in pyIncore"
   ]
  }
 ],
 "metadata": {
  "kernelspec": {
   "display_name": "Python 3",
   "language": "python",
   "name": "python3"
  },
  "language_info": {
   "codemirror_mode": {
    "name": "ipython",
    "version": 3
   },
   "file_extension": ".py",
   "mimetype": "text/x-python",
   "name": "python",
   "nbconvert_exporter": "python",
   "pygments_lexer": "ipython3",
   "version": "3.8.8"
  }
 },
 "nbformat": 4,
 "nbformat_minor": 4
}
