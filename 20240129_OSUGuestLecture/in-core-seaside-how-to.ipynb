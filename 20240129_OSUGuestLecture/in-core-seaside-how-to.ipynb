{
 "cells": [
  {
   "cell_type": "markdown",
   "id": "d8a23c41-f494-4c6a-80ff-31ec66a93f3c",
   "metadata": {},
   "source": [
    "<h1> <center> Example of Earthquake and Tsunami Building Damage with IN-CORE </center> </h1>\n",
    "\n",
    "This Jupyter notebook contains provides an example of computing building damage using [IN-CORE](https://incore.ncsa.illinois.edu/). This notebook uses the Seaside, Oregon testbed. This notebook is available as an example from the following link: https://github.com/22dylan/pyincore_notebooks/tree/master/20231217_in-core-how-to\n",
    "\n",
    "\n",
    "<!-- ![seaside](images/seaside.png) -->\n",
    "\n",
    "<!-- <div>\n",
    "<img src=\"attachment:images/seaside.png\" width=\"400\">\n",
    "</div> -->\n",
    "\n",
    "<!-- In this notebook, the seismic-tsunami hazard posed by the Cascadia Subduction Zone (CSZ) is considered to demonstrate the multi-hazard capabilities in pyIncore. The CSZ is an approximately 1,000 km long fault located between Cape Mendocino California and Vancouver Island, Canada, which separates the Juan de Fuca and North America plates. Rupture of the CSZ will result in a megathrust earthquake and lead to a subsequent tsunami. The city of Seaside is located along the northern Oregon coast, and has been selected as a testbed community for this analysis. -->\n",
    "\n",
    "\n",
    "<!-- ![flowchart](images/flowchart0.png) -->\n",
    "<center><img src=\"images/flowchart0.png\" width=\"80%\"/></center>\n",
    "\n"
   ]
  },
  {
   "cell_type": "markdown",
   "id": "f5109915-bb54-4fd1-9bc1-ca68fb67012e",
   "metadata": {},
   "source": [
    "## <center> Import IN-CORE and Necessary Modules </center>\n",
    "This section imports all necessary python packages and pyincore modules. This section also establishes a connection to the IN-CORE server by initializing an IN-CORE client. \n",
    "\n",
    "<center><img src=\"images/flowchart1.png\" width=\"50%\"/></center>\n"
   ]
  },
  {
   "cell_type": "code",
   "execution_count": null,
   "id": "4d6ca006-5f01-42ef-a9da-9d7d8e28ebee",
   "metadata": {},
   "outputs": [],
   "source": [
    "import os\n",
    "import pandas as pd\n",
    "\n",
    "from pyincore import IncoreClient, Dataset, DataService, FragilityService, MappingSet\n",
    "from pyincore.analyses.buildingdamage import BuildingDamage\n",
    "from pyincore.analyses.cumulativebuildingdamage import CumulativeBuildingDamage\n",
    "\n",
    "client = IncoreClient()\n",
    "data_service = DataService(client)\n",
    "fragility_service = FragilityService(client)"
   ]
  },
  {
   "cell_type": "code",
   "execution_count": null,
   "id": "46f2d38e-dc05-497c-9b0d-72593246ac0e",
   "metadata": {},
   "outputs": [],
   "source": [
    "output_path = os.path.join(os.getcwd(), 'output')\n",
    "if not os.path.exists(output_path):\n",
    "    os.makedirs(output_path)"
   ]
  },
  {
   "cell_type": "markdown",
   "id": "bd3ec88e-559b-47bf-81c9-097141063518",
   "metadata": {},
   "source": [
    "## <center> Initial Community Description </center> "
   ]
  },
  {
   "cell_type": "markdown",
   "id": "ff130381-3d73-472e-88b1-3a2e3d7f19bd",
   "metadata": {},
   "source": [
    "This section defines the initial community description before the building damage code is ran. This section corresponds to the following part of the flowchart.\n",
    "\n",
    "<center><img src=\"images/flowchart2.png\" width=\"50%\"/></center>\n",
    "\n",
    "Loading the building inventory from IN-CORE. The building inventory is saved on IN-CORE's dataservers available [here](https://incore.ncsa.illinois.edu/DataViewer). Just paste the dataset id ```613ba5ef5d3b1d6461e8c415``` into the search bar.\n",
    "\n",
    "<!-- <center><img src=\"images/seaside.png\" width=\"70%\"/></center> -->"
   ]
  },
  {
   "cell_type": "code",
   "execution_count": null,
   "id": "9ad8c03f-52f6-47d5-aa5c-641993a427aa",
   "metadata": {},
   "outputs": [],
   "source": [
    "bldg_dataset_id = \"613ba5ef5d3b1d6461e8c415\"        # defining building dataset (GIS point layer)\n",
    "bldg_dataset = Dataset.from_data_service(bldg_dataset_id, data_service)\n",
    "gdf = bldg_dataset.get_dataframe_from_shapefile()\n",
    "gdf.set_index(\"guid\", inplace=True)\n"
   ]
  },
  {
   "cell_type": "markdown",
   "id": "8331eee5-7ddc-48d6-b402-f3363ea609d5",
   "metadata": {},
   "source": [
    "Plotting the building inventory"
   ]
  },
  {
   "cell_type": "code",
   "execution_count": null,
   "id": "9e277baf-d8f0-47b3-a8ec-9bc36792ff44",
   "metadata": {},
   "outputs": [],
   "source": [
    "gdf.explore(\n",
    "        column=\"struct_typ\", # column for archetype info\n",
    "        tooltip=[\"struct_typ\", \"rmv_improv\"], \n",
    "        popup=True,  \n",
    "        tiles=\"CartoDB positron\"\n",
    ")"
   ]
  },
  {
   "cell_type": "markdown",
   "id": "bd5fb02e-5913-418b-8ada-cbfe4363ad16",
   "metadata": {},
   "source": [
    "## <center> Building Damage </center>\n",
    "This section uses IN-CORE to compute building damge from seismic and tsunami hazards. This section corresponds to the following part of the flowchart.\n",
    "\n",
    "<center><img src=\"images/flowchart3.png\" width=\"50%\"/></center>"
   ]
  },
  {
   "cell_type": "markdown",
   "id": "f4462f55-6d58-42f2-82d4-ee969e12482d",
   "metadata": {},
   "source": [
    "Define recurrence interval"
   ]
  },
  {
   "cell_type": "code",
   "execution_count": null,
   "id": "afc1cd84-c0f0-4da2-9d65-9fc6b9af69ec",
   "metadata": {},
   "outputs": [],
   "source": [
    "recurrence_interval = int(input(\"Reccurrence interval to consider: \"))\n",
    "eq_hazard_dict = {\n",
    "            100: \"5dfa4058b9219c934b64d495\", \n",
    "            250: \"5dfa41aab9219c934b64d4b2\",\n",
    "            500: \"5dfa4300b9219c934b64d4d0\",\n",
    "            1000: \"5dfa3e36b9219c934b64c231\",\n",
    "            2500: \"5dfa4417b9219c934b64d4d3\", \n",
    "            5000: \"5dfbca0cb9219c101fd8a58d\",\n",
    "            10000: \"5dfa51bfb9219c934b68e6c2\"\n",
    "            }\n",
    "ts_hazard_dict = {\n",
    "            100: \"5bc9e25ef7b08533c7e610dc\", \n",
    "            250: \"5df910abb9219cd00cf5f0a5\",\n",
    "            500: \"5df90e07b9219cd00ce971e7\",\n",
    "            1000: \"5df90137b9219cd00cb774ec\",\n",
    "            2500: \"5df90761b9219cd00ccff258\",\n",
    "            5000: \"5df90871b9219cd00ccff273\",\n",
    "            10000: \"5d27b986b9219c3c55ad37d0\"\n",
    "            }\n",
    "eq_hazard_id = eq_hazard_dict[recurrence_interval]\n",
    "ts_hazard_id = ts_hazard_dict[recurrence_interval]"
   ]
  },
  {
   "cell_type": "markdown",
   "id": "a9fa7ee3-3830-40a0-aa34-e57e3b790694",
   "metadata": {},
   "source": [
    "#### Earthquake Damage"
   ]
  },
  {
   "cell_type": "code",
   "execution_count": null,
   "id": "bdf14d36-47e9-4a73-9748-f6cd6a4c5372",
   "metadata": {},
   "outputs": [],
   "source": [
    "bldg_dmg = BuildingDamage(client)   \n",
    "\n",
    "# defining building dataset (GIS point layer)\n",
    "bldg_dmg.set_input_dataset(\"buildings\", bldg_dataset)\n",
    "\n",
    "# setup fragility mappings\n",
    "mapping_id = \"5d2789dbb9219c3c553c7977\"\n",
    "eq_mapping_set = MappingSet(fragility_service.get_mapping(mapping_id))\n",
    "bldg_dmg.set_input_dataset('dfr3_mapping_set', eq_mapping_set)\n",
    "\n",
    "# set parameters\n",
    "result_name = os.path.join(output_path, 'Bldg-EQ-{}yr' .format(recurrence_interval))\n",
    "bldg_dmg.set_parameter(\"hazard_type\", \"earthquake\")\n",
    "bldg_dmg.set_parameter(\"num_cpu\", 4)\n",
    "bldg_dmg.set_parameter(\"hazard_id\", eq_hazard_id)\n",
    "bldg_dmg.set_parameter(\"result_name\", result_name)\n",
    "\n",
    "# run analysis\n",
    "bldg_dmg.run_analysis()\n",
    "print(\"earthquake building damage done.\")"
   ]
  },
  {
   "cell_type": "markdown",
   "id": "44a4a1e2-cb20-4da1-bc89-d2d35710bdd0",
   "metadata": {},
   "source": [
    "#### Tsunami Damage"
   ]
  },
  {
   "cell_type": "code",
   "execution_count": null,
   "id": "5cd7f5f4-f0f4-4f0c-8b33-de899e33eed1",
   "metadata": {},
   "outputs": [],
   "source": [
    "bldg_dmg = BuildingDamage(client)   \n",
    "\n",
    "# defining building dataset (GIS point layer)\n",
    "bldg_dmg.set_input_dataset(\"buildings\", bldg_dataset)\n",
    "\n",
    "# setup fragility mappings\n",
    "mapping_id = \"5d279bb9b9219c3c553c7fba\"\n",
    "ts_mapping_set = MappingSet(fragility_service.get_mapping(mapping_id))\n",
    "bldg_dmg.set_input_dataset('dfr3_mapping_set', ts_mapping_set)\n",
    "\n",
    "# set parameters\n",
    "result_name = os.path.join(output_path, 'Bldg-TS-{}yr' .format(recurrence_interval))\n",
    "bldg_dmg.set_parameter(\"hazard_type\", \"tsunami\")\n",
    "bldg_dmg.set_parameter(\"num_cpu\", 4)\n",
    "bldg_dmg.set_parameter(\"hazard_id\", ts_hazard_id)\n",
    "bldg_dmg.set_parameter(\"result_name\", result_name)\n",
    "\n",
    "# run analysis\n",
    "bldg_dmg.run_analysis()\n",
    "print(\"tsunami building damage done.\")"
   ]
  },
  {
   "cell_type": "markdown",
   "id": "5dd7847f-16fd-42f4-b9bf-2f8dbb3d8ed6",
   "metadata": {},
   "source": [
    "#### Cumulative Damage"
   ]
  },
  {
   "cell_type": "code",
   "execution_count": null,
   "id": "949d824d-24e9-4b68-bdfd-ee8b329c0996",
   "metadata": {},
   "outputs": [],
   "source": [
    "# initializing pyIncore cumulative building damage\n",
    "cumulative_bldg_dmg = CumulativeBuildingDamage(client)\n",
    "cumulative_bldg_dmg.set_parameter(\"num_cpu\", 4)\n",
    "\n",
    "# reading in damage results from above analysis\n",
    "eq_damage_results_csv = os.path.join(output_path, 'Bldg-EQ-{}yr.csv' .format(recurrence_interval))\n",
    "ts_damage_results_csv = os.path.join(output_path, 'Bldg-TS-{}yr.csv' .format(recurrence_interval))\n",
    "\n",
    "# loading datasets from CSV files into pyincore\n",
    "eq_damage_dataset = Dataset.from_file(eq_damage_results_csv, \"ergo:buildingDamageVer5\")\n",
    "tsu_damage_dataset = Dataset.from_file(ts_damage_results_csv, \"ergo:buildingDamageVer5\")\n",
    "\n",
    "cumulative_bldg_dmg.set_input_dataset(\"eq_bldg_dmg\", eq_damage_dataset)\n",
    "cumulative_bldg_dmg.set_input_dataset(\"tsunami_bldg_dmg\", tsu_damage_dataset)\n",
    "\n",
    "# defining path to output \n",
    "result_name = os.path.join(output_path, 'Bldg-CM-{}yr' .format(recurrence_interval))\n",
    "cumulative_bldg_dmg.set_parameter(\"result_name\", result_name)\n",
    "\n",
    "# running analysis\n",
    "cumulative_bldg_dmg.run_analysis()\n",
    "print(\"cumulative building damage done.\")"
   ]
  },
  {
   "cell_type": "markdown",
   "id": "3e24e5d6-2eea-4f7b-8c61-0e887d5f3016",
   "metadata": {},
   "source": [
    "#### Visualize Building Damage Results"
   ]
  },
  {
   "cell_type": "code",
   "execution_count": null,
   "id": "59b7dfe7-9e6d-496d-9e3c-e2433d7e3115",
   "metadata": {},
   "outputs": [],
   "source": [
    "# cumulative_bldg_dmg\n",
    "ds_result = cumulative_bldg_dmg.get_output_dataset(\"combined-result\").get_dataframe_from_csv()\n",
    "ds_result.set_index(\"guid\", inplace=True)\n",
    "gdf = pd.merge(gdf, ds_result, left_index=True, right_index=True)\n",
    "gdf['E_DS'] = gdf['DS_0']*0 + gdf['DS_1']*1 + gdf['DS_2']*2 + gdf['DS_3']*3"
   ]
  },
  {
   "cell_type": "code",
   "execution_count": null,
   "id": "57c69025-f2a8-4bdc-86b7-4766daf6a28d",
   "metadata": {},
   "outputs": [],
   "source": [
    "gdf.explore(\n",
    "        column=\"E_DS\", # column for archetype info\n",
    "        tooltip=[\"E_DS\", \"DS_0\", \"DS_1\", \"DS_2\", \"DS_3\"],\n",
    "        vmin=0,\n",
    "        vmax=3,\n",
    "        popup=True,  \n",
    "        cmap=\"RdYlGn_r\",  # use \"Set1\" matplotlib colormap),\n",
    "        tiles=\"CartoDB positron\"\n",
    ")"
   ]
  },
  {
   "cell_type": "markdown",
   "id": "713f0f04-1a3d-43d6-9c60-7c3db5e7c77d",
   "metadata": {},
   "source": [
    "## <center> Economic Losses </center>\n",
    "Direct economic losses can be computed in IN-CORE by chaining the output from the building damage analysis to the mean damage and economic loss anlayses. The methods for computing economic losses are from [Bai et al. (2009)](https://doi.org/10.1061/(ASCE)0733-9445(2009)135:10(1155)). An example of using IN-CORE to compute economic losses in Seaside is available in Figure 9 of [this paper](https://doi.org/10.1016/j.ijdrr.2023.103755). The mean damage is first computed by multiplying the probability of being in each damage state with damage ratios and taking the sum. The economic losses are then computed by multiplying the mean damage by each building's value.\n",
    "\n",
    "This can be done in IN-CORE by chaining output from the building damage anlaysis to the following analyses:\n",
    "+ [Mean damage](https://incore.ncsa.illinois.edu/doc/incore/analyses/mean_dmg.html)\n",
    "+ [Building Economic Loss](https://incore.ncsa.illinois.edu/doc/incore/analyses/building_loss.html)\n",
    "\n",
    "Remember that outputs from one analysis can be obtained and chained to another using the following piece of code: \\\n",
    "```bldg_dmg.get_output_dataset(\"ds_result\")```\n",
    "\n",
    "*Note that as of now, the cumulative building damage output cannot be directly chained to the mean damage and economic loss analysis in IN-CORE. "
   ]
  },
  {
   "cell_type": "markdown",
   "id": "57315e09-aeb0-4414-8a9f-c3e25295c61b",
   "metadata": {},
   "source": [
    "#### Mean Damage\n",
    "The mean damage analysis needs a damage ratio id. The following can be used: ```5a284f2ec7d30d13bc08209a```. This can be viewed on the [IN-CORE data-viewer](https://incore.ncsa.illinois.edu/DataViewer)"
   ]
  },
  {
   "cell_type": "code",
   "execution_count": null,
   "id": "7a5f365a-28cb-4841-955c-3eeefdce255b",
   "metadata": {},
   "outputs": [],
   "source": [
    "from pyincore.analyses.meandamage import MeanDamage\n"
   ]
  },
  {
   "cell_type": "markdown",
   "id": "8a40059c-df00-440c-b079-32c0c27a600e",
   "metadata": {},
   "source": [
    "#### Economic Losses"
   ]
  },
  {
   "cell_type": "code",
   "execution_count": null,
   "id": "1d979b97-8159-45e8-b80f-eb293caa2bb5",
   "metadata": {},
   "outputs": [],
   "source": [
    "from pyincore.analyses.buildingeconloss import BuildingEconLoss\n"
   ]
  }
 ],
 "metadata": {
  "kernelspec": {
   "display_name": "Python 3 (ipykernel)",
   "language": "python",
   "name": "python3"
  },
  "language_info": {
   "codemirror_mode": {
    "name": "ipython",
    "version": 3
   },
   "file_extension": ".py",
   "mimetype": "text/x-python",
   "name": "python",
   "nbconvert_exporter": "python",
   "pygments_lexer": "ipython3",
   "version": "3.9.16"
  }
 },
 "nbformat": 4,
 "nbformat_minor": 5
}
