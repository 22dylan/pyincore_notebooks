{
 "cells": [
  {
   "cell_type": "code",
   "execution_count": null,
   "metadata": {},
   "outputs": [],
   "source": [
    "from pyincore import IncoreClient\n",
    "from pyincore.analyses.capitalshocks import CapitalShocks\n",
    "from pyincore.analyses.seasidecge import SeasideCGEModel"
   ]
  },
  {
   "cell_type": "code",
   "execution_count": null,
   "metadata": {},
   "outputs": [],
   "source": [
    "from pyincore import Dataset, FragilityService, MappingSet, DataService\n",
    "from pyincore.analyses.buildingdamage import BuildingDamage\n",
    "from pyincore.analyses.montecarlofailureprobability import MonteCarloFailureProbability\n",
    "\n",
    "import pandas as pd\n"
   ]
  },
  {
   "cell_type": "code",
   "execution_count": null,
   "metadata": {},
   "outputs": [],
   "source": [
    "client = IncoreClient()\n",
    "data_service = DataService(client)"
   ]
  },
  {
   "cell_type": "markdown",
   "metadata": {},
   "source": [
    "First step: run capital shocks analysis: It needs the building to sector mapping table.\n",
    "Capital stock shocks for an individual building is equal to the functionality probability multiplied by value of the building.\n",
    "\n",
    "Modeling residential properties is straightforward because we have the addresses for each property and can group homes into different valuations and occupancy structures (i.e. HS1 ≤ $100,000, HS2 > $100,000, HS3 – rentals)."
   ]
  },
  {
   "cell_type": "code",
   "execution_count": null,
   "metadata": {},
   "outputs": [],
   "source": [
    "# Earthquake MCS Analysis: \n",
    "    \n",
    "hazard_type = \"earthquake\"\n",
    "rt = [1000]\n",
    "rt_hazard_dict = {1000: \"5dfa3e36b9219c934b64c231\"}"
   ]
  },
  {
   "cell_type": "code",
   "execution_count": null,
   "metadata": {},
   "outputs": [],
   "source": [
    "# Reading the updated building inventory: It contains the strctid\n",
    "# Temporary Seaside, OR Building Inventory v6\n",
    "building_inv = Dataset.from_file(\"IN-CORE_Seaside_BuildingInventory_2021-03-19.shp\", data_type='ergo:buildingInventoryVer6')\n",
    "\n",
    "bldg_dataset_id = \"613ba5ef5d3b1d6461e8c415\"        # defining building dataset (GIS point layer)\n",
    "building_inv = Dataset.from_data_service(bldg_dataset_id, data_service)\n"
   ]
  },
  {
   "cell_type": "code",
   "execution_count": null,
   "metadata": {},
   "outputs": [],
   "source": [
    "# Calculate the building damage due to earthquake:\n",
    "from pyincore.analyses.buildingdamage import BuildingDamage\n",
    "\n",
    "bldg_eq_dmg_result_list = []  # place holder to saving earthquake building damage result iteration\n",
    "#bldg_dataset_id = \"5df40388b9219c06cf8b0c80\"        # defining building dataset (GIS point layer);\n",
    "mapping_id = \"5d2789dbb9219c3c553c7977\"             # specifiying mapping id from fragilites to building types\n",
    "fragility_service = FragilityService(client)        # loading fragility mapping\n",
    "mapping_set = MappingSet(fragility_service.get_mapping(mapping_id))\n",
    "\n",
    "for rt_val in rt:                                       # loop through recurrence interval\n",
    "    bldg_dmg = BuildingDamage(client)                   # initializing pyincore\n",
    "    #bldg_dmg.load_remote_input_dataset(\"buildings\", bldg_dataset_id) # loading in the above id\n",
    "    bldg_dmg.set_input_dataset(\"buildings\", building_inv)    # loading the shapefile directly! \n",
    "    mapping_set = MappingSet(fragility_service.get_mapping(mapping_id))\n",
    "    bldg_dmg.set_input_dataset(\"dfr3_mapping_set\", mapping_set)\n",
    "\n",
    "    result_name = 'buildings_eq_' + str(rt_val) + 'yr_dmg_result' # defining output name\n",
    "\n",
    "    bldg_dmg.set_parameter(\"hazard_type\", hazard_type)  # defining hazard type (e.g. earthquake vs. tsunami)\n",
    "    hazard_id = rt_hazard_dict[rt_val]                  # specifying hazard id for specific recurrence interval\n",
    "    bldg_dmg.set_parameter(\"hazard_id\", hazard_id)      # loading above into pyincore\n",
    "    bldg_dmg.set_parameter(\"fragility_key\", \"Non-Retrofit Fragility ID Code\")\n",
    "    bldg_dmg.set_parameter(\"num_cpu\", 6)                # number of CPUs to use for parallel processing\n",
    "    bldg_dmg.set_parameter(\"result_name\", result_name)  # specifying output name in pyincore\n",
    "\n",
    "    bldg_dmg.run_analysis()                             # running the analysis with the above parameters: it gives you \n",
    "    bldg_eq_dmg_result_list.append(bldg_dmg.get_output_dataset('ds_result'))"
   ]
  },
  {
   "cell_type": "code",
   "execution_count": null,
   "metadata": {},
   "outputs": [],
   "source": [
    "#Monte Carlo Building Failure\n",
    "\n",
    "mc_bldg_eq_dmg_result_list = []        # place holder to saving mc earthquake building damage result iteration\n",
    "mc = MonteCarloFailureProbability(client)     # initializing pyincore\n",
    "\n",
    "for index, rt_val in enumerate(rt):\n",
    "    print('Recurrence Interval: {}' .format(rt_val))\n",
    "    # --- earthquake MC failure ---\n",
    "    result_name = 'mc_buildings_eq_' + str(rt_val) + 'yr'\n",
    "\n",
    "    # running mc sampling in pyincore\n",
    "    damage_dataset = bldg_eq_dmg_result_list[index]\n",
    "    mc.set_input_dataset(\"damage\", damage_dataset)           # importing csv to pyincore\n",
    "    mc.set_parameter(\"result_name\", result_name)             # defining result_name\n",
    "    mc.set_parameter(\"num_cpu\", 1)                           # number of CPUs for parallel processing\n",
    "    mc.set_parameter(\"num_samples\", 1000)                     # number of MC samples\n",
    "    mc.set_parameter(\"damage_interval_keys\", [\"DS_0\", \"DS_1\", \"DS_2\", \"DS_3\"])  # damage interval keys\n",
    "    mc.set_parameter(\"failure_state_keys\", [\"DS_1\", \"DS_2\", \"DS_3\"])   # damage keys classified as \"failure\"\n",
    "    # water and power effects!\n",
    "    mc.run_analysis()                                        # running MC analysis\n",
    "    mc_bldg_eq_dmg_result_list.append(mc.get_output_dataset('failure_probability'))\n",
    "\n",
    "\n"
   ]
  },
  {
   "cell_type": "code",
   "execution_count": null,
   "metadata": {},
   "outputs": [],
   "source": [
    "mc_bldg_eq_dmg_result_list"
   ]
  },
  {
   "cell_type": "code",
   "execution_count": null,
   "metadata": {},
   "outputs": [],
   "source": [
    "building_failure_probability = mc.get_output_dataset('failure_probability')  # get buildings failure probabilities\n",
    "\n",
    "df_bldg_fail = building_failure_probability.get_dataframe_from_csv()\n",
    "df_bldg_fail.head()"
   ]
  },
  {
   "cell_type": "code",
   "execution_count": null,
   "metadata": {},
   "outputs": [],
   "source": []
  },
  {
   "cell_type": "code",
   "execution_count": null,
   "metadata": {},
   "outputs": [],
   "source": [
    "# Capital Shock Analysis\n",
    "# shock is defined as of percentage reductions in the capital stock of the associated sectors.  \n",
    "capital_shocks = CapitalShocks(client)\n",
    "\n",
    "# Specify the result name\n",
    "result_name = \"Seaside capital losses\"\n",
    "\n",
    "# Set analysis parameters\n",
    "capital_shocks.set_parameter(\"result_name\", result_name)\n",
    "\n",
    "\n",
    "# Load input datasets\n",
    "# Seaside building to sector mapping table\n",
    "building_to_sectors_id = \"5f5fd8e2980a301080a03996\"\n",
    "\n",
    "\n",
    "# Load remote datasets\n",
    "capital_shocks.load_remote_input_dataset(\"buildings_to_sectors\", building_to_sectors_id)\n",
    "\n",
    "# Set datasets\n",
    "# Seaside building inventory\n",
    "capital_shocks.set_input_dataset(\"buildings\", building_inv)  # loading the shapefile directly! \n",
    "\n"
   ]
  },
  {
   "cell_type": "code",
   "execution_count": null,
   "metadata": {},
   "outputs": [],
   "source": [
    "# Seaside building failure probability\n",
    "capital_shocks.set_input_dataset(\"failure_probability\", building_failure_probability)\n",
    "capital_shocks.run_analysis()\n"
   ]
  },
  {
   "cell_type": "code",
   "execution_count": null,
   "metadata": {},
   "outputs": [],
   "source": [
    "sector_shocks_result = capital_shocks.get_output_dataset(\"sector_shocks\")\n",
    "df = sector_shocks_result.get_dataframe_from_csv()\n",
    "df"
   ]
  },
  {
   "cell_type": "code",
   "execution_count": null,
   "metadata": {},
   "outputs": [],
   "source": [
    "# CGE model: \n",
    "\n",
    "# SAM\n",
    "# Social accounting matrix (SAM) contains data for firms, households and government which are organized \n",
    "# in a way to represent the interactions of all three entities in a typical economy\n",
    "## each cell shows payment from its column account to its row account\n",
    "SAM = \"5f17393633b2700c11feab38\"\n",
    "\n",
    "# CAPITAL COMP\n",
    "# BB is a matrix which describes how investment in physical infrastructure is transformed into functioning capital such as commercial and residential buildings. \n",
    "# These data are collected from the Bureau of Economic Analysis (BEA).\n",
    "BB = \"603d23d634f29a7fa41c4c4e\"\n",
    "\n",
    "# MISC TABLES\n",
    "EMPLOY = \"5f173c97c98cf43417c8955d\" # Table name containing data for commercial sector employment.\n",
    "JOBCR = \"5f173d262fab4d660a8e9f9c\" # This is a matrix describing the supply of workers coming from each household group in the economy.\n",
    "HHTABLE = \"5f173d6bc98cf43417c89561\" # HH Table?\n",
    "SIMS = \"5f174211c98cf43417c89565\" # Random numbers for the change of capital stocks in the CGE model.\n",
    "\n",
    "# The reference to this object id is no longer needed as we create the sector shocks object above\n",
    "#sector_shocks = \"5f5fdbc1b7745919a9e2482d\" # This is the aggregation of building functionality states to capital shocks per sector; 100yr earthquake damage"
   ]
  },
  {
   "cell_type": "code",
   "execution_count": null,
   "metadata": {},
   "outputs": [],
   "source": [
    "# Create Seaside CGE Model\n",
    "seaside_cge = SeasideCGEModel(client)"
   ]
  },
  {
   "cell_type": "code",
   "execution_count": null,
   "metadata": {},
   "outputs": [],
   "source": [
    "# Set analysis input datasets\n",
    "seaside_cge.load_remote_input_dataset(\"SAM\", SAM)\n",
    "seaside_cge.load_remote_input_dataset(\"BB\", BB)\n",
    "seaside_cge.load_remote_input_dataset(\"EMPLOY\", EMPLOY)\n",
    "seaside_cge.load_remote_input_dataset(\"JOBCR\", JOBCR)\n",
    "seaside_cge.load_remote_input_dataset(\"HHTABLE\", HHTABLE)\n",
    "seaside_cge.load_remote_input_dataset(\"SIMS\", SIMS)\n",
    "#seaside_cge.load_remote_input_dataset(\"sector_shocks\", sector_shocks)\n",
    "\n",
    "# Set analysis input dataset from previous Capital stock shock analysis\n",
    "seaside_cge.set_input_dataset(\"sector_shocks\", sector_shocks_result)"
   ]
  },
  {
   "cell_type": "code",
   "execution_count": null,
   "metadata": {},
   "outputs": [],
   "source": []
  },
  {
   "cell_type": "markdown",
   "metadata": {},
   "source": [
    "Troubleshooting Solver Path Issues (only if encountered)\n",
    "If your code can't run and gives you error, \"Invalid executable path, please make sure you have Pyomo installed.\", Then, you don't have \"ipopt\" properly installed.\n",
    "\n",
    "The solver_path variable points to the absolute path for where the ipopt solver is installed. To know the absolute path of the ipopt solver in your local machine, open a terminal window, activate your pyIncore environment, and run the following command according to your OS:\n",
    "\n",
    "on Mac: open a terminal window, activate your conda environment and type \"which ipopt\". Paste the resulting path below.\n",
    "on Windows: open a command terminal, activate your conda environment and type \"where ipopt\". Paste the resulting path below."
   ]
  },
  {
   "cell_type": "code",
   "execution_count": null,
   "metadata": {},
   "outputs": [],
   "source": [
    "# Set analysis parameters (optional)\n",
    "#seaside_cge.set_parameter(\"solver_path\", \"ipopt\")\n",
    "#seaside_cge.set_parameter(\"print_solver_output\", False)"
   ]
  },
  {
   "cell_type": "code",
   "execution_count": null,
   "metadata": {},
   "outputs": [],
   "source": [
    "# Run Seaside CGE model analysis\n",
    "seaside_cge.run_analysis()"
   ]
  },
  {
   "cell_type": "code",
   "execution_count": null,
   "metadata": {},
   "outputs": [],
   "source": [
    "# A dataset containing Seaside cge simulations (format: CSV).\n",
    "# dsc+dsr = domestic supply\n",
    "domestic_supply = seaside_cge.get_output_dataset('Seaside_Sims')\n",
    "df_fp = domestic_supply.get_dataframe_from_csv()\n",
    "df_fp\n"
   ]
  },
  {
   "cell_type": "code",
   "execution_count": null,
   "metadata": {},
   "outputs": [],
   "source": [
    "# A dataset of changes in employment and supply. (format: CSV).\n",
    "# Employment (unit = person)\n",
    "gross_income = seaside_cge.get_output_dataset('Seaside_output')\n",
    "df_fpp = gross_income.get_dataframe_from_csv()\n",
    "df_fpp"
   ]
  },
  {
   "cell_type": "code",
   "execution_count": null,
   "metadata": {},
   "outputs": [],
   "source": []
  },
  {
   "cell_type": "code",
   "execution_count": null,
   "metadata": {},
   "outputs": [],
   "source": []
  },
  {
   "cell_type": "code",
   "execution_count": null,
   "metadata": {},
   "outputs": [],
   "source": []
  }
 ],
 "metadata": {
  "kernelspec": {
   "display_name": "Python 3",
   "language": "python",
   "name": "python3"
  },
  "language_info": {
   "codemirror_mode": {
    "name": "ipython",
    "version": 3
   },
   "file_extension": ".py",
   "mimetype": "text/x-python",
   "name": "python",
   "nbconvert_exporter": "python",
   "pygments_lexer": "ipython3",
   "version": "3.7.10"
  }
 },
 "nbformat": 4,
 "nbformat_minor": 4
}
