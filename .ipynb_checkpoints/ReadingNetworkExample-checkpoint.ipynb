{
 "cells": [
  {
   "cell_type": "markdown",
   "id": "9cc2a122",
   "metadata": {},
   "source": [
    "### Example reading in pyIncore dataset as networkx graph"
   ]
  },
  {
   "attachments": {},
   "cell_type": "markdown",
   "id": "8bcae9dc",
   "metadata": {},
   "source": [
    "| Infrastructure System | Infrastructure Component | GUID |\n",
    "| --- | --- | --- |\n",
    "| Buildings | - | 5df40388b9219c06cf8b0c80 | \n",
    "| Electric | Electric Poles | 5d263f08b9219cf93c056c68 | \n",
    "| - | Electric Lines | 60e5e326544e944c3ce37a93 | \n",
    "| - | Buildings to Electric | 60e5e40c544e944c3ce37ae3 |\n",
    "| Transportation | Roads | 60e5e5cd544e944c3ce37d08 | \n",
    "| - | Bridges | 60e5e576d3c92a78c893ff69 | \n",
    "| - | Buildings to Transportation | 60e5e75c544e944c3ce380cf |\n",
    "| Water | Water Pumping Stations | 60e5e91960b3f41243faa3b2 | \n",
    "| - | Water Treatment Plant | 60e5e91960b3f41243faa3b2 |\n",
    "| - | Water Pipes | 60e5f62660b3f41243fad244 | \n",
    "| - | Buildings to Water | 60e5e7dbd3c92a78c8940505 |\n"
   ]
  },
  {
   "cell_type": "code",
   "execution_count": null,
   "id": "2a6ac04b",
   "metadata": {
    "scrolled": false
   },
   "outputs": [],
   "source": [
    "from pyincore import IncoreClient, Dataset, DataService, HazardService, FragilityService\n",
    "import networkx as nx\n",
    "\n",
    "client = IncoreClient()\n",
    "data_service = DataService(client)\n"
   ]
  },
  {
   "cell_type": "code",
   "execution_count": null,
   "id": "ed8f543a",
   "metadata": {},
   "outputs": [],
   "source": [
    "def read_pyincore_nx(client, ds_id):\n",
    "    \"\"\" reading pyincore dataset and loading into networkx graph \n",
    "    \"\"\"\n",
    "    ds = Dataset.from_data_service(ds_id, data_service)\n",
    "    df = ds.get_dataframe_from_shapefile()\n",
    "    df = df.set_crs(epsg=4326)  # setting dataframe crs\n",
    "    df = df.to_crs(26910)       # converting such that crs units is in meters, not lat/long\n",
    "\n",
    "    temp = df.geometry.length\n",
    "    temp = temp/.3048               # converting meters to feet \n",
    "    df['Length_miles'] = temp/5280  # converting feet to miles\n",
    "    G_nx = nx.from_pandas_edgelist(df=df, \n",
    "                                    source='fnode_guid', \n",
    "                                    target='tnode_guid', \n",
    "                                    edge_key = 'guid',\n",
    "                                    edge_attr=['guid', 'Length_miles'], \n",
    "                                    )\n",
    "    G_nx = G_nx.to_undirected()\n",
    "    return G_nx\n",
    "\n",
    "def read_pyincore_df(client, ds_id, index=None):\n",
    "    \"\"\" reading pyincore dataset and loading into either a dataframe\n",
    "    \"\"\"\n",
    "    ds = Dataset.from_data_service(ds_id, data_service)\n",
    "    df = ds.get_dataframe_from_csv()\n",
    "    if index != None:\n",
    "        df = df.set_index(index)\n",
    "    return df"
   ]
  },
  {
   "cell_type": "code",
   "execution_count": null,
   "id": "a378de2c",
   "metadata": {},
   "outputs": [],
   "source": [
    "elec_ntwk_id = '60e5e326544e944c3ce37a93'\n",
    "trns_ntwk_id = '60e5e5cd544e944c3ce37d08'\n",
    "wter_ntwk_id = '60e5f62660b3f41243fad244'\n",
    "\n",
    "G_elec = read_pyincore_nx(client, elec_ntwk_id)\n",
    "G_trns = read_pyincore_nx(client, trns_ntwk_id)\n",
    "# G_wter = read_pyincore_nx(client, wter_ntwk_id)\n",
    "\n",
    "print(nx.info(G_trns))"
   ]
  },
  {
   "cell_type": "code",
   "execution_count": null,
   "id": "477467e9",
   "metadata": {},
   "outputs": [],
   "source": [
    "bldg2elec_id = '60e5e40c544e944c3ce37ae3'\n",
    "bldg2trns_id = '60e5e75c544e944c3ce380cf'\n",
    "bldg2wter_id = '60e5e7dbd3c92a78c8940505'\n",
    "\n",
    "bldg2elec_df = read_pyincore_df(client, bldg2elec_id, index='bldg_guid')\n",
    "bldg2trns_df = read_pyincore_df(client, bldg2trns_id, index='bldg_guid')\n",
    "# bldg2wter_df = read_pyincore_df(client, bldg2wter_id, index='bldg_guid')\n",
    "\n",
    "bldg2trns_df.head()"
   ]
  },
  {
   "cell_type": "code",
   "execution_count": null,
   "id": "ca061f57",
   "metadata": {},
   "outputs": [],
   "source": []
  }
 ],
 "metadata": {
  "kernelspec": {
   "display_name": "Python 3",
   "language": "python",
   "name": "python3"
  },
  "language_info": {
   "codemirror_mode": {
    "name": "ipython",
    "version": 3
   },
   "file_extension": ".py",
   "mimetype": "text/x-python",
   "name": "python",
   "nbconvert_exporter": "python",
   "pygments_lexer": "ipython3",
   "version": "3.7.10"
  }
 },
 "nbformat": 4,
 "nbformat_minor": 5
}
