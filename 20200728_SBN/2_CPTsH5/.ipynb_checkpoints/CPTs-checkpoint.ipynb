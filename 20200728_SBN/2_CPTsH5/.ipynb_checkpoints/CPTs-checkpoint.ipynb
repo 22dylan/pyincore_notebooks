{
 "cells": [
  {
   "cell_type": "markdown",
   "metadata": {},
   "source": [
    "## Jupyter Notebook to populate CPTs \n",
    "\n",
    "<span style=\"color:red\"> __To run only the Spatial Bayesian Network, see the notebook in directory /3_SBN/__    \n",
    "\n",
    "\n",
    "This notebook populates the CPTs using the results from the pyIncore damage analysis. To run this code, all of the data from the first notebook must be available. \n",
    "\n",
    "A backend is provided that do the brunt of the work. "
   ]
  },
  {
   "cell_type": "code",
   "execution_count": null,
   "metadata": {},
   "outputs": [],
   "source": [
    "from backend.CPTsH5 import build_CPTs\n",
    "import os"
   ]
  },
  {
   "cell_type": "markdown",
   "metadata": {},
   "source": [
    "### Building Damage\n",
    "The following code uses the two pyIncore modules below to determine damage state probabilities for buildings in Seaside. The damage state probabilities are used to inform MCS, and repair time estimates.\n",
    "\n",
    "+ pyincore.analyses.buildingdamage\n",
    "+ pyincore.analyses.cumulativebuildingdamage"
   ]
  },
  {
   "cell_type": "code",
   "execution_count": null,
   "metadata": {},
   "outputs": [],
   "source": [
    "dmg_path = os.path.join(os.getcwd(), \n",
    "                               '..', \n",
    "                               'data',\n",
    "                               'pyincore_damage')\n",
    "tax_lot_path = os.path.join(os.getcwd(), \n",
    "                               '..', \n",
    "                               'data',\n",
    "                               'parcels')\n",
    "h5path = os.path.join(os.getcwd(),\n",
    "                                '..',\n",
    "                                'data',\n",
    "                                'hdf5_files')\n",
    "bld_cpt = build_CPTs(dmg_path, \n",
    "                     tax_lot_path, \n",
    "                     n_samples=1000,\n",
    "                     h5path=h5path,\n",
    "                     hzrd_key='cumulative')\n",
    "\n",
    "\n",
    "\"\"\" 41 nodes to each BN \"\"\" \n",
    "\n",
    "# --- decision nodes (10)\n",
    "bld_cpt.event_cpt()\n",
    "bld_cpt.goal_cpt()\n",
    "\n",
    "bld_cpt.ex_ante_building_cpt()\n",
    "bld_cpt.ex_ante_electric_cpt()\n",
    "bld_cpt.ex_ante_transportation_cpt()\n",
    "bld_cpt.ex_ante_water_cpt()\n",
    "\n",
    "bld_cpt.ex_post_building_cpt()\n",
    "bld_cpt.ex_post_electric_cpt()\n",
    "bld_cpt.ex_post_transportation_cpt()\n",
    "bld_cpt.ex_post_water_cpt()\n",
    "\n",
    "# --- CPTs (31)\n",
    "bld_cpt.functionality_building_cpt()\n",
    "bld_cpt.functionality_electric_cpt()\n",
    "bld_cpt.functionality_transportation_cpt()\n",
    "bld_cpt.functionality_water_cpt()\n",
    "\n",
    "bld_cpt.reptime_building_cpt()\n",
    "bld_cpt.reptime_electric_cpt()\n",
    "bld_cpt.reptime_transportation_cpt()\n",
    "bld_cpt.reptime_water_cpt()\n",
    "\n",
    "bld_cpt.robustness_building_cpt()\n",
    "bld_cpt.robustness_electric_cpt()\n",
    "bld_cpt.robustness_transportation_cpt()\n",
    "bld_cpt.robustness_water_cpt()\n",
    "\n",
    "bld_cpt.rapidity_building_cpt()\n",
    "bld_cpt.rapidity_electric_cpt()\n",
    "bld_cpt.rapidity_transportation_cpt()\n",
    "bld_cpt.rapidity_water_cpt()\n",
    "\n",
    "bld_cpt.functionality_target_bldg_cpt()\n",
    "bld_cpt.functionality_target_elec_cpt()\n",
    "bld_cpt.functionality_target_trns_cpt()\n",
    "bld_cpt.functionality_target_wter_cpt()\n",
    "\n",
    "bld_cpt.reptime_target_bldg_cpt()\n",
    "bld_cpt.reptime_target_elec_cpt()\n",
    "bld_cpt.reptime_target_trns_cpt()\n",
    "bld_cpt.reptime_target_wter_cpt()\n",
    "\n",
    "bld_cpt.resilience_bldg_cpt()\n",
    "bld_cpt.resilience_elec_cpt()\n",
    "bld_cpt.resilience_trns_cpt()\n",
    "bld_cpt.resilience_wter_cpt()\n",
    "\n",
    "bld_cpt.robust_cpt()\n",
    "bld_cpt.rapid_cpt()\n",
    "bld_cpt.resilience_cpt()"
   ]
  },
  {
   "cell_type": "code",
   "execution_count": null,
   "metadata": {},
   "outputs": [],
   "source": []
  }
 ],
 "metadata": {
  "kernelspec": {
   "display_name": "Python 3",
   "language": "python",
   "name": "python3"
  },
  "language_info": {
   "codemirror_mode": {
    "name": "ipython",
    "version": 3
   },
   "file_extension": ".py",
   "mimetype": "text/x-python",
   "name": "python",
   "nbconvert_exporter": "python",
   "pygments_lexer": "ipython3",
   "version": "3.7.7"
  }
 },
 "nbformat": 4,
 "nbformat_minor": 4
}
