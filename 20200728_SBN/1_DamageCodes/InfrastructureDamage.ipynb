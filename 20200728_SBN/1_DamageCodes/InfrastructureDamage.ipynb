{
 "cells": [
  {
   "cell_type": "markdown",
   "metadata": {},
   "source": [
    "## Jupyter Notebook to perform damage analyses \n",
    "\n",
    "This notebook performs a damage analysis that will populate the CPTs that inform the SBN. Damages to buildings, electric, transportation, and water networks are computed using this notebook. Damage state probabilities are estimated using the available damage modules available in pyIncore. \n",
    "\n",
    "The resulting damage state probabilities are used to inform MCS, repair time estimates, and (where applicable) connectivity analyses. "
   ]
  },
  {
   "cell_type": "code",
   "execution_count": 1,
   "metadata": {},
   "outputs": [],
   "source": [
    "from damage_building import building_damage\n",
    "from damage_electric import electric_damage\n",
    "from damage_transportation import transportation_damage\n",
    "from damage_water import water_damage"
   ]
  },
  {
   "cell_type": "code",
   "execution_count": null,
   "metadata": {},
   "outputs": [],
   "source": []
  }
 ],
 "metadata": {
  "kernelspec": {
   "display_name": "Python 3",
   "language": "python",
   "name": "python3"
  },
  "language_info": {
   "codemirror_mode": {
    "name": "ipython",
    "version": 3
   },
   "file_extension": ".py",
   "mimetype": "text/x-python",
   "name": "python",
   "nbconvert_exporter": "python",
   "pygments_lexer": "ipython3",
   "version": "3.7.7"
  }
 },
 "nbformat": 4,
 "nbformat_minor": 4
}
