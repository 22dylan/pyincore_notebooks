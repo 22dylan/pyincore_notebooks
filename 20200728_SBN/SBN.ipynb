{
 "cells": [
  {
   "cell_type": "markdown",
   "metadata": {},
   "source": [
    "<h1><center>Spatial Bayesian Network</center></h1>\n",
    "\n",
    "This notebook demonstrates the use of a spatial Bayesian network (SBN) to evaluate parcel-level resilience. The SBN is applied to Seaside, Oregon and evaluates resilience against a cascading seismic-tsunami hazard. The process to develop the spatial Bayesian network is comprised of four steps:\n",
    "1. <ins>Damage infrastructure using pyIncore</ins> - Damage codes were developed to damage four infrastructure systems in Seaside (buildings, electric, transportation, and water). Where applicable, these damage codes used pyIncore.\n",
    "2. <ins>Develop operability curves and populate conditional probability tables (CPTs)</ins> - The results from the damage analysis were used to generate operability curves. Statistics on the operability curves were extracted to populate the CPTs\n",
    "3. <ins>Generate the SBN</ins> - A Bayesian network was constructed at each parcel using the resulting CPTs.\n",
    "4. <ins>Generate parcel-level maps of resilience</ins> - The SBN can then be used as a decision support tool to evaluate parcel-level resilience.\n",
    "\n",
    "This entire process is outlined in the figure below. This notebook, however, demonstrates the final two steps highlighted in red. That is, a spatial Bayesian network is constructed and it is used to generate maps of resilience. \n",
    "\n",
    "![SBN Process](images/framework.png)<br>\n",
    "\n",
    "The codes used for the first two steps are located in the \"dev_code/\" directory and consist of the following python files:\n",
    "+ <ins>damage_building.py</ins> - damages building infrastructure and repair time analysis.\n",
    "+ <ins>damage_electric.py</ins> - damages electric infrastructure, connectivity analysis, repair time analysis.\n",
    "+ <ins>damage_transportation.py</ins> - damages transportation infrastructure, connectivity analysis, repair time analysis.\n",
    "+ <ins>damage_water.py</ins> - damages water infrastructure, connectivity analysis, repair time analysis.\n",
    "+ <ins>CPTsH5.py</ins> - populates CPTs using results from the above\n",
    "\n",
    "This notebook is associated with the following journal paper:\n",
    "\n",
    "> Sanderson, D., Naraharisetty, G., and Cox, D. (in prep). Use of a spatial Bayesian network for evaluating parcel- and community-level resilience considering multiple hazards, infrastructure interdependencies, and resilience performance goals. To be submitted to *International Journal of Disaster Risk Reduction*\n",
    "\n",
    "\\*Notebook created by Dylan R. Sanderson (OSU - sanderdy@oregonstate.edu)<br>\n",
    "*Last modified August 9th, 2020*"
   ]
  },
  {
   "cell_type": "markdown",
   "metadata": {},
   "source": [
    "***\n",
    "### Single Bayesian Network Structure\n",
    "Each parel is assigned a Bayesian network with unique CPTs. The structure of a single parcel's Bayesian network is shown below. The top two layers correspond to community (blue) and parcel (green) level decisions. Functionality and repair time nodes are generated for each infrastructure system, and correspond to the operability curves. The functionality and repair time targets are used to specify a desired performance level. And the final layer is the parcel's Robustness, Rapidity, and Resilience.\n",
    "\n",
    "<!-- ![title](images/SBN.png)<br> -->\n",
    "<img src=\"images/SBN.png\" width=\"600\"/>"
   ]
  },
  {
   "cell_type": "markdown",
   "metadata": {},
   "source": [
    "***\n",
    "### Code Prerequisites\n",
    "\n",
    "The following python modules are necessary to run this notebook. Modules were installed through conda-forge on the author's computer under the following versions. \n",
    "\n",
    "| Module | Version | Notes |\n",
    "| --- | --- | --- |\n",
    "| pyIncore | 0.6.3 | see: https://incore.ncsa.illinois.edu/ |\n",
    "| pandas | 1.0.3 | used for data organization | \n",
    "| geopandas | 0.6.1 | used for working with geospatial data | \n",
    "| ipyleaflet | 0.13.0 | used for geospatial visualization |\n",
    "| ipywidgets | 7.5.1 | used for interacting with geospatial results |\n",
    "| branca | 0.3.1 | used in geospatial visualization | \n",
    "| h5py | 2.10.0 | used to interact with hdf5 file |\n",
    "| pomegranate | 0.11.1 | Bayesian network module |\n",
    "| numpy | 1.18.1 | working with matrices and arrays |  \n",
    "| map_creation_backend.py* | - | backend code used for geospatial visualization |\n",
    "| BN.py* | - | backend used to construct SBN | \n",
    "\n",
    "*backend code written by the author"
   ]
  },
  {
   "cell_type": "markdown",
   "metadata": {},
   "source": [
    "***\n",
    "### Run Instructions\n",
    "\n",
    "**To run this notebook:**\n",
    "1. Download the CPT h5 file at:. <br>\n",
    "> https://oregonstate.box.com/s/xzql2dhgzp7utqhcobgjyi9bitwnulq1.\n",
    "2. Ensure that the CPT h5 file is in the same directory as this notebook. <br>\n",
    "3. Modify/setup the input data. Two input files are required and examples are provided in this repository: <br>\n",
    "    i. Community-level decisions (cmty_input.csv) <br>\n",
    "    ii. Parcel-level decisions (prcl_input.csv) <br>\n",
    "4. Run each cell in this notebook. \n",
    "\n"
   ]
  },
  {
   "cell_type": "markdown",
   "metadata": {},
   "source": [
    "#### SBN Input Options\n",
    "The community- and parcel-level decisions are specified below. Community-level decisions are boxed in blue and correspond to the blue nodes in the Bayesian network. Parcel-level decisions are boxed in green and correspond to the green nodes in the Bayesian network. These are defined in the two input files. \n",
    "\n",
    "<img src=\"images/input_options.png\" width=\"500\"/>"
   ]
  },
  {
   "cell_type": "markdown",
   "metadata": {},
   "source": [
    "***\n",
    "## Running Code\n",
    "#### Importing required modules for this notebook"
   ]
  },
  {
   "cell_type": "code",
   "execution_count": 1,
   "metadata": {},
   "outputs": [
    {
     "ename": "ModuleNotFoundError",
     "evalue": "No module named 'h5py'",
     "output_type": "error",
     "traceback": [
      "\u001b[0;31m---------------------------------------------------------------------------\u001b[0m",
      "\u001b[0;31mModuleNotFoundError\u001b[0m                       Traceback (most recent call last)",
      "\u001b[0;32m<ipython-input-1-1f582299fc3d>\u001b[0m in \u001b[0;36m<module>\u001b[0;34m\u001b[0m\n\u001b[1;32m      1\u001b[0m \u001b[0;32mimport\u001b[0m \u001b[0mos\u001b[0m\u001b[0;34m\u001b[0m\u001b[0;34m\u001b[0m\u001b[0m\n\u001b[1;32m      2\u001b[0m \u001b[0;32mimport\u001b[0m \u001b[0mpandas\u001b[0m \u001b[0;32mas\u001b[0m \u001b[0mpd\u001b[0m\u001b[0;34m\u001b[0m\u001b[0;34m\u001b[0m\u001b[0m\n\u001b[0;32m----> 3\u001b[0;31m \u001b[0;32mimport\u001b[0m \u001b[0mh5py\u001b[0m\u001b[0;34m\u001b[0m\u001b[0;34m\u001b[0m\u001b[0m\n\u001b[0m\u001b[1;32m      4\u001b[0m \u001b[0;32mfrom\u001b[0m \u001b[0mpyincore\u001b[0m \u001b[0;32mimport\u001b[0m \u001b[0mIncoreClient\u001b[0m\u001b[0;34m,\u001b[0m \u001b[0mDataset\u001b[0m\u001b[0;34m\u001b[0m\u001b[0;34m\u001b[0m\u001b[0m\n\u001b[1;32m      5\u001b[0m \u001b[0;32mfrom\u001b[0m \u001b[0mdev_code\u001b[0m\u001b[0;34m.\u001b[0m\u001b[0mBN\u001b[0m \u001b[0;32mimport\u001b[0m \u001b[0mBuilding_BN\u001b[0m\u001b[0;34m,\u001b[0m \u001b[0mSeaside_buildings_BN\u001b[0m\u001b[0;34m\u001b[0m\u001b[0;34m\u001b[0m\u001b[0m\n",
      "\u001b[0;31mModuleNotFoundError\u001b[0m: No module named 'h5py'"
     ]
    }
   ],
   "source": [
    "import os\n",
    "import pandas as pd\n",
    "import h5py\n",
    "from pyincore import IncoreClient, Dataset\n",
    "from dev_code.BN import Building_BN, Seaside_buildings_BN\n",
    "from dev_code.map_creation_backend import map_creation_backend"
   ]
  },
  {
   "cell_type": "markdown",
   "metadata": {},
   "source": [
    "#### Specifying required paths and data locations"
   ]
  },
  {
   "cell_type": "code",
   "execution_count": null,
   "metadata": {},
   "outputs": [],
   "source": [
    "prcl_input = 'prcl_input.csv' # input parcel filename\n",
    "cmty_input = 'cmty_input.csv' # input community filename\n",
    "outfile_name = 'SBNo.csv'     # output filename\n",
    "n_parcels = 4769               # number of parcels to evaluate (0-4769)\n",
    "n_process = 4                 # number of processes to divide code into (runs in parallel)\n",
    "\n",
    "cpt_path = os.path.join(os.getcwd(), 'CPTs.h5')"
   ]
  },
  {
   "cell_type": "markdown",
   "metadata": {},
   "source": [
    "#### Reading in data and printing some information"
   ]
  },
  {
   "cell_type": "code",
   "execution_count": null,
   "metadata": {},
   "outputs": [],
   "source": [
    "guids = list(h5py.File(cpt_path, 'r').keys())\n",
    "guids = guids[0:n_parcels]\n",
    "\n",
    "prcl_data = pd.read_csv(prcl_input)\n",
    "prcl_data = prcl_data[prcl_data['guid'].isin(guids)]\n",
    "cmty_data = pd.read_csv(cmty_input, index_col=0)"
   ]
  },
  {
   "cell_type": "markdown",
   "metadata": {},
   "source": [
    "#### Running the SBN"
   ]
  },
  {
   "cell_type": "code",
   "execution_count": null,
   "metadata": {
    "scrolled": false
   },
   "outputs": [],
   "source": [
    "SBBN = Seaside_buildings_BN(cpt_path)\n",
    "\n",
    "# --- evaluating BNs\n",
    "out_data = SBBN.evaluate_BNs(input_data_bldg = prcl_data, \n",
    "                            input_data_cmty = cmty_data,\n",
    "                            n_process = n_process,\n",
    "                            outfilename = outfile_name, \n",
    "                            write_out=True\n",
    "                            )"
   ]
  },
  {
   "cell_type": "markdown",
   "metadata": {},
   "source": [
    "#### Plotting Spatially\n",
    "This portion of the notebook plots the results spatially in an interactive map. Each parcel is color coded according to it's robustness, rapidity, or resilience.\n",
    "\n",
    "<img src=\"images/colorbar.png\" width=\"500\"/>"
   ]
  },
  {
   "cell_type": "code",
   "execution_count": null,
   "metadata": {
    "scrolled": false
   },
   "outputs": [],
   "source": [
    "client = IncoreClient()\n",
    "result_file = os.path.join(os.getcwd(), 'SBNo.csv')\n",
    "m = map_creation_backend(client)\n",
    "\n",
    "bldg_inventory_id = '5d927ab2b9219c06ae8d313c' # polygons\n",
    "m.load_remote_input_dataset(\"buildings\", bldg_inventory_id)\n",
    "\n",
    "m.set_parameter(\"result_file\", result_file)\n",
    "m.set_parameter(\"column_name\", 'resilience')\n",
    "\n",
    "m = m.run()  # generating maps\n",
    "m            # showing maps in notebook"
   ]
  },
  {
   "cell_type": "code",
   "execution_count": null,
   "metadata": {},
   "outputs": [],
   "source": []
  }
 ],
 "metadata": {
  "kernelspec": {
   "display_name": "Python 3",
   "language": "python",
   "name": "python3"
  },
  "language_info": {
   "codemirror_mode": {
    "name": "ipython",
    "version": 3
   },
   "file_extension": ".py",
   "mimetype": "text/x-python",
   "name": "python",
   "nbconvert_exporter": "python",
   "pygments_lexer": "ipython3",
   "version": "3.7.10"
  }
 },
 "nbformat": 4,
 "nbformat_minor": 4
}
